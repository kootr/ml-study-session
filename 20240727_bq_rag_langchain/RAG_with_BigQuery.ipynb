{
 "cells": [
  {
   "cell_type": "markdown",
   "id": "fc85d212",
   "metadata": {},
   "source": [
    "# RAG with BigQuery \n",
    "## 参考にした記事\n",
    "https://cloud.google.com/blog/ja/products/ai-machine-learning/rag-with-bigquery-and-langchain-in-cloud\n",
    "## 参考にしたNotebook\n",
    "https://github.com/GoogleCloudPlatform/generative-ai/blob/b5c2d85557d877bc99bf18fdf549423dc54bb108/gemini/use-cases/retrieval-augmented-generation/rag_qna_langchain_bigquery_vector_search.ipynb"
   ]
  },
  {
   "cell_type": "markdown",
   "id": "228cdf59-4d9e-49fc-9cca-4b9527b73ba4",
   "metadata": {},
   "source": [
    "# 準備"
   ]
  },
  {
   "cell_type": "code",
   "execution_count": null,
   "id": "ad1d3ffe",
   "metadata": {
    "scrolled": true
   },
   "outputs": [],
   "source": [
    "# Install LangChain and Google Cloud BigQuery\n",
    "!pip install --upgrade --quiet tiktoken langchain langchain_google_vertexai google-cloud-bigquery pypdf langchain_community langchain_google_community \n",
    "\n",
    "# For testing part\n",
    "!pip install --upgrade db-dtypes pandas\n",
    "\n",
    "\n",
    "# Installing gcloud command if needed \n",
    "# !brew install google-cloud-sdk"
   ]
  },
  {
   "cell_type": "code",
   "execution_count": null,
   "id": "633a9c19",
   "metadata": {},
   "outputs": [],
   "source": [
    "# Automatically restart kernel after installs so that your environment can access the new packages\n",
    "import IPython\n",
    "\n",
    "app = IPython.Application.instance()\n",
    "app.kernel.do_shutdown(True)"
   ]
  },
  {
   "cell_type": "code",
   "execution_count": 1,
   "id": "20bbfbc7",
   "metadata": {
    "scrolled": true
   },
   "outputs": [
    {
     "name": "stdout",
     "output_type": "stream",
     "text": [
      "Your browser has been opened to visit:\n",
      "\n",
      "    https://accounts.google.com/o/oauth2/auth?response_type=code&client_id=764086051850-6qr4p6gpi6hn506pt8ejuq83di341hur.apps.googleusercontent.com&redirect_uri=http%3A%2F%2Flocalhost%3A8085%2F&scope=openid+https%3A%2F%2Fwww.googleapis.com%2Fauth%2Fuserinfo.email+https%3A%2F%2Fwww.googleapis.com%2Fauth%2Fcloud-platform+https%3A%2F%2Fwww.googleapis.com%2Fauth%2Fsqlservice.login&state=sxNfwzQvadWys8stjetY6QNmcPGecK&access_type=offline&code_challenge=XylFauBTAC4DCm3_VEZ12fqmohRNSYfG5F-6OMfc6Bo&code_challenge_method=S256\n",
      "\n",
      "\n",
      "Credentials saved to file: [/Users/kotaro/.config/gcloud/application_default_credentials.json]\n",
      "\n",
      "These credentials will be used by any library that requests Application Default Credentials (ADC).\n",
      "\n",
      "Quota project \"ml-session\" was added to ADC which can be used by Google client libraries for billing and quota. Note that some services may still bill the project owning the resource.\n"
     ]
    }
   ],
   "source": [
    "!gcloud auth application-default login"
   ]
  },
  {
   "cell_type": "code",
   "execution_count": 2,
   "id": "3d664e32-9fd5-41ed-957f-389ba5213a92",
   "metadata": {
    "id": "3d664e32-9fd5-41ed-957f-389ba5213a92"
   },
   "outputs": [],
   "source": [
    "from google.cloud import bigquery\n",
    "import pandas as pd"
   ]
  },
  {
   "cell_type": "code",
   "execution_count": 3,
   "id": "599ff98c",
   "metadata": {},
   "outputs": [
    {
     "name": "stdout",
     "output_type": "stream",
     "text": [
      "Updated property [core/project].\n"
     ]
    }
   ],
   "source": [
    "PROJECT_ID = \"ml-session\" \n",
    "# PROJECT_ID = \"[your-project-id]\"\n",
    "\n",
    "# Set the project id\n",
    "!gcloud config set project {PROJECT_ID}"
   ]
  },
  {
   "cell_type": "code",
   "execution_count": 4,
   "id": "4a37e189",
   "metadata": {},
   "outputs": [],
   "source": [
    "REGION = \"US\""
   ]
  },
  {
   "cell_type": "code",
   "execution_count": 5,
   "id": "f5699cf1-1ca4-4c6e-90d2-105e237fe1aa",
   "metadata": {},
   "outputs": [
    {
     "name": "stdout",
     "output_type": "stream",
     "text": [
      "\n",
      "Credentials saved to file: [/Users/kotaro/.config/gcloud/application_default_credentials.json]\n",
      "\n",
      "These credentials will be used by any library that requests Application Default Credentials (ADC).\n",
      "\n",
      "Quota project \"ml-session\" was added to ADC which can be used by Google client libraries for billing and quota. Note that some services may still bill the project owning the resource.\n"
     ]
    }
   ],
   "source": [
    "!gcloud auth application-default set-quota-project {PROJECT_ID}"
   ]
  },
  {
   "cell_type": "code",
   "execution_count": 6,
   "id": "741f3f20-a100-4309-9c67-ad2764d74f3b",
   "metadata": {
    "id": "741f3f20-a100-4309-9c67-ad2764d74f3b"
   },
   "outputs": [],
   "source": [
    "client = bigquery.Client(location=REGION, project=PROJECT_ID)"
   ]
  },
  {
   "cell_type": "code",
   "execution_count": null,
   "id": "d63eec61",
   "metadata": {},
   "outputs": [],
   "source": [
    "client"
   ]
  },
  {
   "cell_type": "markdown",
   "id": "f1afd816-33f6-4fec-8e0c-8c9ef3396113",
   "metadata": {},
   "source": [
    "# 動作確認のためのテストクエリ"
   ]
  },
  {
   "cell_type": "code",
   "execution_count": null,
   "id": "e1436d8f-ca1b-49e6-8b3a-045c5dc756bf",
   "metadata": {
    "colab": {
     "base_uri": "https://localhost:8080/",
     "height": 206
    },
    "id": "e1436d8f-ca1b-49e6-8b3a-045c5dc756bf",
    "outputId": "eeb47947-13c2-4723-ce34-40bf427beea5"
   },
   "outputs": [],
   "source": [
    "\n",
    "query = \"\"\"\n",
    "SELECT\n",
    "  vendor_id,\n",
    "  passenger_count,\n",
    "  trip_distance,\n",
    "  rate_code,\n",
    "  payment_type,\n",
    "  total_amount,\n",
    "  tip_amount\n",
    "FROM\n",
    "  `bigquery-public-data.new_york_taxi_trips.tlc_yellow_trips_2018`\n",
    "WHERE tip_amount >= 0\n",
    "LIMIT 100\n",
    "\"\"\"\n",
    "query_job = client.query(\n",
    "    query,\n",
    "     location=\"US\",\n",
    ")\n",
    "\n",
    "df = query_job.to_dataframe()\n",
    "df.head(5)"
   ]
  },
  {
   "cell_type": "markdown",
   "id": "0390d3bb-104c-4805-9f29-3e68fc2c29e1",
   "metadata": {},
   "source": [
    "# まずはデータセットを作成"
   ]
  },
  {
   "cell_type": "code",
   "execution_count": 7,
   "id": "yjpJ4GQCgA5A",
   "metadata": {
    "id": "yjpJ4GQCgA5A",
    "scrolled": true
   },
   "outputs": [
    {
     "name": "stdout",
     "output_type": "stream",
     "text": [
      "Created dataset ml-session.session37\n"
     ]
    }
   ],
   "source": [
    "DATASET_ID = \"session37\"\n",
    "dataset = bigquery.Dataset(f'{PROJECT_ID}.{DATASET_ID}')\n",
    "dataset.location = \"US\"\n",
    "\n",
    "# dataset = client.create_dataset(dataset)  # Make an API request.\n",
    "print(\"Created dataset {}.{}\".format(client.project, dataset.dataset_id))"
   ]
  },
  {
   "cell_type": "code",
   "execution_count": 51,
   "id": "0d4d655d-cb13-4045-a51e-17400f6945ea",
   "metadata": {
    "scrolled": true
   },
   "outputs": [
    {
     "name": "stderr",
     "output_type": "stream",
     "text": [
      "I0000 00:00:1721908423.454232 3738897 check_gcp_environment_no_op.cc:29] ALTS: Platforms other than Linux and Windows are not supported\n"
     ]
    }
   ],
   "source": [
    "from langchain_google_vertexai import VertexAIEmbeddings\n",
    "# https://api.python.langchain.com/en/latest/embeddings/langchain_google_vertexai.embeddings.VertexAIEmbeddings.html\n",
    "# モデル\n",
    "# https://cloud.google.com/vertex-ai/generative-ai/docs/learn/model-versions?hl=ja#embeddings_stable_model_versions\n",
    "embedding_model = VertexAIEmbeddings(\n",
    "    # model_name=\"textembedding-gecko@latest\", project=PROJECT_ID\n",
    "    model_name=\"textembedding-gecko-multilingual@latest\", project=PROJECT_ID # 多言語対応\n",
    ")"
   ]
  },
  {
   "cell_type": "markdown",
   "id": "1b0a13e1-7905-473e-8b6d-7e1fae581824",
   "metadata": {},
   "source": [
    "# Vector Storeの作成\n",
    "# Store フェーズ"
   ]
  },
  {
   "cell_type": "code",
   "execution_count": 52,
   "id": "9f6cb4a1-767d-4f66-920b-5f0714c78220",
   "metadata": {},
   "outputs": [
    {
     "name": "stderr",
     "output_type": "stream",
     "text": [
      "I0000 00:00:1721908430.675501 3738897 work_stealing_thread_pool.cc:320] WorkStealingThreadPoolImpl::PrepareFork\n",
      "I0000 00:00:1721908431.057870 3779092 check_gcp_environment_no_op.cc:29] ALTS: Platforms other than Linux and Windows are not supported\n",
      "I0000 00:00:1721908431.058829 3779092 check_gcp_environment_no_op.cc:29] ALTS: Platforms other than Linux and Windows are not supported\n"
     ]
    },
    {
     "name": "stdout",
     "output_type": "stream",
     "text": [
      "BigQuery table ml-session.session37.internal_info_new2 initialized/validated as persistent storage. Access via BigQuery console:\n",
      " https://console.cloud.google.com/bigquery?project=ml-session&ws=!1m5!1m4!4m3!1sml-session!2ssession37!3sinternal_info_new2\n"
     ]
    }
   ],
   "source": [
    "from langchain_google_community import BigQueryVectorStore\n",
    "# https://api.python.langchain.com/en/latest/bq_storage_vectorstores/langchain_google_community.bq_storage_vectorstores.bigquery.BigQueryVectorStore.html\n",
    "# A vector store implementation that utilizes BigQuery and BigQuery Vector Search.\n",
    "# This class provides efficient storage and retrieval of documents with vector embeddings within BigQuery. It is particularly indicated for prototyping, due the serverless nature of BigQuery, and batch retrieval. It supports similarity search, filtering, and batch operations through batch_search method. Optionally, this class can leverage a Vertex AI Feature Store for online serving through the to_vertex_fs_vector_store method.\n",
    "\n",
    "\n",
    "TABLE = \"internal_info_new2\"\n",
    "\n",
    "bq_vector_store = BigQueryVectorStore(\n",
    "    project_id=PROJECT_ID,\n",
    "    dataset_name=DATASET_ID,\n",
    "    table_name=TABLE,\n",
    "    location=REGION,\n",
    "    embedding=embedding_model,\n",
    ")\n",
    "\n",
    "all_texts = [\n",
    "    \"6月23日は創立記念日\",\n",
    "    \"開発部の内線番号は57\",\n",
    "    \"法務部の内線番号は55\",\n",
    "    \"有給休暇は年間20日\",\n",
    "    \"大阪支社の住所は...\",\n",
    "    \"東京本社の住所は...\",\n",
    "]\n",
    "\n",
    "metadatas = [{\"len\": len(t)} for t in all_texts]\n",
    "# Run more texts through the embeddings and add to the vectorstore.\n",
    "bq_vector_store.add_texts(all_texts, metadatas=metadatas)"
   ]
  },
  {
   "cell_type": "code",
   "execution_count": 21,
   "id": "baee4e69-352a-43eb-ae48-d40240229be5",
   "metadata": {
    "scrolled": true
   },
   "outputs": [
    {
     "data": {
      "text/plain": [
       "[Document(metadata={'doc_id': '4c3824152b954269b5666671e23732fd', 'len': 10, 'score': 0.2807292149237709}, page_content='有給休暇は年間20日')]"
      ]
     },
     "execution_count": 21,
     "metadata": {},
     "output_type": "execute_result"
    }
   ],
   "source": [
    "# Search for top k docs most similar to input query.\n",
    "bq_vector_store.similarity_search(\n",
    "    \"有給休暇は何日ですか？\", k=1\n",
    ")"
   ]
  },
  {
   "cell_type": "markdown",
   "id": "72286de4-7174-4c18-afe3-a276cdc688c9",
   "metadata": {},
   "source": [
    "# Retrieval フェーズ"
   ]
  },
  {
   "cell_type": "code",
   "execution_count": 42,
   "id": "df7e948a-f5b5-42b2-b92e-e13c2619bdfb",
   "metadata": {},
   "outputs": [],
   "source": [
    "# Return VectorStoreRetriever initialized from this VectorStore.\n",
    "retriever = bq_vector_store.as_retriever(search_kwargs={'k': 1})"
   ]
  },
  {
   "cell_type": "code",
   "execution_count": 27,
   "id": "59557836-32cb-465d-bbd5-6e116eaa7812",
   "metadata": {},
   "outputs": [
    {
     "data": {
      "text/plain": [
       "VectorStoreRetriever(tags=['BigQueryVectorStore', 'VertexAIEmbeddings'], vectorstore=BigQueryVectorStore(embedding=VertexAIEmbeddings(client=<vertexai.language_models.TextEmbeddingModel object at 0x1212fee00>, async_client=None, project='ml-session', location='us-central1', request_parallelism=5, max_retries=6, stop=None, model_name='textembedding-gecko-multilingual@latest', model_family=None, full_model_name=None, client_options=ClientOptions: {'api_endpoint': 'us-central1-aiplatform.googleapis.com', 'client_cert_source': None, 'client_encrypted_cert_source': None, 'quota_project_id': None, 'credentials_file': None, 'scopes': None, 'api_key': None, 'api_audience': None, 'universe_domain': None}, api_endpoint=None, api_transport=None, default_metadata=(), additional_headers=None, client_cert_source=None, credentials=None, client_preview=None, temperature=None, max_output_tokens=None, top_p=None, top_k=None, n=1, streaming=False, safety_settings=None, tuned_model_name=None, instance={'max_batch_size': 250, 'batch_size': 250, 'min_batch_size': 5, 'min_good_batch_size': 6, 'lock': <unlocked _thread.lock object at 0x145020f80>, 'batch_size_validated': False, 'task_executor': <concurrent.futures.thread.ThreadPoolExecutor object at 0x1212ff370>, 'get_embeddings_with_retry': <function _TextEmbeddingModel.get_embeddings at 0x14775c670>}), project_id='ml-session', dataset_name='session37', table_name='internal_info_new2', location='US', content_field='content', embedding_field='embedding', doc_id_field='doc_id', credentials=None, embedding_dimension=768, extra_fields={'len': 'INTEGER'}, table_schema={'doc_id': 'STRING', 'content': 'STRING', 'embedding': 'FLOAT', 'len': 'INTEGER'}, model_config={'arbitrary_types_allowed': True}, distance_type='EUCLIDEAN', _logger=<VertexLogger langchain_google_community.bq_storage_vectorstores._base (INFO)>, _bq_client=<google.cloud.bigquery.client.Client object at 0x1212feda0>, _full_table_id='ml-session.session37.internal_info_new2', _creating_index=False, _have_index=False, _last_index_check=datetime.datetime(1, 1, 1, 0, 0)), search_kwargs={'k': 1})"
      ]
     },
     "execution_count": 27,
     "metadata": {},
     "output_type": "execute_result"
    }
   ],
   "source": [
    "retriever"
   ]
  },
  {
   "cell_type": "markdown",
   "id": "f482f1dd-91d2-4614-bb8f-cfcca16d16d2",
   "metadata": {},
   "source": [
    "## 回答\n",
    "`chain.invoke({\"input\": question})` を実行すると、\n",
    "\n",
    "1. 検索クエリがretrieverに渡される\n",
    "1. vector store で検索が実行される。\n",
    "1. 関連するドキュメントのチャンクが返される。\n",
    "1. 得られたチャンクはLLMが使用するプロンプトにコンテキストとして使用される。\n",
    "1. LLMが回答を出力する \n"
   ]
  },
  {
   "cell_type": "code",
   "execution_count": 62,
   "id": "1032e625-8790-43d1-98c3-ed82808a7e91",
   "metadata": {},
   "outputs": [
    {
     "name": "stderr",
     "output_type": "stream",
     "text": [
      "I0000 00:00:1721908897.495893 3784711 check_gcp_environment_no_op.cc:29] ALTS: Platforms other than Linux and Windows are not supported\n"
     ]
    },
    {
     "name": "stdout",
     "output_type": "stream",
     "text": [
      "質問:有給休暇は年間何日ですか？\n",
      "回答:年20日です。\n",
      "参考情報:有給休暇は年間20日\n"
     ]
    }
   ],
   "source": [
    "from langchain.chains import create_retrieval_chain\n",
    "from langchain_google_vertexai import VertexAI\n",
    "\n",
    "\n",
    "from langchain.chains import create_retrieval_chain\n",
    "from langchain.chains.combine_documents import create_stuff_documents_chain\n",
    "from langchain_core.prompts import ChatPromptTemplate\n",
    "\n",
    "\n",
    "llm = VertexAI(model_name=\"gemini-pro\")\n",
    "\n",
    "\n",
    "system_prompt = (\n",
    "    \"与えられた参考情報をもとに回答してください. \"\n",
    "    \"わからなければ「わからない」と答えてください\"\n",
    "    \"参考情報: {context}\"\n",
    ")\n",
    "prompt = ChatPromptTemplate.from_messages(\n",
    "    [\n",
    "        (\"system\", system_prompt),\n",
    "        (\"human\", \"{input}\"),\n",
    "    ]\n",
    ")\n",
    "\n",
    "question = \"有給休暇は年間何日ですか？\"\n",
    "\n",
    "question_answer_chain = create_stuff_documents_chain(llm, prompt)\n",
    "chain = create_retrieval_chain(retriever, question_answer_chain)\n",
    "\n",
    "result = chain.invoke({\"input\": question})\n",
    "\n",
    "print(f'質問:{result[\"input\"]}')\n",
    "print(f'回答:{result[\"answer\"]}')\n",
    "print(f'参考情報:{result[\"context\"][0].page_content}')\n"
   ]
  },
  {
   "cell_type": "code",
   "execution_count": 60,
   "id": "c5ea7b36-9c63-46bf-abc2-aad9367961f1",
   "metadata": {},
   "outputs": [
    {
     "data": {
      "text/plain": [
       "'有給休暇は年間20日'"
      ]
     },
     "execution_count": 60,
     "metadata": {},
     "output_type": "execute_result"
    }
   ],
   "source": [
    "result[\"context\"][0].page_content"
   ]
  },
  {
   "cell_type": "code",
   "execution_count": null,
   "id": "fec33dc1-75c4-4940-9854-7ea3acd90382",
   "metadata": {},
   "outputs": [],
   "source": []
  }
 ],
 "metadata": {
  "colab": {
   "collapsed_sections": [],
   "include_colab_link": true,
   "name": "bq_recommendation_mf.ipynb",
   "provenance": []
  },
  "environment": {
   "kernel": "python3",
   "name": "managed-notebooks.m90",
   "type": "gcloud",
   "uri": "gcr.io/deeplearning-platform-release/base-cu110:latest"
  },
  "kernelspec": {
   "display_name": "Python 3 (ipykernel)",
   "language": "python",
   "name": "python3"
  },
  "language_info": {
   "codemirror_mode": {
    "name": "ipython",
    "version": 3
   },
   "file_extension": ".py",
   "mimetype": "text/x-python",
   "name": "python",
   "nbconvert_exporter": "python",
   "pygments_lexer": "ipython3",
   "version": "3.10.6"
  }
 },
 "nbformat": 4,
 "nbformat_minor": 5
}
