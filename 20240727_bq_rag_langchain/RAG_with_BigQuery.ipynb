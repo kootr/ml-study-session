{
 "cells": [
  {
   "cell_type": "markdown",
   "id": "fc85d212",
   "metadata": {},
   "source": [
    "# RAG with BigQuery \n",
    "## 参考にした記事\n",
    "https://cloud.google.com/blog/ja/products/ai-machine-learning/rag-with-bigquery-and-langchain-in-cloud\n",
    "## 参考にしたNotebook\n",
    "https://github.com/GoogleCloudPlatform/generative-ai/blob/b5c2d85557d877bc99bf18fdf549423dc54bb108/gemini/use-cases/retrieval-augmented-generation/rag_qna_langchain_bigquery_vector_search.ipynb"
   ]
  },
  {
   "cell_type": "markdown",
   "id": "228cdf59-4d9e-49fc-9cca-4b9527b73ba4",
   "metadata": {},
   "source": [
    "# 準備"
   ]
  },
  {
   "cell_type": "code",
   "execution_count": null,
   "id": "ad1d3ffe",
   "metadata": {
    "scrolled": true
   },
   "outputs": [],
   "source": [
    "# Install LangChain and Google Cloud BigQuery\n",
    "!pip install --upgrade --quiet tiktoken langchain langchain_google_vertexai google-cloud-bigquery pypdf langchain_community langchain_google_community \n",
    "\n",
    "# For testing part\n",
    "!pip install --upgrade db-dtypes pandas\n",
    "\n",
    "\n",
    "# Installing gcloud command if needed \n",
    "# !brew install google-cloud-sdk"
   ]
  },
  {
   "cell_type": "code",
   "execution_count": null,
   "id": "633a9c19",
   "metadata": {},
   "outputs": [],
   "source": [
    "# Automatically restart kernel after installs so that your environment can access the new packages\n",
    "import IPython\n",
    "\n",
    "app = IPython.Application.instance()\n",
    "app.kernel.do_shutdown(True)"
   ]
  },
  {
   "cell_type": "code",
   "execution_count": null,
   "id": "20bbfbc7",
   "metadata": {
    "scrolled": true
   },
   "outputs": [],
   "source": [
    "!gcloud auth application-default login"
   ]
  },
  {
   "cell_type": "code",
   "execution_count": null,
   "id": "3d664e32-9fd5-41ed-957f-389ba5213a92",
   "metadata": {
    "id": "3d664e32-9fd5-41ed-957f-389ba5213a92"
   },
   "outputs": [],
   "source": [
    "from google.cloud import bigquery\n",
    "import pandas as pd"
   ]
  },
  {
   "cell_type": "code",
   "execution_count": null,
   "id": "599ff98c",
   "metadata": {},
   "outputs": [],
   "source": [
    "PROJECT_ID = \"ml-session\" \n",
    "# PROJECT_ID = \"[your-project-id]\"\n",
    "REGION = \"US\"\n",
    "\n",
    "# Set the project id\n",
    "!gcloud config set project {PROJECT_ID}"
   ]
  },
  {
   "cell_type": "code",
   "execution_count": null,
   "id": "4a37e189",
   "metadata": {},
   "outputs": [],
   "source": []
  },
  {
   "cell_type": "code",
   "execution_count": null,
   "id": "f5699cf1-1ca4-4c6e-90d2-105e237fe1aa",
   "metadata": {},
   "outputs": [],
   "source": [
    "!gcloud auth application-default set-quota-project {PROJECT_ID}"
   ]
  },
  {
   "cell_type": "code",
   "execution_count": null,
   "id": "741f3f20-a100-4309-9c67-ad2764d74f3b",
   "metadata": {
    "id": "741f3f20-a100-4309-9c67-ad2764d74f3b"
   },
   "outputs": [],
   "source": [
    "client = bigquery.Client(location=REGION, project=PROJECT_ID)"
   ]
  },
  {
   "cell_type": "code",
   "execution_count": null,
   "id": "d63eec61",
   "metadata": {},
   "outputs": [],
   "source": [
    "client"
   ]
  },
  {
   "cell_type": "markdown",
   "id": "f1afd816-33f6-4fec-8e0c-8c9ef3396113",
   "metadata": {},
   "source": [
    "# 動作確認のためのテストクエリ"
   ]
  },
  {
   "cell_type": "code",
   "execution_count": null,
   "id": "fa73f474-e9ae-45a1-be61-aea0e6ebf2a6",
   "metadata": {},
   "outputs": [],
   "source": [
    "# https://console.cloud.google.com/bigquery"
   ]
  },
  {
   "cell_type": "code",
   "execution_count": null,
   "id": "e1436d8f-ca1b-49e6-8b3a-045c5dc756bf",
   "metadata": {
    "colab": {
     "base_uri": "https://localhost:8080/",
     "height": 206
    },
    "id": "e1436d8f-ca1b-49e6-8b3a-045c5dc756bf",
    "outputId": "eeb47947-13c2-4723-ce34-40bf427beea5"
   },
   "outputs": [],
   "source": [
    "\n",
    "query = \"\"\"\n",
    "SELECT\n",
    "  vendor_id,\n",
    "  passenger_count,\n",
    "  trip_distance,\n",
    "  rate_code,\n",
    "  payment_type,\n",
    "  total_amount,\n",
    "  tip_amount\n",
    "FROM\n",
    "  `bigquery-public-data.new_york_taxi_trips.tlc_yellow_trips_2018`\n",
    "WHERE tip_amount >= 0\n",
    "LIMIT 100\n",
    "\"\"\"\n",
    "query_job = client.query(\n",
    "    query,\n",
    "     location=\"US\",\n",
    ")\n",
    "\n",
    "df = query_job.to_dataframe()\n",
    "df.head(5)"
   ]
  },
  {
   "cell_type": "markdown",
   "id": "0390d3bb-104c-4805-9f29-3e68fc2c29e1",
   "metadata": {},
   "source": [
    "# まずはデータセットを作成"
   ]
  },
  {
   "cell_type": "code",
   "execution_count": null,
   "id": "yjpJ4GQCgA5A",
   "metadata": {
    "id": "yjpJ4GQCgA5A",
    "scrolled": true
   },
   "outputs": [],
   "source": [
    "DATASET_ID = \"session37\"\n",
    "dataset = bigquery.Dataset(f'{PROJECT_ID}.{DATASET_ID}')\n",
    "dataset.location = \"US\"\n",
    "\n",
    "dataset = client.create_dataset(dataset)  # Make an API request.\n",
    "print(\"Created dataset {}.{}\".format(client.project, dataset.dataset_id))"
   ]
  },
  {
   "cell_type": "code",
   "execution_count": null,
   "id": "0d4d655d-cb13-4045-a51e-17400f6945ea",
   "metadata": {
    "scrolled": true
   },
   "outputs": [],
   "source": []
  },
  {
   "cell_type": "markdown",
   "id": "1b0a13e1-7905-473e-8b6d-7e1fae581824",
   "metadata": {},
   "source": [
    "# Store フェーズ　(Vector Storeを作成し外部情報をベクトルストアに保存)"
   ]
  },
  {
   "cell_type": "code",
   "execution_count": null,
   "id": "dd308e78-d1f3-4b27-8901-d78c863c01f6",
   "metadata": {
    "scrolled": true
   },
   "outputs": [],
   "source": [
    "from langchain_google_vertexai import VertexAIEmbeddings\n",
    "# https://api.python.langchain.com/en/latest/embeddings/langchain_google_vertexai.embeddings.VertexAIEmbeddings.html\n",
    "\n",
    "# モデル\n",
    "# https://cloud.google.com/vertex-ai/generative-ai/docs/learn/model-versions?hl=ja#embeddings_stable_model_versions\n",
    "embedding_model = VertexAIEmbeddings(\n",
    "    # model_name=\"textembedding-gecko@latest\", project=PROJECT_ID\n",
    "    model_name=\"textembedding-gecko-multilingual@latest\", project=PROJECT_ID # 多言語対応 768 次元\n",
    ")"
   ]
  },
  {
   "cell_type": "code",
   "execution_count": null,
   "id": "7715e0cb-6be7-4aa6-a5c6-31ec59819e8a",
   "metadata": {},
   "outputs": [],
   "source": [
    "embedding_model"
   ]
  },
  {
   "cell_type": "code",
   "execution_count": null,
   "id": "9f6cb4a1-767d-4f66-920b-5f0714c78220",
   "metadata": {},
   "outputs": [],
   "source": [
    "from langchain_google_community import BigQueryVectorStore\n",
    "# https://api.python.langchain.com/en/latest/bq_storage_vectorstores/langchain_google_community.bq_storage_vectorstores.bigquery.BigQueryVectorStore.html\n",
    "\n",
    "# A vector store implementation that utilizes BigQuery and BigQuery Vector Search.\n",
    "# This class provides efficient storage and retrieval of documents with vector embeddings within BigQuery. It is particularly indicated for prototyping, due the serverless nature of BigQuery, and batch retrieval. It supports similarity search, filtering, and batch operations through batch_search method. Optionally, this class can leverage a Vertex AI Feature Store for online serving through the to_vertex_fs_vector_store method.\n",
    "\n",
    "\n",
    "TABLE = \"internal_info\"\n",
    "\n",
    "bq_vector_store = BigQueryVectorStore(\n",
    "    project_id=PROJECT_ID,\n",
    "    dataset_name=DATASET_ID,\n",
    "    table_name=TABLE,\n",
    "    location=REGION,\n",
    "    embedding=embedding_model,\n",
    ")"
   ]
  },
  {
   "cell_type": "code",
   "execution_count": null,
   "id": "e6293247-c66e-4184-9acb-ade1e4092e55",
   "metadata": {},
   "outputs": [],
   "source": [
    "all_texts = [\n",
    "    \"6月23日は創立記念日\",\n",
    "    \"開発部の内線番号は57\",\n",
    "    \"法務部の内線番号は55\",\n",
    "    \"有給休暇は年間20日\",\n",
    "    \"大阪支社の住所は...\",\n",
    "    \"東京本社の住所は...\",\n",
    "]\n",
    "\n",
    "metadatas = [{\"len\": len(t)} for t in all_texts]\n",
    "# Run more texts through the embeddings and add to the vectorstore.\n",
    "# https://api.python.langchain.com/en/latest/bq_storage_vectorstores/langchain_google_community.bq_storage_vectorstores.bigquery.BigQueryVectorStore.html#langchain_google_community.bq_storage_vectorstores.bigquery.BigQueryVectorStore.add_texts\n",
    "bq_vector_store.add_texts(all_texts, metadatas=metadatas)"
   ]
  },
  {
   "cell_type": "code",
   "execution_count": null,
   "id": "baee4e69-352a-43eb-ae48-d40240229be5",
   "metadata": {
    "scrolled": true
   },
   "outputs": [],
   "source": [
    "# Search for top k docs most similar to input query.\n",
    "bq_vector_store.similarity_search(\n",
    "    \"有給休暇は何日ですか？\", k=1\n",
    ")"
   ]
  },
  {
   "cell_type": "markdown",
   "id": "72286de4-7174-4c18-afe3-a276cdc688c9",
   "metadata": {},
   "source": [
    "# Retrieval フェーズ (質問文の類似文章をベクトルストアから取得し、LLMに質問する)"
   ]
  },
  {
   "cell_type": "code",
   "execution_count": null,
   "id": "df7e948a-f5b5-42b2-b92e-e13c2619bdfb",
   "metadata": {},
   "outputs": [],
   "source": [
    "# Return VectorStoreRetriever initialized from this VectorStore.\n",
    "retriever = bq_vector_store.as_retriever(search_kwargs={'k': 1})"
   ]
  },
  {
   "cell_type": "code",
   "execution_count": null,
   "id": "59557836-32cb-465d-bbd5-6e116eaa7812",
   "metadata": {},
   "outputs": [],
   "source": [
    "retriever"
   ]
  },
  {
   "cell_type": "markdown",
   "id": "f482f1dd-91d2-4614-bb8f-cfcca16d16d2",
   "metadata": {},
   "source": [
    "## 回答\n",
    "\n",
    "`chain.invoke({\"input\": question})` を実行すると\n",
    "\n",
    "1. 検索クエリがretrieverに渡される\n",
    "1. vector store で検索が実行される。\n",
    "1. 関連するドキュメントのチャンクが返される。\n",
    "1. 得られたチャンクはLLMが使用するプロンプトにコンテキストとして使用される。\n",
    "1. LLMが回答を出力する \n"
   ]
  },
  {
   "cell_type": "code",
   "execution_count": null,
   "id": "1032e625-8790-43d1-98c3-ed82808a7e91",
   "metadata": {},
   "outputs": [],
   "source": [
    "# https://api.python.langchain.com/en/latest/chains/langchain.chains.retrieval.create_retrieval_chain.html\n",
    "# チェーンを用いてLLM の利用を含む一連の処理を一つのまとまりとして扱う\n",
    "from langchain.chains import create_retrieval_chain\n",
    "\n",
    "from langchain_google_vertexai import VertexAI\n",
    "\n",
    "from langchain.chains.combine_documents import create_stuff_documents_chain\n",
    "from langchain_core.prompts import ChatPromptTemplate\n",
    "\n",
    "\n",
    "prompt = ChatPromptTemplate.from_messages(\n",
    "    [\n",
    "        (\"system\", (\n",
    "            \"与えられた参考情報をもとに回答してください. \"\n",
    "            \"わからなければ「わからない」と答えてください\"\n",
    "            \"参考情報: {context}\"\n",
    "            )),\n",
    "        (\"human\", \"{input}\"),\n",
    "    ]\n",
    ")\n",
    "\n",
    "llm = VertexAI(model_name=\"gemini-pro\")\n",
    "\n",
    "question_answer_chain = create_stuff_documents_chain(llm, prompt)\n",
    "\n",
    "chain = create_retrieval_chain(retriever, question_answer_chain)"
   ]
  },
  {
   "cell_type": "code",
   "execution_count": null,
   "id": "b14ca1c5-e91a-46d9-bcd9-ce714704ca81",
   "metadata": {},
   "outputs": [],
   "source": [
    "question = \"有給休暇は年間何日ですか？\"\n",
    "\n",
    "result = chain.invoke({\"input\": question})\n",
    "\n",
    "print(f'質問:{result[\"input\"]}')\n",
    "print(f'LLMからの回答:{result[\"answer\"]}')\n",
    "print(f'使用した参考情報:{result[\"context\"][0].page_content}')\n"
   ]
  },
  {
   "cell_type": "code",
   "execution_count": null,
   "id": "c5ea7b36-9c63-46bf-abc2-aad9367961f1",
   "metadata": {},
   "outputs": [],
   "source": [
    "result[\"context\"][0].page_content"
   ]
  },
  {
   "cell_type": "code",
   "execution_count": null,
   "id": "fec33dc1-75c4-4940-9854-7ea3acd90382",
   "metadata": {},
   "outputs": [],
   "source": []
  }
 ],
 "metadata": {
  "colab": {
   "collapsed_sections": [],
   "include_colab_link": true,
   "name": "bq_recommendation_mf.ipynb",
   "provenance": []
  },
  "environment": {
   "kernel": "python3",
   "name": "managed-notebooks.m90",
   "type": "gcloud",
   "uri": "gcr.io/deeplearning-platform-release/base-cu110:latest"
  },
  "kernelspec": {
   "display_name": "Python 3 (ipykernel)",
   "language": "python",
   "name": "python3"
  },
  "language_info": {
   "codemirror_mode": {
    "name": "ipython",
    "version": 3
   },
   "file_extension": ".py",
   "mimetype": "text/x-python",
   "name": "python",
   "nbconvert_exporter": "python",
   "pygments_lexer": "ipython3",
   "version": "3.10.6"
  }
 },
 "nbformat": 4,
 "nbformat_minor": 5
}
