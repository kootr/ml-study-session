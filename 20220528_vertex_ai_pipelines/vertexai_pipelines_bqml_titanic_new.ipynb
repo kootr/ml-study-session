{
  "cells": [
    {
      "cell_type": "markdown",
      "metadata": {
        "id": "tvgnzT1CKxrO"
      },
      "source": [
        "## Overview\n",
        "\n",
        "The pipeline will \n",
        "\n",
        "1. Read Titanic data in Google Cloud Storage\n",
        "2. Using Dataflow and ingest into BigQuery\n",
        "3. Train a Logistic regression model to classify survived person. \n",
        "4. Evaluate the model \n",
        "\n",
        "### Dataset\n",
        "GCSに以下のバケットとフォルダを作成して、CSVファイルを配置してください。（このノートブックと同じディレクトリにある加工済みのtitanicデータ \"train_processed.csv\"です。追ってオリジナルのtitanicデータでもパイプラインが実行できるように修正予定）\n",
        "\n",
        "gs://session11/titanic/train_processed.csv"
      ]
    },
    {
      "cell_type": "markdown",
      "metadata": {
        "id": "ze4-nDLfK4pw"
      },
      "source": [
        "Google collabo での実行を想定しています。\n",
        "初期設定のあたりはこちらのノートブックを参考にしました。\n",
        "- https://github.com/GoogleCloudPlatform/vertex-ai-samples/blob/main/notebooks/official/pipelines/google_cloud_pipeline_components_bqml_text.ipynb\n"
      ]
    },
    {
      "cell_type": "code",
      "execution_count": null,
      "metadata": {
        "id": "2b4ef9b72d43",
        "vscode": {
          "languageId": "python"
        }
      },
      "outputs": [],
      "source": [
        "import os\n",
        "\n",
        "# The Google Cloud Notebook product has specific requirements\n",
        "IS_GOOGLE_CLOUD_NOTEBOOK = os.path.exists(\"/opt/deeplearning/metadata/env_version\")\n",
        "\n",
        "# Google Cloud Notebook requires dependencies to be installed with '--user'\n",
        "USER_FLAG = \"\"\n",
        "if IS_GOOGLE_CLOUD_NOTEBOOK:\n",
        "    USER_FLAG = \"--user\"\n",
        "\n",
        "if os.getenv(\"IS_TESTING\"):\n",
        "    ! touch /builder/home/.local/lib/python3.9/site-packages/google_api_core-2.7.1.dist-info/METADATA"
      ]
    },
    {
      "cell_type": "markdown",
      "metadata": {
        "id": "i7EUnXsZhAGF"
      },
      "source": [
        "### Install additional packages\n"
      ]
    },
    {
      "cell_type": "code",
      "execution_count": null,
      "metadata": {
        "id": "wyy5Lbnzg5fi",
        "vscode": {
          "languageId": "python"
        }
      },
      "outputs": [],
      "source": [
        "! pip3 install {USER_FLAG} --upgrade \"apache-beam[gcp]==2.36.0\"\n",
        "! pip3 install {USER_FLAG} --upgrade \"kfp==1.8.2\"\n",
        "! pip3 install {USER_FLAG} --upgrade \"google-cloud-aiplatform==1.10.0\"\n",
        "! pip3 install {USER_FLAG} --upgrade \"google_cloud_pipeline_components==1.0.1\""
      ]
    },
    {
      "cell_type": "markdown",
      "metadata": {
        "id": "hhq5zEbGg0XX"
      },
      "source": [
        "### Restart the kernel\n",
        "\n",
        "パッケージのインストール後にカーネルを再起動する。"
      ]
    },
    {
      "cell_type": "code",
      "execution_count": null,
      "metadata": {
        "id": "EzrelQZ22IZj",
        "vscode": {
          "languageId": "python"
        }
      },
      "outputs": [],
      "source": [
        "# Automatically restart kernel after installs\n",
        "import os\n",
        "\n",
        "if not os.getenv(\"IS_TESTING\"):\n",
        "    # Automatically restart kernel after installs\n",
        "    import IPython\n",
        "\n",
        "    app = IPython.Application.instance()\n",
        "    app.kernel.do_shutdown(True)"
      ]
    },
    {
      "cell_type": "markdown",
      "metadata": {
        "id": "dr--iN2kAylZ"
      },
      "source": [
        "### Authenticate your Google Cloud account\n",
        "\n",
        "Google collaboを使用する場合は認証が必要。"
      ]
    },
    {
      "cell_type": "code",
      "execution_count": null,
      "metadata": {
        "id": "PyQmSRbKA8r-",
        "vscode": {
          "languageId": "python"
        }
      },
      "outputs": [],
      "source": [
        "import os\n",
        "import sys\n",
        "\n",
        "IS_GOOGLE_CLOUD_NOTEBOOK = os.path.exists(\"/opt/deeplearning/metadata/env_version\")\n",
        "\n",
        "# If on Google Cloud Notebooks, then don't execute this code\n",
        "if not IS_GOOGLE_CLOUD_NOTEBOOK:\n",
        "    if \"google.colab\" in sys.modules:\n",
        "        from google.colab import auth as google_auth\n",
        "\n",
        "        google_auth.authenticate_user()\n",
        "\n",
        "    # If you are running this notebook locally, replace the string below with the\n",
        "    # path to your service account key and run this cell to authenticate your GCP\n",
        "    # account.\n",
        "    elif not os.getenv(\"IS_TESTING\"):\n",
        "        %env GOOGLE_APPLICATION_CREDENTIALS ''"
      ]
    },
    {
      "cell_type": "markdown",
      "metadata": {
        "id": "zgPO1eR3CYjk"
      },
      "source": [
        "### 環境変数の設定\n"
      ]
    },
    {
      "cell_type": "code",
      "execution_count": null,
      "metadata": {
        "colab": {
          "base_uri": "https://localhost:8080/"
        },
        "id": "MzGDU7TWdts_",
        "outputId": "e4e54f58-1730-4965-a352-831cd1f757a2",
        "vscode": {
          "languageId": "python"
        }
      },
      "outputs": [],
      "source": [
        "import google.cloud.aiplatform as vertex_ai\n",
        "\n",
        "PROJECT_NAME = \"ml-session\"  # @param {type:\"string\"}\n",
        "BUCKET_KEYWORD = \"session11\"  # @param {type:\"string\"}\n",
        "REGION = \"us-central1\"  # @param {type:\"string\"}\n",
        "ROOT_BUCKET = \"gs://\" + BUCKET_KEYWORD\n",
        "PROJECT_NAME=\"ml-session\"\n",
        "BQ_DATASET = \"session11\"\n",
        "BQ_TRAINING_TABLE = \"train\"\n",
        "BQ_TESTING_TABLE = \"test\"\n",
        "BQ_ML_MODEL = \"model_titanic\"\n",
        "JOB_NAME = \"titanic\""
      ]
    },
    {
      "cell_type": "markdown",
      "metadata": {
        "id": "NlyOjKrjCXsI"
      },
      "source": [
        "### Initialize client"
      ]
    },
    {
      "cell_type": "code",
      "execution_count": null,
      "metadata": {
        "id": "IsT5FfP0CaXt",
        "vscode": {
          "languageId": "python"
        }
      },
      "outputs": [],
      "source": [
        "vertex_ai.init(project=PROJECT_NAME, location=REGION, staging_bucket=ROOT_BUCKET)"
      ]
    },
    {
      "cell_type": "markdown",
      "metadata": {
        "id": "ZrgOD30o7HcL"
      },
      "source": [
        "## Pipeline formalization"
      ]
    },
    {
      "cell_type": "markdown",
      "metadata": {
        "id": "MI_wYYwdAZZs"
      },
      "source": [
        "### BQML components\n",
        "\n",
        "1) BigQuery で データセット session11、空のテーブル train, testを作成\n",
        "\n",
        "2) Dataflow でGCSからCSVファイルをBigQuery の上記２テーブルへロードする\n",
        "\n",
        "3) BigQuery MLでモデル作成\n",
        "\n",
        "4) 予測"
      ]
    },
    {
      "cell_type": "code",
      "execution_count": null,
      "metadata": {
        "colab": {
          "base_uri": "https://localhost:8080/"
        },
        "id": "naDZEQji06YJ",
        "outputId": "f29c4558-fa6b-431b-d979-b1a1394ff06f",
        "vscode": {
          "languageId": "python"
        }
      },
      "outputs": [],
      "source": [
        "# 現時点のこのノートブックではtestデータ \"gs://session11/titanic/test_processed.csv\" は使用しません。（今後改良して使用する予定）\n",
        "# ここはGCSからBigQuery へロードするための処理\n",
        "# https://dev.classmethod.jp/articles/cloud-dataflow_gcs2bq_python/　からコピーした\n",
        "\n",
        "%%writefile ingest_pipeline.py\n",
        "import logging\n",
        "import csv\n",
        "from datetime import datetime, timezone, timedelta\n",
        "\n",
        "import apache_beam as beam\n",
        "from apache_beam.io.gcp.bigquery import WriteToBigQuery, BigQueryDisposition\n",
        "from apache_beam.io.gcp.internal.clients import bigquery\n",
        "from apache_beam.options.pipeline_options import PipelineOptions\n",
        "from apache_beam.options.pipeline_options import StandardOptions\n",
        "from apache_beam.options.pipeline_options import SetupOptions\n",
        "from apache_beam.options.pipeline_options import GoogleCloudOptions\n",
        "\n",
        "\n",
        "class BeamOptions:\n",
        "    def __init__(self,runner):\n",
        "        self.options = PipelineOptions()\n",
        "        # GoogleCloud Option\n",
        "        self.gcloud_options = self.options.view_as(GoogleCloudOptions)\n",
        "        self.gcloud_options.job_name = \"loadtobq\"\n",
        "        self.gcloud_options.project = \"ml-session\"\n",
        "        self.gcloud_options.temp_location = \"gs://session11/tmp\" # 処理する際にGCSに一時ファイルを作成するのでその保管先のGCS URI\n",
        "        self.gcloud_options.region = \"us-central1\"\n",
        "        # Setup Option\n",
        "        self.options.view_as(SetupOptions).save_main_session = True\n",
        "        # Standard Option\n",
        "        self.options.view_as(StandardOptions).runner = runner\n",
        "\n",
        "\n",
        "\n",
        "def parse_file(element):\n",
        "   #　元ファイルのヘッダーは削除すみ\n",
        "    for line in csv.reader(\n",
        "        [element],\n",
        "        quotechar='\"',\n",
        "        delimiter=\",\",\n",
        "        quoting=csv.QUOTE_ALL,\n",
        "        skipinitialspace=True,\n",
        "    ):\n",
        "        return line\n",
        "\n",
        "\n",
        "def convert_dict_train(element):\n",
        "    return {\n",
        "        \"PassengerId\": element[0],\n",
        "        \"Survived\": element[1],\n",
        "        \"Pclass\": element[2],\n",
        "        \"Sex\": element[3],\n",
        "        \"Age\": element[4],\n",
        "        \"Fare\": element[5],\n",
        "        \"Embarked\": element[6],\n",
        "        \"Title\": element[7],\n",
        "        \"Age_Class\": element[8],\n",
        "        \"IsAlone\": element[9],\n",
        "    }\n",
        "\n",
        "def convert_dict_test(element):\n",
        "    return {\n",
        "        \"PassengerId\": element[0],\n",
        "        \"Pclass\": element[1],\n",
        "        \"Sex\": element[2],\n",
        "        \"Age\": element[3],\n",
        "        \"Fare\": element[4],\n",
        "        \"Embarked\": element[5],\n",
        "        \"Title\": element[6],\n",
        "        \"Age_Class\": element[7],\n",
        "        \"IsAlone\": element[8],\n",
        "    }\n",
        "\n",
        "def get_bigquery_schema():\n",
        "    \"\"\"\n",
        "    A function to get the BigQuery schema.\n",
        "    Returns:\n",
        "        A list of BigQuery schema.\n",
        "    \"\"\"\n",
        "\n",
        "    table_schema = bigquery.TableSchema()\n",
        "    columns = (\n",
        "        ('PassengerId', 'integer', 'nullable'),\n",
        "        ('Survived', 'integer', 'nullable'),\n",
        "        ('Pclass', 'integer', 'nullable'),\n",
        "        ('Sex', 'integer', 'nullable'),\n",
        "        ('Age', 'integer', 'nullable'),\n",
        "        ('Fare', 'integer', 'nullable'),\n",
        "        ('Embarked', 'integer', 'nullable'),\n",
        "        ('Title', 'integer', 'nullable'),\n",
        "        ('Age_Class', 'integer', 'nullable'),\n",
        "        ('IsAlone', 'integer', 'nullable'),\n",
        "        )\n",
        "\n",
        "    for column in columns:\n",
        "        column_schema = bigquery.TableFieldSchema()\n",
        "        column_schema.name = column[0]\n",
        "        column_schema.type = column[1]\n",
        "        column_schema.mode = column[2]\n",
        "        table_schema.fields.append(column_schema)\n",
        "\n",
        "    return table_schema\n",
        "\n",
        "\n",
        "def run(flag=\"train\", runner=\"DataflowRunner\"):\n",
        "\n",
        "    pipeline = beam.Pipeline(options=BeamOptions(runner).options)\n",
        "    if flag == \"train\":\n",
        "        gcs_uri=\"gs://session11/titanic/train_processed.csv\"\n",
        "        # gcs_uri=\"gs://session11/titanic/train.csv\"\n",
        "        dest_table=\"train\"\n",
        "    else:\n",
        "        gcs_uri=\"gs://session11/titanic/test_processed.csv\"\n",
        "        dest_table=\"test\"\n",
        "\n",
        "    # GCSからファイル読み込み\n",
        "    # df = beam.dataframe.io.read_csv(gcs_uri)\n",
        "    # beam.dataframe.io.to_csv(df, \"gs://session11/titanic/train_processed.csv\")\n",
        "    \n",
        "    raw_datas = pipeline | \"Read from GCS\" >> beam.io.ReadFromText(gcs_uri)\n",
        "    # 変換処理\n",
        "    if flag == \"train\":\n",
        "        tran_datas = (\n",
        "            raw_datas\n",
        "            | \"transform csv\" >> beam.Map(parse_file)\n",
        "            | \"transform dict\" >> beam.Map(convert_dict_train)\n",
        "        )\n",
        "    else:\n",
        "      tran_datas = (\n",
        "            raw_datas\n",
        "            | \"transform csv\" >> beam.Map(parse_file)\n",
        "            | \"transform dict\" >> beam.Map(convert_dict_test)\n",
        "        )\n",
        "\n",
        "    # BigQueryへデータ登録\n",
        "    tran_datas | \"Write to BigQuery\" >> WriteToBigQuery(\n",
        "        project=\"ml-session\",\n",
        "        dataset=\"session11\",\n",
        "        table=dest_table,\n",
        "        schema=get_bigquery_schema(),\n",
        "        create_disposition=BigQueryDisposition.CREATE_IF_NEEDED,\n",
        "        write_disposition=BigQueryDisposition.WRITE_TRUNCATE\n",
        "    )\n",
        "    job = pipeline.run()\n",
        "\n",
        "\n",
        "if __name__ == \"__main__\":\n",
        "    logging.getLogger().setLevel(logging.INFO)\n",
        "    run(\n",
        "        flag=\"train\",\n",
        "        # runner=\"DirectRunner\"  # ローカル実行\n",
        "        runner=\"DataflowRunner\",  # Cloud Dataflow実行\n",
        "    )"
      ]
    },
    {
      "cell_type": "code",
      "execution_count": null,
      "metadata": {
        "colab": {
          "base_uri": "https://localhost:8080/"
        },
        "id": "80DAB0bZOLmL",
        "outputId": "a00f19f5-0786-4335-a350-bdea58cbda12",
        "vscode": {
          "languageId": "python"
        }
      },
      "outputs": [],
      "source": [
        "!gsutil cp ingest_pipeline.py $ROOT_BUCKET/script/"
      ]
    },
    {
      "cell_type": "markdown",
      "metadata": {
        "id": "T2_kuUSZUBDY"
      },
      "source": [
        "#### Create BQ queries"
      ]
    },
    {
      "cell_type": "code",
      "execution_count": null,
      "metadata": {
        "id": "XdyboQnLUBDg",
        "vscode": {
          "languageId": "python"
        }
      },
      "outputs": [],
      "source": [
        "# 現時点ではtestテーブルは使用しません。（今後改良して使用する予定）\n",
        "create_bq_dataset_table_query = f\"\"\"\n",
        "CREATE SCHEMA IF NOT EXISTS `{PROJECT_NAME}.{BQ_DATASET}`;\n",
        "CREATE OR REPLACE TABLE `{PROJECT_NAME}.{BQ_DATASET}.{BQ_TRAINING_TABLE}`\n",
        "(\n",
        "  PassengerId SMALLINT,\n",
        "  Survived SMALLINT,\n",
        "  Pclass SMALLINT,\n",
        "  Sex SMALLINT,\n",
        "  Age SMALLINT,\n",
        "  Fare SMALLINT,\n",
        "  Embarked SMALLINT,\n",
        "  Title SMALLINT,\n",
        "  Age_Class SMALLINT,\n",
        "  IsAlone SMALLINT,\n",
        ");\n",
        "CREATE OR REPLACE TABLE `{PROJECT_NAME}.{BQ_DATASET}.{BQ_TESTING_TABLE}`\n",
        "(\n",
        "  PassengerId SMALLINT,\n",
        "  -- Survived SMALLINT,\n",
        "  Pclass SMALLINT,\n",
        "  Sex SMALLINT,\n",
        "  Age SMALLINT,\n",
        "  Fare SMALLINT,\n",
        "  Embarked SMALLINT,\n",
        "  Title SMALLINT,\n",
        "  Age_Class SMALLINT,\n",
        "  IsAlone SMALLINT,\n",
        ")\n",
        "\"\"\"\n",
        "\n",
        "\n",
        "create_bq_model_query = f\"\"\"\n",
        "CREATE or REPLACE MODEL `{PROJECT_NAME}.{BQ_DATASET}.{BQ_ML_MODEL}`\n",
        "OPTIONS (\n",
        "  model_type = 'logistic_reg',\n",
        "  input_label_cols=['Survived']\n",
        "  -- num_trials=20,\n",
        "  -- max_parallel_trials=2\n",
        "  ) AS (\n",
        "SELECT\n",
        "  Pclass, Title, isAlone, Age, Sex, Embarked, Fare, Age_Class, Survived\n",
        "FROM\n",
        "  `{PROJECT_NAME}.{BQ_DATASET}.{BQ_TRAINING_TABLE}`\n",
        "WHERE PassengerId BETWEEN 1 AND 712\n",
        ")\n",
        "\"\"\"\n",
        "\n",
        "create_bq_prediction_query = f\"\"\"\n",
        "SELECT\n",
        " * \n",
        "FROM\n",
        "  ML.PREDICT(MODEL `{PROJECT_NAME}.{BQ_DATASET}.{BQ_ML_MODEL}`, (\n",
        "  SELECT\n",
        "    PassengerId, Pclass, Title, Sex, Age, Fare, Embarked, IsAlone, Age_Class\n",
        "  FROM\n",
        "    --  `{PROJECT_NAME}.{BQ_DATASET}.{BQ_TESTING_TABLE}`\n",
        "    `{PROJECT_NAME}.{BQ_DATASET}.{BQ_TRAINING_TABLE}`\n",
        "  WHERE PassengerId > 712\n",
        "  )\n",
        ")\n",
        "\"\"\"\n",
        "\n",
        "create_bq_evaluate_query = f\"\"\"\n",
        "SELECT\n",
        " * \n",
        "FROM\n",
        "  ML.EVALUATE(MODEL `{PROJECT_NAME}.{BQ_DATASET}.{BQ_ML_MODEL}`, (\n",
        "  SELECT\n",
        "    Pclass, Title, Sex, Age, Fare, Embarked, IsAlone, Age_Class, Survived\n",
        "  FROM\n",
        "    `{PROJECT_NAME}.{BQ_DATASET}.{BQ_TRAINING_TABLE}`\n",
        "  WHERE PassengerId > 712\n",
        "  )\n",
        ")\n",
        "\"\"\""
      ]
    },
    {
      "cell_type": "markdown",
      "metadata": {
        "id": "OxemUVCxAiSo"
      },
      "source": [
        "### Build Pipeline"
      ]
    },
    {
      "cell_type": "markdown",
      "metadata": {
        "id": "pcSL1FHk69KT"
      },
      "source": [
        "#### Create the pipeline"
      ]
    },
    {
      "cell_type": "code",
      "execution_count": null,
      "metadata": {
        "id": "AlFXqsPIAk0l",
        "vscode": {
          "languageId": "python"
        }
      },
      "outputs": [],
      "source": [
        "from kfp.v2 import dsl, compiler\n",
        "\n",
        "@dsl.pipeline(name=\"mlops-bqml-titanic\",\n",
        "              description=\"A batch pipeline to generate RG model\",\n",
        "              pipeline_root=ROOT_BUCKET)\n",
        "def pipeline(\n",
        "    create_bq_dataset_table_query: str,\n",
        "    python_file_path: str,\n",
        "    temp_location: str = ROOT_BUCKET,\n",
        "    project: str = PROJECT_NAME,\n",
        "):\n",
        "\n",
        "    from google_cloud_pipeline_components.v1.bigquery import (\n",
        "        BigqueryQueryJobOp, BigqueryCreateModelJobOp,\n",
        "        BigqueryEvaluateModelJobOp,\n",
        "        BigqueryPredictModelJobOp)\n",
        "    from google_cloud_pipeline_components.v1.dataflow import \\\n",
        "        DataflowPythonJobOp\n",
        "    from google_cloud_pipeline_components.v1.wait_gcp_resources import \\\n",
        "        WaitGcpResourcesOp\n",
        "\n",
        "    # create the dataset, training and testing tables\n",
        "    bq_tables_op = BigqueryQueryJobOp(\n",
        "        query=create_bq_dataset_table_query,\n",
        "        project=project,\n",
        "        location=\"US\",\n",
        "    )\n",
        "\n",
        "    # run dataflow job\n",
        "    dataflow_python_training_data_op = DataflowPythonJobOp(\n",
        "        python_module_path=python_file_path,\n",
        "        project=project,\n",
        "        temp_location=temp_location,\n",
        "    ).after(bq_tables_op)\n",
        "\n",
        "    dataflow_wait_training_data_op = WaitGcpResourcesOp(\n",
        "    gcp_resources=dataflow_python_training_data_op.outputs[\"gcp_resources\"]\n",
        "        ).after(dataflow_python_training_data_op)\n",
        "\n",
        "    # create the logistic regression model\n",
        "    bq_model_op = BigqueryCreateModelJobOp(\n",
        "        query=create_bq_model_query,\n",
        "        project=project,\n",
        "        location=\"US\",\n",
        "    ).after(dataflow_wait_training_data_op)\n",
        "\n",
        "    # evaluate the logistic regression model\n",
        "    bq_evaluate_op = BigqueryEvaluateModelJobOp(\n",
        "        project=project, location=\"US\", model=bq_model_op.outputs[\"model\"],\n",
        "        job_configuration_query={\n",
        "            \"destinationTable\": {\n",
        "                \"projectId\": PROJECT_NAME,\n",
        "                \"datasetId\": \"session11\",\n",
        "                \"tableId\": \"evaluation\",\n",
        "            }\n",
        "        }\n",
        "    ).after(bq_model_op)\n",
        "\n",
        "    # similuate prediction\n",
        "    BigqueryPredictModelJobOp(\n",
        "        model=bq_model_op.outputs[\"model\"],\n",
        "        query_statement=create_bq_prediction_query,\n",
        "        job_configuration_query={\n",
        "            \"destinationTable\": {\n",
        "                \"projectId\": PROJECT_NAME,\n",
        "                \"datasetId\": \"session11\",\n",
        "                \"tableId\": \"result\",\n",
        "            }\n",
        "        },\n",
        "        project=project,\n",
        "        location=\"US\",\n",
        "    ).after(bq_evaluate_op)"
      ]
    },
    {
      "cell_type": "markdown",
      "metadata": {
        "id": "nghLONQX7JNg"
      },
      "source": [
        "## Compile and Run the pipeline"
      ]
    },
    {
      "cell_type": "code",
      "execution_count": null,
      "metadata": {
        "colab": {
          "base_uri": "https://localhost:8080/"
        },
        "id": "8l6IR7OoADJV",
        "outputId": "ffdaa010-8146-46ff-d10d-c4d79fc7e0aa",
        "vscode": {
          "languageId": "python"
        }
      },
      "outputs": [],
      "source": [
        "from pathlib import Path as path\n",
        "\n",
        "PIPELINE_PACKAGE = \"mlops_bqml_titanic_pipeline.json\"\n",
        "PYTHON_FILE_URI =  ROOT_BUCKET+\"/script/ingest_pipeline.py\"\n",
        "\n",
        "compiler.Compiler().compile(pipeline_func=pipeline, package_path=PIPELINE_PACKAGE)"
      ]
    },
    {
      "cell_type": "code",
      "execution_count": null,
      "metadata": {
        "id": "u5pskwHPgK_7",
        "vscode": {
          "languageId": "python"
        }
      },
      "outputs": [],
      "source": [
        "!cat mlops_bqml_titanic_pipeline.json"
      ]
    },
    {
      "cell_type": "code",
      "execution_count": null,
      "metadata": {
        "id": "6rJ0NRuWwfnp",
        "vscode": {
          "languageId": "python"
        }
      },
      "outputs": [],
      "source": [
        "pipeline = vertex_ai.PipelineJob(\n",
        "    display_name=f\"data_preprocess\",\n",
        "    template_path=PIPELINE_PACKAGE,\n",
        "    pipeline_root=ROOT_BUCKET,\n",
        "    parameter_values={\n",
        "        \"create_bq_dataset_table_query\": create_bq_dataset_table_query,\n",
        "        \"temp_location\": ROOT_BUCKET,\n",
        "        \"python_file_path\": PYTHON_FILE_URI,\n",
        "    },\n",
        "    enable_caching=False,\n",
        ")\n",
        "\n",
        "pipeline.run()"
      ]
    },
    {
      "cell_type": "markdown",
      "metadata": {
        "id": "TpV-iwP9qw9c"
      },
      "source": [
        "## Cleaning up\n",
        "\n",
        "To clean up all Google Cloud resources used in this project, you can [delete the Google Cloud\n",
        "project](https://cloud.google.com/resource-manager/docs/creating-managing-projects#shutting_down_projects) you used for the tutorial.\n"
      ]
    },
    {
      "cell_type": "code",
      "execution_count": null,
      "metadata": {
        "id": "sx_vKniMq9ZX",
        "vscode": {
          "languageId": "python"
        }
      },
      "outputs": [],
      "source": [
        "# delete bucket\n",
        "! gsutil -m rm -r $ROOT_BUCKET\n",
        "\n",
        "# delete dataset\n",
        "! bq rm -r -f -d $PROJECT_NAME:$BQ_DATASET"
      ]
    }
  ],
  "metadata": {
    "colab": {
      "collapsed_sections": [
        "ze4-nDLfK4pw"
      ],
      "name": "vertexai_pipelines_bqml_titanic_new.ipynb",
      "provenance": []
    },
    "kernelspec": {
      "display_name": "Python 3",
      "name": "python3"
    }
  },
  "nbformat": 4,
  "nbformat_minor": 0
}
