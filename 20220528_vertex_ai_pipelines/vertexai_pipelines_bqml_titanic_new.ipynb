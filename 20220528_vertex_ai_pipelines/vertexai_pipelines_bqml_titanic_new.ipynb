{
  "cells": [
    {
      "cell_type": "markdown",
      "metadata": {
        "id": "tvgnzT1CKxrO"
      },
      "source": [
        "## Overview\n",
        "\n",
        "The pipeline will \n",
        "\n",
        "1. Read Titanic data in Google Cloud Storage\n",
        "2. Using Dataflow and ingest into BigQuery\n",
        "3. Train a Logistic regression model to classify survived person. \n",
        "4. Evaluate the model \n",
        "\n",
        "### Dataset\n",
        "GCSに以下のバケットとフォルダを作成して、CSVファイルを配置してください。\n",
        "dataset は https://www.kaggle.com/competitions/titanic/data　\n",
        "からダウンロードしてください\n",
        "\n",
        "\n",
        "gs://session11/titanic/train.csv\n",
        "\n",
        "gs://session11/titanic/test.csv"
      ]
    },
    {
      "cell_type": "markdown",
      "metadata": {
        "id": "ze4-nDLfK4pw"
      },
      "source": [
        "Google collabo での実行を想定しています。"
      ]
    },
    {
      "cell_type": "code",
      "execution_count": null,
      "metadata": {
        "id": "2b4ef9b72d43"
      },
      "outputs": [],
      "source": [
        "import os\n",
        "\n",
        "# The Google Cloud Notebook product has specific requirements\n",
        "IS_GOOGLE_CLOUD_NOTEBOOK = os.path.exists(\"/opt/deeplearning/metadata/env_version\")\n",
        "\n",
        "# Google Cloud Notebook requires dependencies to be installed with '--user'\n",
        "USER_FLAG = \"\"\n",
        "if IS_GOOGLE_CLOUD_NOTEBOOK:\n",
        "    USER_FLAG = \"--user\"\n",
        "\n",
        "if os.getenv(\"IS_TESTING\"):\n",
        "    ! touch /builder/home/.local/lib/python3.9/site-packages/google_api_core-2.7.1.dist-info/METADATA"
      ]
    },
    {
      "cell_type": "markdown",
      "metadata": {
        "id": "i7EUnXsZhAGF"
      },
      "source": [
        "### Install additional packages\n"
      ]
    },
    {
      "cell_type": "code",
      "execution_count": null,
      "metadata": {
        "id": "wyy5Lbnzg5fi"
      },
      "outputs": [],
      "source": [
        "! pip3 install {USER_FLAG} --upgrade \"apache-beam[gcp]==2.36.0\"\n",
        "! pip3 install {USER_FLAG} --upgrade \"kfp==1.8.2\"\n",
        "! pip3 install {USER_FLAG} --upgrade \"google-cloud-aiplatform==1.10.0\"\n",
        "! pip3 install {USER_FLAG} --upgrade \"google_cloud_pipeline_components==1.0.1\""
      ]
    },
    {
      "cell_type": "markdown",
      "metadata": {
        "id": "hhq5zEbGg0XX"
      },
      "source": [
        "### Restart the kernel\n",
        "\n",
        "パッケージのインストール後にカーネルを再起動する。"
      ]
    },
    {
      "cell_type": "code",
      "execution_count": null,
      "metadata": {
        "id": "EzrelQZ22IZj"
      },
      "outputs": [],
      "source": [
        "# Automatically restart kernel after installs\n",
        "import os\n",
        "\n",
        "if not os.getenv(\"IS_TESTING\"):\n",
        "    # Automatically restart kernel after installs\n",
        "    import IPython\n",
        "\n",
        "    app = IPython.Application.instance()\n",
        "    app.kernel.do_shutdown(True)"
      ]
    },
    {
      "cell_type": "markdown",
      "metadata": {
        "id": "dr--iN2kAylZ"
      },
      "source": [
        "### Authenticate your Google Cloud account\n",
        "\n",
        "Google collaboを使用する場合は認証が必要。"
      ]
    },
    {
      "cell_type": "code",
      "execution_count": null,
      "metadata": {
        "id": "PyQmSRbKA8r-"
      },
      "outputs": [],
      "source": [
        "import os\n",
        "import sys\n",
        "\n",
        "IS_GOOGLE_CLOUD_NOTEBOOK = os.path.exists(\"/opt/deeplearning/metadata/env_version\")\n",
        "\n",
        "# If on Google Cloud Notebooks, then don't execute this code\n",
        "if not IS_GOOGLE_CLOUD_NOTEBOOK:\n",
        "    if \"google.colab\" in sys.modules:\n",
        "        from google.colab import auth as google_auth\n",
        "\n",
        "        google_auth.authenticate_user()\n",
        "\n",
        "    # If you are running this notebook locally, replace the string below with the\n",
        "    # path to your service account key and run this cell to authenticate your GCP\n",
        "    # account.\n",
        "    elif not os.getenv(\"IS_TESTING\"):\n",
        "        %env GOOGLE_APPLICATION_CREDENTIALS ''"
      ]
    },
    {
      "cell_type": "markdown",
      "metadata": {
        "id": "zgPO1eR3CYjk"
      },
      "source": [
        "### 環境変数の設定\n"
      ]
    },
    {
      "cell_type": "code",
      "execution_count": null,
      "metadata": {
        "colab": {
          "base_uri": "https://localhost:8080/"
        },
        "id": "MzGDU7TWdts_",
        "outputId": "23a0700a-1da6-43c3-a6c8-709b5672aebb"
      },
      "outputs": [
        {
          "output_type": "stream",
          "name": "stdout",
          "text": [
            "INFO:numexpr.utils:NumExpr defaulting to 2 threads.\n"
          ]
        }
      ],
      "source": [
        "import google.cloud.aiplatform as vertex_ai\n",
        "\n",
        "PROJECT_NAME = \"ml-session\"  # @param {type:\"string\"}\n",
        "BUCKET_KEYWORD = \"session11\"  # @param {type:\"string\"}\n",
        "REGION = \"us-central1\"  # @param {type:\"string\"}\n",
        "ROOT_BUCKET = \"gs://\" + BUCKET_KEYWORD\n",
        "PROJECT_NAME=\"ml-session\"\n",
        "BQ_DATASET = \"session11\"\n",
        "BQ_TRAINING_TABLE = \"train\"\n",
        "BQ_TESTING_TABLE = \"test\"\n",
        "BQ_ML_MODEL = \"model_titanic\"\n",
        "JOB_NAME = \"titanic\""
      ]
    },
    {
      "cell_type": "markdown",
      "metadata": {
        "id": "NlyOjKrjCXsI"
      },
      "source": [
        "### Initialize client"
      ]
    },
    {
      "cell_type": "code",
      "execution_count": null,
      "metadata": {
        "id": "IsT5FfP0CaXt"
      },
      "outputs": [],
      "source": [
        "vertex_ai.init(project=PROJECT_NAME, location=REGION, staging_bucket=ROOT_BUCKET)"
      ]
    },
    {
      "cell_type": "markdown",
      "metadata": {
        "id": "ZrgOD30o7HcL"
      },
      "source": [
        "## Pipeline formalization"
      ]
    },
    {
      "cell_type": "markdown",
      "metadata": {
        "id": "MI_wYYwdAZZs"
      },
      "source": [
        "### BQML components\n",
        "\n",
        "1) BigQuery で データセット session11、空のテーブル train, testを作成\n",
        "\n",
        "2) Dataflow でGCSからCSVファイルをBigQuery の上記２テーブルへロードする\n",
        "\n",
        "3) BigQuery MLでモデル作成\n",
        "\n",
        "4) 予測"
      ]
    },
    {
      "cell_type": "code",
      "execution_count": null,
      "metadata": {
        "id": "B4hHaizjInsG"
      },
      "outputs": [],
      "source": [
        "!pip install fsspec\n",
        "!pip install gcsfs"
      ]
    },
    {
      "cell_type": "code",
      "execution_count": null,
      "metadata": {
        "id": "gUYVZyJsYz5k"
      },
      "outputs": [],
      "source": [
        "%%writefile ./requirement.txt\n",
        "pandas\n",
        "fsspec\n",
        "gcsfs"
      ]
    },
    {
      "cell_type": "code",
      "execution_count": null,
      "metadata": {
        "id": "XYKVw6QiZvlY"
      },
      "outputs": [],
      "source": [
        "!cat requirement.txt"
      ]
    },
    {
      "cell_type": "code",
      "execution_count": null,
      "metadata": {
        "id": "oZMIHeYbpzWT"
      },
      "outputs": [],
      "source": [
        ""
      ]
    },
    {
      "cell_type": "code",
      "execution_count": null,
      "metadata": {
        "id": "naDZEQji06YJ"
      },
      "outputs": [],
      "source": [
        "# ここはGCSからBigQuery へロードするための処理\n",
        "# https://dev.classmethod.jp/articles/cloud-dataflow_gcs2bq_python/　を参考に\n",
        "\n",
        "%%writefile ingest_pipeline.py\n",
        "import logging\n",
        "import csv\n",
        "from datetime import datetime, timezone, timedelta\n",
        "import pandas as pd\n",
        "import json\n",
        "\n",
        "import apache_beam as beam\n",
        "from apache_beam.io.gcp.bigquery import WriteToBigQuery, BigQueryDisposition\n",
        "from apache_beam.io.gcp.internal.clients import bigquery\n",
        "from apache_beam.options.pipeline_options import PipelineOptions\n",
        "from apache_beam.options.pipeline_options import StandardOptions\n",
        "from apache_beam.options.pipeline_options import SetupOptions\n",
        "from apache_beam.options.pipeline_options import GoogleCloudOptions\n",
        "\n",
        "from apache_beam.dataframe import convert\n",
        "\n",
        "class BeamOptions:\n",
        "    def __init__(self,runner):\n",
        "        self.options = PipelineOptions()\n",
        "        # GoogleCloud Option\n",
        "        self.gcloud_options = self.options.view_as(GoogleCloudOptions)\n",
        "        self.gcloud_options.job_name = \"loadtobq\"\n",
        "        self.gcloud_options.project = \"ml-session\"\n",
        "        self.gcloud_options.temp_location = \"gs://session11/tmp\" # 処理する際にGCSに一時ファイルを作成するのでその保管先のGCS URI\n",
        "        self.gcloud_options.region = \"us-central1\"\n",
        "        # Setup Option\n",
        "        self.options.view_as(SetupOptions).save_main_session = True\n",
        "        # Standard Option\n",
        "        self.options.view_as(StandardOptions).runner = runner\n",
        "\n",
        "\n",
        "# 前処理用\n",
        "import numpy as np\n",
        "\n",
        "def process(df):\n",
        "    df = df.drop([\"Ticket\", \"Cabin\"], axis=1)\n",
        "    df = add_title(df)\n",
        "    df = label_encode(df)\n",
        "    df = age(df)\n",
        "    df = is_alone(df)\n",
        "    df = port(df)\n",
        "    df = fare(df)\n",
        "    return df\n",
        "\n",
        "\n",
        "def add_title(df):\n",
        "    df[\"Title\"] = df.Name.str.extract(\" ([A-Za-z]+)\\.\", expand=False)\n",
        "    df[\"Title\"] = df[\"Title\"].replace(\n",
        "        [\n",
        "            \"Lady\",\n",
        "            \"Countess\",\n",
        "            \"Capt\",\n",
        "            \"Col\",\n",
        "            \"Don\",\n",
        "            \"Dr\",\n",
        "            \"Major\",\n",
        "            \"Rev\",\n",
        "            \"Sir\",\n",
        "            \"Jonkheer\",\n",
        "            \"Dona\",\n",
        "        ],\n",
        "        \"Rare\",\n",
        "    )\n",
        "    df[\"Title\"] = df[\"Title\"].replace(\"Mlle\", \"Miss\")\n",
        "    df[\"Title\"] = df[\"Title\"].replace(\"Ms\", \"Miss\")\n",
        "    df[\"Title\"] = df[\"Title\"].replace(\"Mme\", \"Mrs\")\n",
        "\n",
        "    title_mapping = {\"Mr\": 1, \"Miss\": 2, \"Mrs\": 3, \"Master\": 4, \"Rare\": 5}\n",
        "\n",
        "    df[\"Title\"] = df[\"Title\"].map(title_mapping)\n",
        "    df[\"Title\"] = df[\"Title\"].fillna(0)\n",
        "    df = df.drop([\"Name\"], axis=1)\n",
        "    return df\n",
        "\n",
        "\n",
        "def label_encode(df):\n",
        "    df[\"Sex\"] = df[\"Sex\"].map({\"female\": 1, \"male\": 0}).astype(int)\n",
        "    return df\n",
        "\n",
        "\n",
        "def age(df):\n",
        "    guess_ages = np.zeros((2, 3))\n",
        "\n",
        "    for i in range(0, 2):\n",
        "        for j in range(0, 3):\n",
        "            guess_df = df[(df[\"Sex\"] == i) & (df[\"Pclass\"] == j + 1)][\"Age\"].dropna()\n",
        "\n",
        "            age_guess = guess_df.median()\n",
        "\n",
        "            # Convert random age float to nearest .5 age\n",
        "            guess_ages[i, j] = int(age_guess / 0.5 + 0.5) * 0.5\n",
        "\n",
        "    for i in range(0, 2):\n",
        "        for j in range(0, 3):\n",
        "            df.loc[\n",
        "                (df.Age.isnull()) & (df.Sex == i) & (df.Pclass == j + 1), \"Age\"\n",
        "            ] = guess_ages[i, j]\n",
        "\n",
        "    df[\"Age\"] = df[\"Age\"].astype(int)\n",
        "    df.loc[df[\"Age\"] <= 16, \"Age\"] = 0\n",
        "    df.loc[(df[\"Age\"] > 16) & (df[\"Age\"] <= 32), \"Age\"] = 1\n",
        "    df.loc[(df[\"Age\"] > 32) & (df[\"Age\"] <= 48), \"Age\"] = 2\n",
        "    df.loc[(df[\"Age\"] > 48) & (df[\"Age\"] <= 64), \"Age\"] = 3\n",
        "    df.loc[df[\"Age\"] > 64, \"Age\"]\n",
        "    df[\"Age_Class\"] = df.Age * df.Pclass\n",
        "    return df\n",
        "\n",
        "\n",
        "def is_alone(df):\n",
        "    df[\"FamilySize\"] = df[\"SibSp\"] + df[\"Parch\"] + 1\n",
        "    df[\"IsAlone\"] = 0\n",
        "    df.loc[df[\"FamilySize\"] == 1, \"IsAlone\"] = 1\n",
        "    df = df.drop([\"Parch\", \"SibSp\", \"FamilySize\"], axis=1)\n",
        "    return df\n",
        "\n",
        "\n",
        "def port(df):\n",
        "    freq_port = df.Embarked.dropna().mode()[0]\n",
        "    df[\"Embarked\"] = df[\"Embarked\"].fillna(freq_port)\n",
        "    df[\"Embarked\"] = df[\"Embarked\"].map({\"S\": 0, \"C\": 1, \"Q\": 2}).astype(int)\n",
        "    return df\n",
        "\n",
        "\n",
        "def fare(df):\n",
        "    df[\"Fare\"].fillna(df[\"Fare\"].dropna().median(), inplace=True)\n",
        "    df.loc[df[\"Fare\"] <= 7.91, \"Fare\"] = 0\n",
        "    df.loc[(df[\"Fare\"] > 7.91) & (df[\"Fare\"] <= 14.454), \"Fare\"] = 1\n",
        "    df.loc[(df[\"Fare\"] > 14.454) & (df[\"Fare\"] <= 31), \"Fare\"] = 2\n",
        "    df.loc[df[\"Fare\"] > 31, \"Fare\"] = 3\n",
        "    df[\"Fare\"] = df[\"Fare\"].astype(int)\n",
        "    return df\n",
        "\n",
        "# 前処理終わり\n",
        "\n",
        "\n",
        "def get_bigquery_schema_train():\n",
        "    \"\"\"\n",
        "    A function to get the BigQuery schema.\n",
        "    Returns:\n",
        "        A list of BigQuery schema.\n",
        "    \"\"\"\n",
        "\n",
        "    table_schema = bigquery.TableSchema()\n",
        "    columns = (\n",
        "        ('PassengerId', 'integer', 'nullable'),\n",
        "        ('Survived', 'integer', 'nullable'),\n",
        "        ('Pclass', 'integer', 'nullable'),\n",
        "        ('Sex', 'integer', 'nullable'),\n",
        "        ('Age', 'integer', 'nullable'),\n",
        "        ('Fare', 'integer', 'nullable'),\n",
        "        ('Embarked', 'integer', 'nullable'),\n",
        "        ('Title', 'integer', 'nullable'),\n",
        "        ('Age_Class', 'integer', 'nullable'),\n",
        "        ('IsAlone', 'integer', 'nullable'),\n",
        "        )\n",
        "\n",
        "    for column in columns:\n",
        "        column_schema = bigquery.TableFieldSchema()\n",
        "        column_schema.name = column[0]\n",
        "        column_schema.type = column[1]\n",
        "        column_schema.mode = column[2]\n",
        "        table_schema.fields.append(column_schema)\n",
        "\n",
        "    return table_schema\n",
        "\n",
        "\n",
        "\n",
        "def get_bigquery_schema_test():\n",
        "    \"\"\"\n",
        "    A function to get the BigQuery schema.\n",
        "    Returns:\n",
        "        A list of BigQuery schema.\n",
        "    \"\"\"\n",
        "\n",
        "    table_schema = bigquery.TableSchema()\n",
        "    columns = (\n",
        "        ('PassengerId', 'integer', 'nullable'),\n",
        "        # ('Survived', 'integer', 'nullable'),\n",
        "        ('Pclass', 'integer', 'nullable'),\n",
        "        ('Sex', 'integer', 'nullable'),\n",
        "        ('Age', 'integer', 'nullable'),\n",
        "        ('Fare', 'integer', 'nullable'),\n",
        "        ('Embarked', 'integer', 'nullable'),\n",
        "        ('Title', 'integer', 'nullable'),\n",
        "        ('Age_Class', 'integer', 'nullable'),\n",
        "        ('IsAlone', 'integer', 'nullable'),\n",
        "        )\n",
        "\n",
        "    for column in columns:\n",
        "        column_schema = bigquery.TableFieldSchema()\n",
        "        column_schema.name = column[0]\n",
        "        column_schema.type = column[1]\n",
        "        column_schema.mode = column[2]\n",
        "        table_schema.fields.append(column_schema)\n",
        "\n",
        "    return table_schema\n",
        "\n",
        "def run(runner=\"DataflowRunner\"):\n",
        "    with beam.Pipeline(options=BeamOptions(runner).options) as pipeline:\n",
        "        # if flag == \"train\":\n",
        "        gcs_uri_train=\"gs://session11/titanic/train.csv\"\n",
        "            # dest_table=\"train\"\n",
        "        # else:\n",
        "        gcs_uri_test=\"gs://session11/titanic/test.csv\"\n",
        "            # dest_table=\"test\"\n",
        "\n",
        "        # GCSからファイル読み込み\n",
        "\n",
        "        df_train = pd.read_csv(gcs_uri_train)\n",
        "        df_train = process(df_train)\n",
        "\n",
        "        df_test = pd.read_csv(gcs_uri_test)\n",
        "        df_test = process(df_test)\n",
        "\n",
        "        table_spec_train = 'ml-session:session11.train'\n",
        "        table_spec_test = 'ml-session:session11.test'\n",
        "\n",
        "        trans_datas_train = (\n",
        "          # Convert the Pandas DataFrame to a PCollection.\n",
        "          convert.to_pcollection(df_train, pipeline=pipeline)\n",
        "          \n",
        "          # We get named tuples, we can convert them to dictionaries like this.\n",
        "          | 'To dictionaries train' >> beam.Map(lambda x: dict(x._asdict()))\n",
        "         )\n",
        "\n",
        "        trans_datas_test = (\n",
        "          # Convert the Pandas DataFrame to a PCollection.\n",
        "          convert.to_pcollection(df_test, pipeline=pipeline)\n",
        "          \n",
        "          # We get named tuples, we can convert them to dictionaries like this.\n",
        "          | 'To dictionaries test' >> beam.Map(lambda x: dict(x._asdict()))\n",
        "         )        \n",
        "\n",
        "    # BigQueryへデータ登録\n",
        "        trans_datas_train | \"Write to BigQuery train\" >> WriteToBigQuery(\n",
        "            table_spec_train,\n",
        "            schema=get_bigquery_schema_train(),\n",
        "            create_disposition=BigQueryDisposition.CREATE_IF_NEEDED,\n",
        "            write_disposition=BigQueryDisposition.WRITE_TRUNCATE\n",
        "        )\n",
        "        trans_datas_test | \"Write to BigQuery test\" >> WriteToBigQuery(\n",
        "            table_spec_test,\n",
        "            schema=get_bigquery_schema_test(),\n",
        "            create_disposition=BigQueryDisposition.CREATE_IF_NEEDED,\n",
        "            write_disposition=BigQueryDisposition.WRITE_TRUNCATE\n",
        "        )\n",
        "        # job = pipeline.run()\n",
        "\n",
        "\n",
        "if __name__ == \"__main__\":\n",
        "    logging.getLogger().setLevel(logging.INFO)\n",
        "    run(\n",
        "        # runner=\"DirectRunner\"  # ローカル実行\n",
        "        runner=\"DataflowRunner\",  # Cloud Dataflow実行\n",
        "    )\n"
      ]
    },
    {
      "cell_type": "code",
      "execution_count": null,
      "metadata": {
        "id": "80DAB0bZOLmL"
      },
      "outputs": [],
      "source": [
        "!gsutil cp ingest_pipeline.py $ROOT_BUCKET/script/"
      ]
    },
    {
      "cell_type": "code",
      "execution_count": null,
      "metadata": {
        "id": "8iOVdsEsZAcw"
      },
      "outputs": [],
      "source": [
        "!gsutil cp requirement.txt $ROOT_BUCKET/script/"
      ]
    },
    {
      "cell_type": "markdown",
      "metadata": {
        "id": "T2_kuUSZUBDY"
      },
      "source": [
        "#### Create BQ queries"
      ]
    },
    {
      "cell_type": "code",
      "execution_count": null,
      "metadata": {
        "id": "XdyboQnLUBDg"
      },
      "outputs": [],
      "source": [
        "\n",
        "create_bq_dataset_query = f\"\"\"\n",
        "CREATE SCHEMA IF NOT EXISTS `{PROJECT_NAME}.{BQ_DATASET}`;\n",
        "\"\"\"\n",
        "\n",
        "create_bq_model_query = f\"\"\"\n",
        "CREATE or REPLACE MODEL `{PROJECT_NAME}.{BQ_DATASET}.{BQ_ML_MODEL}`\n",
        "OPTIONS (\n",
        "  model_type = 'logistic_reg',\n",
        "  input_label_cols=['Survived']\n",
        "  -- num_trials=20,\n",
        "  -- max_parallel_trials=2\n",
        "  ) AS (\n",
        "SELECT\n",
        "  Pclass, Title, isAlone, Age, Sex, Embarked, Fare, Age_Class, Survived\n",
        "FROM\n",
        "  `{PROJECT_NAME}.{BQ_DATASET}.{BQ_TRAINING_TABLE}`\n",
        "WHERE PassengerId BETWEEN 1 AND 712\n",
        ")\n",
        "\"\"\"\n",
        "\n",
        "create_bq_prediction_query = f\"\"\"\n",
        "SELECT\n",
        " * \n",
        "FROM\n",
        "  ML.PREDICT(MODEL `{PROJECT_NAME}.{BQ_DATASET}.{BQ_ML_MODEL}`, (\n",
        "  SELECT\n",
        "    PassengerId, Pclass, Title, Sex, Age, Fare, Embarked, IsAlone, Age_Class\n",
        "  FROM\n",
        "    `{PROJECT_NAME}.{BQ_DATASET}.{BQ_TESTING_TABLE}`\n",
        "  )\n",
        ")\n",
        "\"\"\"\n",
        "\n",
        "create_bq_evaluate_query = f\"\"\"\n",
        "SELECT\n",
        " * \n",
        "FROM\n",
        "  ML.EVALUATE(MODEL `{PROJECT_NAME}.{BQ_DATASET}.{BQ_ML_MODEL}`, (\n",
        "  SELECT\n",
        "    Pclass, Title, Sex, Age, Fare, Embarked, IsAlone, Age_Class, Survived\n",
        "  FROM\n",
        "    `{PROJECT_NAME}.{BQ_DATASET}.{BQ_TRAINING_TABLE}`\n",
        "  WHERE PassengerId > 712\n",
        "  )\n",
        ")\n",
        "\"\"\""
      ]
    },
    {
      "cell_type": "markdown",
      "metadata": {
        "id": "OxemUVCxAiSo"
      },
      "source": [
        "### Build Pipeline"
      ]
    },
    {
      "cell_type": "markdown",
      "metadata": {
        "id": "pcSL1FHk69KT"
      },
      "source": [
        "#### Create the pipeline"
      ]
    },
    {
      "cell_type": "code",
      "execution_count": null,
      "metadata": {
        "id": "AlFXqsPIAk0l"
      },
      "outputs": [],
      "source": [
        "from kfp.v2 import dsl, compiler\n",
        "\n",
        "@dsl.pipeline(name=\"mlops-bqml-titanic\",\n",
        "              description=\"A batch pipeline to generate RG model\",\n",
        "              pipeline_root=ROOT_BUCKET)\n",
        "def pipeline(\n",
        "    create_bq_dataset_table_query: str,\n",
        "    python_file_path: str,\n",
        "    requeirement_file_path: str,\n",
        "    temp_location: str = ROOT_BUCKET,\n",
        "    project: str = PROJECT_NAME,\n",
        "):\n",
        "\n",
        "    from google_cloud_pipeline_components.v1.bigquery import (\n",
        "        BigqueryQueryJobOp, BigqueryCreateModelJobOp,\n",
        "        BigqueryEvaluateModelJobOp,\n",
        "        BigqueryPredictModelJobOp)\n",
        "    from google_cloud_pipeline_components.v1.dataflow import \\\n",
        "        DataflowPythonJobOp\n",
        "    from google_cloud_pipeline_components.v1.wait_gcp_resources import \\\n",
        "        WaitGcpResourcesOp\n",
        "\n",
        "    # create the dataset, training and testing tables\n",
        "    bq_tables_op = BigqueryQueryJobOp(\n",
        "        query=create_bq_dataset_query,\n",
        "        project=project,\n",
        "        location=\"US\",\n",
        "    )\n",
        "\n",
        "    # run dataflow job\n",
        "    dataflow_python_training_data_op = DataflowPythonJobOp(\n",
        "        python_module_path=python_file_path,\n",
        "        project=project,\n",
        "        temp_location=temp_location,\n",
        "        requirements_file_path=requeirement_file_path\n",
        "    ).after(bq_tables_op)\n",
        "\n",
        "    dataflow_wait_training_data_op = WaitGcpResourcesOp(\n",
        "    gcp_resources=dataflow_python_training_data_op.outputs[\"gcp_resources\"]\n",
        "        ).after(dataflow_python_training_data_op)\n",
        "\n",
        "    # create the logistic regression model\n",
        "    bq_model_op = BigqueryCreateModelJobOp(\n",
        "        query=create_bq_model_query,\n",
        "        project=project,\n",
        "        location=\"US\",\n",
        "    ).after(dataflow_wait_training_data_op)\n",
        "\n",
        "    # evaluate the logistic regression model\n",
        "    bq_evaluate_op = BigqueryEvaluateModelJobOp(\n",
        "        project=project, location=\"US\", model=bq_model_op.outputs[\"model\"],\n",
        "        job_configuration_query={\n",
        "            \"destinationTable\": {\n",
        "                \"projectId\": PROJECT_NAME,\n",
        "                \"datasetId\": \"session11\",\n",
        "                \"tableId\": \"evaluation\",\n",
        "            }\n",
        "        }\n",
        "    ).after(bq_model_op)\n",
        "\n",
        "    # similuate prediction\n",
        "    BigqueryPredictModelJobOp(\n",
        "        model=bq_model_op.outputs[\"model\"],\n",
        "        query_statement=create_bq_prediction_query,\n",
        "        job_configuration_query={\n",
        "            \"destinationTable\": {\n",
        "                \"projectId\": PROJECT_NAME,\n",
        "                \"datasetId\": \"session11\",\n",
        "                \"tableId\": \"result\",\n",
        "            }\n",
        "        },\n",
        "        project=project,\n",
        "        location=\"US\",\n",
        "    ).after(bq_evaluate_op)"
      ]
    },
    {
      "cell_type": "markdown",
      "metadata": {
        "id": "nghLONQX7JNg"
      },
      "source": [
        "## Compile and Run the pipeline"
      ]
    },
    {
      "cell_type": "code",
      "execution_count": null,
      "metadata": {
        "id": "8l6IR7OoADJV"
      },
      "outputs": [],
      "source": [
        "from pathlib import Path as path\n",
        "\n",
        "PIPELINE_PACKAGE = \"mlops_bqml_titanic_pipeline.json\"\n",
        "compiler.Compiler().compile(pipeline_func=pipeline, package_path=PIPELINE_PACKAGE)"
      ]
    },
    {
      "cell_type": "code",
      "execution_count": null,
      "metadata": {
        "id": "u5pskwHPgK_7"
      },
      "outputs": [],
      "source": [
        "!cat mlops_bqml_titanic_pipeline.json"
      ]
    },
    {
      "cell_type": "code",
      "execution_count": null,
      "metadata": {
        "id": "6rJ0NRuWwfnp"
      },
      "outputs": [],
      "source": [
        "PYTHON_FILE_URI =  ROOT_BUCKET+\"/script/ingest_pipeline.py\"\n",
        "REQUIREMENT_FILE_URI = ROOT_BUCKET+\"/script/requirement.txt\"\n",
        "\n",
        "pipeline = vertex_ai.PipelineJob(\n",
        "    display_name=f\"data_preprocess\",\n",
        "    template_path=PIPELINE_PACKAGE,\n",
        "    pipeline_root=ROOT_BUCKET,\n",
        "    parameter_values={\n",
        "        \"create_bq_dataset_table_query\": create_bq_dataset_query,\n",
        "        \"temp_location\": ROOT_BUCKET,\n",
        "        \"python_file_path\": PYTHON_FILE_URI,\n",
        "        \"requeirement_file_path\": REQUIREMENT_FILE_URI\n",
        "    },\n",
        "    enable_caching=False,\n",
        ")\n",
        "\n",
        "pipeline.run()"
      ]
    },
    {
      "cell_type": "markdown",
      "metadata": {
        "id": "TpV-iwP9qw9c"
      },
      "source": [
        "## Cleaning up\n",
        "\n",
        "To clean up all Google Cloud resources used in this project, you can [delete the Google Cloud\n",
        "project](https://cloud.google.com/resource-manager/docs/creating-managing-projects#shutting_down_projects) you used for the tutorial.\n"
      ]
    },
    {
      "cell_type": "code",
      "execution_count": null,
      "metadata": {
        "id": "sx_vKniMq9ZX"
      },
      "outputs": [],
      "source": [
        "# delete bucket\n",
        "! gsutil -m rm -r $ROOT_BUCKET\n",
        "\n",
        "# delete dataset\n",
        "! bq rm -r -f -d $PROJECT_NAME:$BQ_DATASET"
      ]
    }
  ],
  "metadata": {
    "colab": {
      "collapsed_sections": [],
      "name": "vertexai_pipelines_bqml_titanic_new.ipynb",
      "provenance": []
    },
    "kernelspec": {
      "display_name": "Python 3",
      "name": "python3"
    }
  },
  "nbformat": 4,
  "nbformat_minor": 0
}