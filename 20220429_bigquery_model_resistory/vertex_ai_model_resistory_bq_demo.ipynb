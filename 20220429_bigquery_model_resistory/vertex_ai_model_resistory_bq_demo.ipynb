{
 "cells": [
  {
   "cell_type": "code",
   "execution_count": null,
   "id": "3d664e32-9fd5-41ed-957f-389ba5213a92",
   "metadata": {},
   "outputs": [],
   "source": [
    "from google.cloud import bigquery\n",
    "import pandas as pd"
   ]
  },
  {
   "cell_type": "code",
   "execution_count": null,
   "id": "a747a155-5fae-41dc-a6b1-dda19956ecb6",
   "metadata": {},
   "outputs": [],
   "source": [
    "client = bigquery.Client(location=\"US\")\n",
    "print(\"Client creating using default project: {}\".format(client.project))"
   ]
  },
  {
   "cell_type": "code",
   "execution_count": null,
   "id": "741f3f20-a100-4309-9c67-ad2764d74f3b",
   "metadata": {},
   "outputs": [],
   "source": [
    "client = bigquery.Client(location=\"US\", project=\"ml-session\")"
   ]
  },
  {
   "cell_type": "markdown",
   "id": "50bc0bdd-c798-45f3-8b44-5af2244cab4b",
   "metadata": {},
   "source": [
    "# Send a query to a Public dataset"
   ]
  },
  {
   "cell_type": "code",
   "execution_count": null,
   "id": "e1436d8f-ca1b-49e6-8b3a-045c5dc756bf",
   "metadata": {},
   "outputs": [],
   "source": [
    "query = \"\"\"\n",
    "SELECT\n",
    "  vendor_id,\n",
    "  passenger_count,\n",
    "  trip_distance,\n",
    "  rate_code,\n",
    "  payment_type,\n",
    "  total_amount,\n",
    "  tip_amount\n",
    "FROM\n",
    "  `bigquery-public-data.new_york_taxi_trips.tlc_yellow_trips_2018`\n",
    "WHERE tip_amount >= 0\n",
    "LIMIT 100\n",
    "\"\"\"\n",
    "query_job = client.query(\n",
    "    query,\n",
    "     location=\"US\",\n",
    ")\n",
    "\n",
    "df = query_job.to_dataframe()\n",
    "df.head(5)\n",
    "\n",
    "# https://console.cloud.google.com/marketplace/product/city-of-new-york/nyc-tlc-trips"
   ]
  },
  {
   "cell_type": "markdown",
   "id": "b1569da1-d07e-4b26-a820-0959199977f2",
   "metadata": {},
   "source": [
    "# Create a model by logistic regression"
   ]
  },
  {
   "cell_type": "code",
   "execution_count": null,
   "id": "b968e648-f3e0-437d-9a4c-446d0925489a",
   "metadata": {
    "tags": []
   },
   "outputs": [],
   "source": [
    "query = \"\"\"\n",
    "CREATE OR REPLACE MODEL session10.taxi_tip_classification_model_demo2\n",
    "OPTIONS\n",
    " (model_type='logistic_reg',\n",
    "  input_label_cols=['tip_bucket'],\n",
    "  -- enable_global_explain=true\n",
    "  model_registry='vertex_ai',\n",
    "  vertex_ai_model_id='taxi_tip_classification_model_demo',\n",
    "  vertex_ai_model_version_aliases=['logistic_reg', 'experimental']\n",
    ") AS\n",
    "SELECT\n",
    "  vendor_id,\n",
    "  passenger_count,\n",
    "  trip_distance,\n",
    "  rate_code,\n",
    "  payment_type,\n",
    "  total_amount,\n",
    "  CASE\n",
    "    WHEN tip_amount > total_amount*0.20 THEN '20% or more'\n",
    "    WHEN tip_amount > total_amount*0.15 THEN '15% to 20%'\n",
    "    WHEN tip_amount > total_amount*0.10 THEN '10% to 15%'\n",
    "  ELSE '10% or less'\n",
    "  END AS tip_bucket\n",
    "FROM\n",
    "  `bigquery-public-data.new_york_taxi_trips.tlc_yellow_trips_2018`\n",
    "WHERE tip_amount >= 0\n",
    "  -- AND pickup_datetime >= '2018-10-01' AND dropoff_datetime < '2018-10-02'\n",
    "  AND pickup_datetime >= '2018-11-02' AND dropoff_datetime < '2018-11-03'\n",
    "\"\"\"\n",
    "\n",
    "query_job = client.query(\n",
    "    query,\n",
    "    location=\"US\",\n",
    ")\n"
   ]
  },
  {
   "cell_type": "code",
   "execution_count": null,
   "id": "072bdc82",
   "metadata": {},
   "outputs": [],
   "source": [
    "!ls"
   ]
  },
  {
   "cell_type": "code",
   "execution_count": null,
   "id": "08b7e25a",
   "metadata": {},
   "outputs": [],
   "source": [
    "json_request = {\n",
    "  \"instances\": [{\n",
    "  \"vendor_id\": \"0\", \n",
    "  \"passenger_count\": 1, \n",
    "  \"trip_distance\": 5.85, \n",
    "  \"rate_code\": \"0\", \n",
    "  \"payment_type\": \"0\",\n",
    "  \"total_amount\": 55.56\n",
    "  }]\n",
    "}"
   ]
  },
  {
   "cell_type": "code",
   "execution_count": null,
   "id": "b564306d",
   "metadata": {},
   "outputs": [],
   "source": [
    "!cat command.sh"
   ]
  },
  {
   "cell_type": "code",
   "execution_count": null,
   "id": "267b0ab3",
   "metadata": {},
   "outputs": [],
   "source": [
    "!bash ./command.sh"
   ]
  },
  {
   "cell_type": "code",
   "execution_count": null,
   "id": "b148cd8f-472e-4a36-984d-416617a159f0",
   "metadata": {},
   "outputs": [],
   "source": []
  }
 ],
 "metadata": {
  "environment": {
   "kernel": "python3",
   "name": "managed-notebooks.m90",
   "type": "gcloud",
   "uri": "gcr.io/deeplearning-platform-release/base-cu110:latest"
  },
  "interpreter": {
   "hash": "e9ebf0332df0f3d17ac6e487c45fae1f768807c21ddfa28251cd5b57e8505056"
  },
  "kernelspec": {
   "display_name": "Python [conda env:root] * (Local)",
   "language": "python",
   "name": "local-conda-root-base"
  },
  "language_info": {
   "codemirror_mode": {
    "name": "ipython",
    "version": 3
   },
   "file_extension": ".py",
   "mimetype": "text/x-python",
   "name": "python",
   "nbconvert_exporter": "python",
   "pygments_lexer": "ipython3",
   "version": "3.7.12"
  }
 },
 "nbformat": 4,
 "nbformat_minor": 5
}
