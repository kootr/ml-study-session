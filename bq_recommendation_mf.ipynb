{
  "cells": [
    {
      "cell_type": "markdown",
      "metadata": {
        "id": "view-in-github",
        "colab_type": "text"
      },
      "source": [
        "<a href=\"https://colab.research.google.com/github/kootr/ml-study-session/blob/0730_mf/bq_recommendation_mf.ipynb\" target=\"_parent\"><img src=\"https://colab.research.google.com/assets/colab-badge.svg\" alt=\"Open In Colab\"/></a>"
      ]
    },
    {
      "cell_type": "markdown",
      "id": "a67fe4b1",
      "metadata": {
        "id": "a67fe4b1"
      },
      "source": [
        "<a href=\"https://colab.research.google.com/github/kootr/ml-study-session/blob/main/20220730_reccomendation_mf/bq_recommendation_mf.ipynb\" target=\"_parent\"><img src=\"https://colab.research.google.com/assets/colab-badge.svg\" alt=\"Open In Colab\"/></a>\n"
      ]
    },
    {
      "cell_type": "code",
      "execution_count": 1,
      "id": "3d664e32-9fd5-41ed-957f-389ba5213a92",
      "metadata": {
        "id": "3d664e32-9fd5-41ed-957f-389ba5213a92"
      },
      "outputs": [],
      "source": [
        "from google.cloud import bigquery\n",
        "import pandas as pd"
      ]
    },
    {
      "cell_type": "code",
      "execution_count": 2,
      "id": "741f3f20-a100-4309-9c67-ad2764d74f3b",
      "metadata": {
        "id": "741f3f20-a100-4309-9c67-ad2764d74f3b"
      },
      "outputs": [],
      "source": [
        "client = bigquery.Client(location=\"US\", project=\"ml-session\")"
      ]
    },
    {
      "cell_type": "code",
      "source": [
        "# GCP認証　(VertexAI workbench：必要なし、Googole collabo:必要、ローカル: 必要（Jsonクレデンシャルファイルを配置する）　)\n",
        "import os\n",
        "import sys\n",
        "\n",
        "IS_GOOGLE_CLOUD_NOTEBOOK = os.path.exists(\"/opt/deeplearning/metadata/env_version\")\n",
        "\n",
        "# If on Google Cloud Notebooks（おそらくVertexAI Workbenchのこと）, then don't execute this code\n",
        "if not IS_GOOGLE_CLOUD_NOTEBOOK:\n",
        "    if \"google.colab\" in sys.modules:\n",
        "        from google.colab import auth as google_auth\n",
        "\n",
        "        google_auth.authenticate_user()\n",
        "\n",
        "    # どれも当てはまらない場合はローカル実行として、クレデンシャルファイルを指定\n",
        "    elif not os.getenv(\"IS_TESTING\"):\n",
        "        %env GOOGLE_APPLICATION_CREDENTIALS '/hoge/fuga/key_file.json'"
      ],
      "metadata": {
        "id": "VzhjFZBtYo2d"
      },
      "id": "VzhjFZBtYo2d",
      "execution_count": 3,
      "outputs": []
    },
    {
      "cell_type": "code",
      "execution_count": 4,
      "id": "e1436d8f-ca1b-49e6-8b3a-045c5dc756bf",
      "metadata": {
        "id": "e1436d8f-ca1b-49e6-8b3a-045c5dc756bf",
        "outputId": "51b72f2d-d248-4965-fa6c-d6d17703bacd",
        "colab": {
          "base_uri": "https://localhost:8080/",
          "height": 206
        }
      },
      "outputs": [
        {
          "output_type": "execute_result",
          "data": {
            "text/plain": [
              "  vendor_id  passenger_count trip_distance rate_code payment_type  \\\n",
              "0         2                1          8.47         1            1   \n",
              "1         1                1           9.9         1            1   \n",
              "2         1                2          12.3         1            1   \n",
              "3         1                1           6.6         1            1   \n",
              "4         2                1           7.2         1            1   \n",
              "\n",
              "  total_amount tip_amount  \n",
              "0        27.09       1.29  \n",
              "1        43.26        7.2  \n",
              "2           50       4.94  \n",
              "3        27.95       4.65  \n",
              "4        28.56       4.76  "
            ],
            "text/html": [
              "\n",
              "  <div id=\"df-2ed78261-db12-4d16-9ff3-713ef903a235\">\n",
              "    <div class=\"colab-df-container\">\n",
              "      <div>\n",
              "<style scoped>\n",
              "    .dataframe tbody tr th:only-of-type {\n",
              "        vertical-align: middle;\n",
              "    }\n",
              "\n",
              "    .dataframe tbody tr th {\n",
              "        vertical-align: top;\n",
              "    }\n",
              "\n",
              "    .dataframe thead th {\n",
              "        text-align: right;\n",
              "    }\n",
              "</style>\n",
              "<table border=\"1\" class=\"dataframe\">\n",
              "  <thead>\n",
              "    <tr style=\"text-align: right;\">\n",
              "      <th></th>\n",
              "      <th>vendor_id</th>\n",
              "      <th>passenger_count</th>\n",
              "      <th>trip_distance</th>\n",
              "      <th>rate_code</th>\n",
              "      <th>payment_type</th>\n",
              "      <th>total_amount</th>\n",
              "      <th>tip_amount</th>\n",
              "    </tr>\n",
              "  </thead>\n",
              "  <tbody>\n",
              "    <tr>\n",
              "      <th>0</th>\n",
              "      <td>2</td>\n",
              "      <td>1</td>\n",
              "      <td>8.47</td>\n",
              "      <td>1</td>\n",
              "      <td>1</td>\n",
              "      <td>27.09</td>\n",
              "      <td>1.29</td>\n",
              "    </tr>\n",
              "    <tr>\n",
              "      <th>1</th>\n",
              "      <td>1</td>\n",
              "      <td>1</td>\n",
              "      <td>9.9</td>\n",
              "      <td>1</td>\n",
              "      <td>1</td>\n",
              "      <td>43.26</td>\n",
              "      <td>7.2</td>\n",
              "    </tr>\n",
              "    <tr>\n",
              "      <th>2</th>\n",
              "      <td>1</td>\n",
              "      <td>2</td>\n",
              "      <td>12.3</td>\n",
              "      <td>1</td>\n",
              "      <td>1</td>\n",
              "      <td>50</td>\n",
              "      <td>4.94</td>\n",
              "    </tr>\n",
              "    <tr>\n",
              "      <th>3</th>\n",
              "      <td>1</td>\n",
              "      <td>1</td>\n",
              "      <td>6.6</td>\n",
              "      <td>1</td>\n",
              "      <td>1</td>\n",
              "      <td>27.95</td>\n",
              "      <td>4.65</td>\n",
              "    </tr>\n",
              "    <tr>\n",
              "      <th>4</th>\n",
              "      <td>2</td>\n",
              "      <td>1</td>\n",
              "      <td>7.2</td>\n",
              "      <td>1</td>\n",
              "      <td>1</td>\n",
              "      <td>28.56</td>\n",
              "      <td>4.76</td>\n",
              "    </tr>\n",
              "  </tbody>\n",
              "</table>\n",
              "</div>\n",
              "      <button class=\"colab-df-convert\" onclick=\"convertToInteractive('df-2ed78261-db12-4d16-9ff3-713ef903a235')\"\n",
              "              title=\"Convert this dataframe to an interactive table.\"\n",
              "              style=\"display:none;\">\n",
              "        \n",
              "  <svg xmlns=\"http://www.w3.org/2000/svg\" height=\"24px\"viewBox=\"0 0 24 24\"\n",
              "       width=\"24px\">\n",
              "    <path d=\"M0 0h24v24H0V0z\" fill=\"none\"/>\n",
              "    <path d=\"M18.56 5.44l.94 2.06.94-2.06 2.06-.94-2.06-.94-.94-2.06-.94 2.06-2.06.94zm-11 1L8.5 8.5l.94-2.06 2.06-.94-2.06-.94L8.5 2.5l-.94 2.06-2.06.94zm10 10l.94 2.06.94-2.06 2.06-.94-2.06-.94-.94-2.06-.94 2.06-2.06.94z\"/><path d=\"M17.41 7.96l-1.37-1.37c-.4-.4-.92-.59-1.43-.59-.52 0-1.04.2-1.43.59L10.3 9.45l-7.72 7.72c-.78.78-.78 2.05 0 2.83L4 21.41c.39.39.9.59 1.41.59.51 0 1.02-.2 1.41-.59l7.78-7.78 2.81-2.81c.8-.78.8-2.07 0-2.86zM5.41 20L4 18.59l7.72-7.72 1.47 1.35L5.41 20z\"/>\n",
              "  </svg>\n",
              "      </button>\n",
              "      \n",
              "  <style>\n",
              "    .colab-df-container {\n",
              "      display:flex;\n",
              "      flex-wrap:wrap;\n",
              "      gap: 12px;\n",
              "    }\n",
              "\n",
              "    .colab-df-convert {\n",
              "      background-color: #E8F0FE;\n",
              "      border: none;\n",
              "      border-radius: 50%;\n",
              "      cursor: pointer;\n",
              "      display: none;\n",
              "      fill: #1967D2;\n",
              "      height: 32px;\n",
              "      padding: 0 0 0 0;\n",
              "      width: 32px;\n",
              "    }\n",
              "\n",
              "    .colab-df-convert:hover {\n",
              "      background-color: #E2EBFA;\n",
              "      box-shadow: 0px 1px 2px rgba(60, 64, 67, 0.3), 0px 1px 3px 1px rgba(60, 64, 67, 0.15);\n",
              "      fill: #174EA6;\n",
              "    }\n",
              "\n",
              "    [theme=dark] .colab-df-convert {\n",
              "      background-color: #3B4455;\n",
              "      fill: #D2E3FC;\n",
              "    }\n",
              "\n",
              "    [theme=dark] .colab-df-convert:hover {\n",
              "      background-color: #434B5C;\n",
              "      box-shadow: 0px 1px 3px 1px rgba(0, 0, 0, 0.15);\n",
              "      filter: drop-shadow(0px 1px 2px rgba(0, 0, 0, 0.3));\n",
              "      fill: #FFFFFF;\n",
              "    }\n",
              "  </style>\n",
              "\n",
              "      <script>\n",
              "        const buttonEl =\n",
              "          document.querySelector('#df-2ed78261-db12-4d16-9ff3-713ef903a235 button.colab-df-convert');\n",
              "        buttonEl.style.display =\n",
              "          google.colab.kernel.accessAllowed ? 'block' : 'none';\n",
              "\n",
              "        async function convertToInteractive(key) {\n",
              "          const element = document.querySelector('#df-2ed78261-db12-4d16-9ff3-713ef903a235');\n",
              "          const dataTable =\n",
              "            await google.colab.kernel.invokeFunction('convertToInteractive',\n",
              "                                                     [key], {});\n",
              "          if (!dataTable) return;\n",
              "\n",
              "          const docLinkHtml = 'Like what you see? Visit the ' +\n",
              "            '<a target=\"_blank\" href=https://colab.research.google.com/notebooks/data_table.ipynb>data table notebook</a>'\n",
              "            + ' to learn more about interactive tables.';\n",
              "          element.innerHTML = '';\n",
              "          dataTable['output_type'] = 'display_data';\n",
              "          await google.colab.output.renderOutput(dataTable, element);\n",
              "          const docLink = document.createElement('div');\n",
              "          docLink.innerHTML = docLinkHtml;\n",
              "          element.appendChild(docLink);\n",
              "        }\n",
              "      </script>\n",
              "    </div>\n",
              "  </div>\n",
              "  "
            ]
          },
          "metadata": {},
          "execution_count": 4
        }
      ],
      "source": [
        "# テストクエリ\n",
        "query = \"\"\"\n",
        "SELECT\n",
        "  vendor_id,\n",
        "  passenger_count,\n",
        "  trip_distance,\n",
        "  rate_code,\n",
        "  payment_type,\n",
        "  total_amount,\n",
        "  tip_amount\n",
        "FROM\n",
        "  `bigquery-public-data.new_york_taxi_trips.tlc_yellow_trips_2018`\n",
        "WHERE tip_amount >= 0\n",
        "LIMIT 100\n",
        "\"\"\"\n",
        "query_job = client.query(\n",
        "    query,\n",
        "     location=\"US\",\n",
        ")\n",
        "\n",
        "df = query_job.to_dataframe()\n",
        "df.head(5)"
      ]
    },
    {
      "cell_type": "markdown",
      "source": [
        "### 参考にしたTutorial \n",
        "https://cloud.google.com/bigquery-ml/docs/bigqueryml-mf-explicit-tutorial#find_all_the_item_ratings_for_a_set_of_users"
      ],
      "metadata": {
        "id": "IlhakSYYdafZ"
      },
      "id": "IlhakSYYdafZ"
    },
    {
      "cell_type": "code",
      "source": [
        "# まずはデータセットを作成\n",
        "\n",
        "dataset_id = \"session13\"\n",
        "dataset = bigquery.Dataset(dataset_id)\n",
        "dataset.location = \"US\"\n",
        "\n",
        "dataset = client.create_dataset(dataset)  # Make an API request.\n",
        "print(\"Created dataset {}.{}\".format(client.project, dataset.dataset_id))"
      ],
      "metadata": {
        "id": "yjpJ4GQCgA5A",
        "outputId": "6d6564a8-7509-436f-8d2d-be2c2ac401f5",
        "colab": {
          "base_uri": "https://localhost:8080/"
        }
      },
      "id": "yjpJ4GQCgA5A",
      "execution_count": 5,
      "outputs": [
        {
          "output_type": "stream",
          "name": "stdout",
          "text": [
            "Created dataset ml-session.session13\n"
          ]
        }
      ]
    },
    {
      "cell_type": "code",
      "source": [
        "# チュートリアル通り、movielensのレーティングデータ、タイトルデータをダウンロード、区切り文字加工\n",
        "!curl -O 'http://files.grouplens.org/datasets/movielens/ml-1m.zip'\n",
        "!unzip ml-1m.zip\n",
        "\n",
        "!sed 's/::/,/g' ml-1m/ratings.dat > ratings.csv\n",
        "!sed 's/::/@/g' ml-1m/movies.dat > movie_titles.csv # 区切り文字 @ とする"
      ],
      "metadata": {
        "id": "jP1j1X-ZcmB0",
        "outputId": "2b81709c-a7f4-41b6-bf64-35e76b69fe4e",
        "colab": {
          "base_uri": "https://localhost:8080/"
        }
      },
      "id": "jP1j1X-ZcmB0",
      "execution_count": 6,
      "outputs": [
        {
          "output_type": "stream",
          "name": "stdout",
          "text": [
            "  % Total    % Received % Xferd  Average Speed   Time    Time     Time  Current\n",
            "                                 Dload  Upload   Total   Spent    Left  Speed\n",
            "100 5778k  100 5778k    0     0  11.5M      0 --:--:-- --:--:-- --:--:-- 11.5M\n",
            "Archive:  ml-1m.zip\n",
            "   creating: ml-1m/\n",
            "  inflating: ml-1m/movies.dat        \n",
            "  inflating: ml-1m/ratings.dat       \n",
            "  inflating: ml-1m/README            \n",
            "  inflating: ml-1m/users.dat         \n"
          ]
        }
      ]
    },
    {
      "cell_type": "code",
      "source": [
        "!head ratings.csv"
      ],
      "metadata": {
        "colab": {
          "base_uri": "https://localhost:8080/"
        },
        "id": "eXpgl7XE_En5",
        "outputId": "18aa8b61-3258-4e07-d5d9-925d23c7b960"
      },
      "id": "eXpgl7XE_En5",
      "execution_count": 9,
      "outputs": [
        {
          "output_type": "stream",
          "name": "stdout",
          "text": [
            "1,1193,5,978300760\n",
            "1,661,3,978302109\n",
            "1,914,3,978301968\n",
            "1,3408,4,978300275\n",
            "1,2355,5,978824291\n",
            "1,1197,3,978302268\n",
            "1,1287,5,978302039\n",
            "1,2804,5,978300719\n",
            "1,594,4,978302268\n",
            "1,919,4,978301368\n"
          ]
        }
      ]
    },
    {
      "cell_type": "code",
      "source": [
        "!head movie_titles.csv"
      ],
      "metadata": {
        "colab": {
          "base_uri": "https://localhost:8080/"
        },
        "id": "1FlnyrNdy2DF",
        "outputId": "76b428b3-5fc7-4eab-8f41-3b5fe5a1e0e5"
      },
      "id": "1FlnyrNdy2DF",
      "execution_count": 10,
      "outputs": [
        {
          "output_type": "stream",
          "name": "stdout",
          "text": [
            "1@Toy Story (1995)@Animation|Children's|Comedy\n",
            "2@Jumanji (1995)@Adventure|Children's|Fantasy\n",
            "3@Grumpier Old Men (1995)@Comedy|Romance\n",
            "4@Waiting to Exhale (1995)@Comedy|Drama\n",
            "5@Father of the Bride Part II (1995)@Comedy\n",
            "6@Heat (1995)@Action|Crime|Thriller\n",
            "7@Sabrina (1995)@Comedy|Romance\n",
            "8@Tom and Huck (1995)@Adventure|Children's\n",
            "9@Sudden Death (1995)@Action\n",
            "10@GoldenEye (1995)@Action|Adventure|Thriller\n"
          ]
        }
      ]
    },
    {
      "cell_type": "code",
      "source": [
        "# BigQuery clientを使ってテーブル作成、CSVインポート\n",
        "def load_local_csv_to_bigquery(csv_file_path, table_id, schema, field_delimiter=','):\n",
        "    job_config = bigquery.LoadJobConfig(\n",
        "        source_format=bigquery.SourceFormat.CSV,\n",
        "        schema=schema,\n",
        "        field_delimiter=field_delimiter\n",
        "    )\n",
        "\n",
        "    with open(csv_file_path, \"rb\") as source_file:\n",
        "        job = client.load_table_from_file(source_file, table_id, job_config=job_config)\n",
        "    job.result()"
      ],
      "metadata": {
        "id": "mkBS3TDVcoYf"
      },
      "id": "mkBS3TDVcoYf",
      "execution_count": 11,
      "outputs": []
    },
    {
      "cell_type": "code",
      "source": [
        "# Create and load table for ratings.csv\n",
        "rating_table =\"ratings\" \n",
        "table_id = f\"{dataset_id}.{rating_table}\"\n",
        "csv_file_path = \"./ratings.csv\"\n",
        "schema=[\n",
        "        bigquery.SchemaField(\"user_id\", \"INT64\"),\n",
        "        bigquery.SchemaField(\"item_id\", \"INT64\"),\n",
        "        bigquery.SchemaField(\"rating\", \"FLOAT64\"),\n",
        "        bigquery.SchemaField(\"timestamp\", \"TIMESTAMP\"),\n",
        "    ]\n",
        "load_local_csv_to_bigquery(csv_file_path, table_id, schema)"
      ],
      "metadata": {
        "id": "MQUe3MLtAeYx"
      },
      "id": "MQUe3MLtAeYx",
      "execution_count": 12,
      "outputs": []
    },
    {
      "cell_type": "code",
      "source": [
        "# Create and load table for movie_titles.csv\n",
        "title_table =\"movie_titles\" \n",
        "table_id = f\"{dataset_id}.{title_table}\"\n",
        "csv_file_path = \"./movie_titles.csv\"\n",
        "schema=[\n",
        "        bigquery.SchemaField(\"movie_id\", \"INT64\"),\n",
        "        bigquery.SchemaField(\"movie_title\", \"STRING\"),\n",
        "        bigquery.SchemaField(\"genre\", \"STRING\"),\n",
        "    ]\n",
        "# 区切り文字 @ とする\n",
        "load_local_csv_to_bigquery(csv_file_path, table_id, schema,'@')"
      ],
      "metadata": {
        "id": "fMYgW8g7AtRM"
      },
      "id": "fMYgW8g7AtRM",
      "execution_count": 13,
      "outputs": []
    },
    {
      "cell_type": "code",
      "source": [
        "# （本筋とは別）レーティングの基本情報を調べる\n",
        "\n",
        "# rating_table\n",
        "query = f\"\"\"\n",
        "#standardSQL\n",
        "SELECT\n",
        "  user_id, item_id, rating\n",
        "FROM\n",
        "  {dataset_id}.{rating_table}\n",
        "\"\"\"\n",
        "query_job = client.query(\n",
        "    query,\n",
        "    location=\"US\",\n",
        ")\n",
        "df_rating = query_job.to_dataframe()\n",
        "df_rating.head()\n",
        "\n",
        "# タイトルごとのレーティング取得\n",
        "query = f\"\"\"\n",
        "#standardSQL\n",
        "SELECT\n",
        "  {title_table}.movie_title,\n",
        "  {rating_table}.rating,\n",
        "FROM\n",
        "  {dataset_id}.{rating_table}\n",
        "  LEFT JOIN {dataset_id}.{title_table} ON {rating_table}.item_id = {title_table}.movie_id\n",
        "\"\"\"\n",
        "query_job = client.query(\n",
        "    query,\n",
        "    location=\"US\",\n",
        ")\n",
        "df_movie_ratings = query_job.to_dataframe()\n",
        "df_movie_ratings.head()\n",
        "test = df_movie_ratings.groupby('movie_title').agg(['count', 'mean'])\n",
        "#うまくマルチインデックスの集計ができなかった\n",
        "df_movie_ratings.groupby('movie_title').agg(['count'])"
      ],
      "metadata": {
        "id": "5ur4p6R0PapL"
      },
      "id": "5ur4p6R0PapL",
      "execution_count": null,
      "outputs": []
    },
    {
      "cell_type": "code",
      "source": [
        "# 以下のクエリを実行するにはスロットの購入が必要。\n",
        "# https://cloud.google.com/bigquery/docs/reservations-intro?hl=ja\n",
        "# スロット購入の際はFlexプランの選択が妥当。実行後、スロットを削除する。\n",
        "# BQスロットコミットメント購入→予約作成→予約割り当て→クエリ実行→予約割り当て削除→予約削除→スロットコミットメント削除"
      ],
      "metadata": {
        "id": "4JRBqN73MmPq"
      },
      "id": "4JRBqN73MmPq",
      "execution_count": null,
      "outputs": []
    },
    {
      "cell_type": "code",
      "source": [
        ""
      ],
      "metadata": {
        "id": "uvlicWcLSEke"
      },
      "id": "uvlicWcLSEke",
      "execution_count": null,
      "outputs": []
    },
    {
      "cell_type": "code",
      "source": [
        "# モデル作成　13分かかります。　途中経過を表示できるように修正したい。\n",
        "model_name = \"my_explicit_mf_model\"\n",
        "query = f\"\"\"\n",
        "#standardSQL\n",
        "CREATE OR REPLACE MODEL {dataset_id}.{model_name}\n",
        "OPTIONS\n",
        "  (model_type='matrix_factorization',\n",
        "   user_col='user_id',\n",
        "   item_col='item_id',\n",
        "   l2_reg=9.83,\n",
        "   num_factors=34,\n",
        "   model_registry='vertex_ai',\n",
        "   vertex_ai_model_id='movie_recommend',\n",
        "   vertex_ai_model_version_aliases=['experimental']) AS\n",
        "SELECT\n",
        "  user_id,\n",
        "  item_id,\n",
        "  rating\n",
        "FROM {dataset_id}.{rating_table}\n",
        "\"\"\"\n",
        "\n",
        "query_job = client.query(\n",
        "    query,\n",
        "    location=\"US\",\n",
        ")"
      ],
      "metadata": {
        "id": "kiPnTgveDumt"
      },
      "id": "kiPnTgveDumt",
      "execution_count": 18,
      "outputs": []
    },
    {
      "cell_type": "code",
      "execution_count": 23,
      "id": "11b70a2b-fb0f-4d8b-b7f4-2ff2c5f63bca",
      "metadata": {
        "id": "11b70a2b-fb0f-4d8b-b7f4-2ff2c5f63bca"
      },
      "outputs": [],
      "source": [
        "# Evaluate the model\n",
        "query = f\"\"\"\n",
        "#standardSQL\n",
        "SELECT\n",
        "  *\n",
        "FROM\n",
        "  ML.EVALUATE(MODEL {dataset_id}.{model_name},\n",
        "    (\n",
        "    SELECT\n",
        "      user_id,\n",
        "      item_id,\n",
        "      rating\n",
        "     FROM\n",
        "      {dataset_id}.{rating_table})\n",
        "      )\n",
        "\"\"\"\n",
        "\n",
        "query_job = client.query(\n",
        "    query,\n",
        "    location=\"US\",\n",
        ")\n",
        "\n",
        "df = query_job.to_dataframe()"
      ]
    },
    {
      "cell_type": "code",
      "source": [
        "df = query_job.to_dataframe()\n",
        "df"
      ],
      "metadata": {
        "colab": {
          "base_uri": "https://localhost:8080/",
          "height": 81
        },
        "id": "D7LP6AwRVbuH",
        "outputId": "dd8cd8bf-3840-42b9-e68f-d39afc5d98c4"
      },
      "id": "D7LP6AwRVbuH",
      "execution_count": 25,
      "outputs": [
        {
          "output_type": "execute_result",
          "data": {
            "text/plain": [
              "   mean_absolute_error  mean_squared_error  mean_squared_log_error  \\\n",
              "0              0.48596            0.396012                0.025547   \n",
              "\n",
              "   median_absolute_error  r2_score  explained_variance  \n",
              "0               0.390904  0.682661            0.682661  "
            ],
            "text/html": [
              "\n",
              "  <div id=\"df-838c6618-3007-49fe-8659-1f951195a1bf\">\n",
              "    <div class=\"colab-df-container\">\n",
              "      <div>\n",
              "<style scoped>\n",
              "    .dataframe tbody tr th:only-of-type {\n",
              "        vertical-align: middle;\n",
              "    }\n",
              "\n",
              "    .dataframe tbody tr th {\n",
              "        vertical-align: top;\n",
              "    }\n",
              "\n",
              "    .dataframe thead th {\n",
              "        text-align: right;\n",
              "    }\n",
              "</style>\n",
              "<table border=\"1\" class=\"dataframe\">\n",
              "  <thead>\n",
              "    <tr style=\"text-align: right;\">\n",
              "      <th></th>\n",
              "      <th>mean_absolute_error</th>\n",
              "      <th>mean_squared_error</th>\n",
              "      <th>mean_squared_log_error</th>\n",
              "      <th>median_absolute_error</th>\n",
              "      <th>r2_score</th>\n",
              "      <th>explained_variance</th>\n",
              "    </tr>\n",
              "  </thead>\n",
              "  <tbody>\n",
              "    <tr>\n",
              "      <th>0</th>\n",
              "      <td>0.48596</td>\n",
              "      <td>0.396012</td>\n",
              "      <td>0.025547</td>\n",
              "      <td>0.390904</td>\n",
              "      <td>0.682661</td>\n",
              "      <td>0.682661</td>\n",
              "    </tr>\n",
              "  </tbody>\n",
              "</table>\n",
              "</div>\n",
              "      <button class=\"colab-df-convert\" onclick=\"convertToInteractive('df-838c6618-3007-49fe-8659-1f951195a1bf')\"\n",
              "              title=\"Convert this dataframe to an interactive table.\"\n",
              "              style=\"display:none;\">\n",
              "        \n",
              "  <svg xmlns=\"http://www.w3.org/2000/svg\" height=\"24px\"viewBox=\"0 0 24 24\"\n",
              "       width=\"24px\">\n",
              "    <path d=\"M0 0h24v24H0V0z\" fill=\"none\"/>\n",
              "    <path d=\"M18.56 5.44l.94 2.06.94-2.06 2.06-.94-2.06-.94-.94-2.06-.94 2.06-2.06.94zm-11 1L8.5 8.5l.94-2.06 2.06-.94-2.06-.94L8.5 2.5l-.94 2.06-2.06.94zm10 10l.94 2.06.94-2.06 2.06-.94-2.06-.94-.94-2.06-.94 2.06-2.06.94z\"/><path d=\"M17.41 7.96l-1.37-1.37c-.4-.4-.92-.59-1.43-.59-.52 0-1.04.2-1.43.59L10.3 9.45l-7.72 7.72c-.78.78-.78 2.05 0 2.83L4 21.41c.39.39.9.59 1.41.59.51 0 1.02-.2 1.41-.59l7.78-7.78 2.81-2.81c.8-.78.8-2.07 0-2.86zM5.41 20L4 18.59l7.72-7.72 1.47 1.35L5.41 20z\"/>\n",
              "  </svg>\n",
              "      </button>\n",
              "      \n",
              "  <style>\n",
              "    .colab-df-container {\n",
              "      display:flex;\n",
              "      flex-wrap:wrap;\n",
              "      gap: 12px;\n",
              "    }\n",
              "\n",
              "    .colab-df-convert {\n",
              "      background-color: #E8F0FE;\n",
              "      border: none;\n",
              "      border-radius: 50%;\n",
              "      cursor: pointer;\n",
              "      display: none;\n",
              "      fill: #1967D2;\n",
              "      height: 32px;\n",
              "      padding: 0 0 0 0;\n",
              "      width: 32px;\n",
              "    }\n",
              "\n",
              "    .colab-df-convert:hover {\n",
              "      background-color: #E2EBFA;\n",
              "      box-shadow: 0px 1px 2px rgba(60, 64, 67, 0.3), 0px 1px 3px 1px rgba(60, 64, 67, 0.15);\n",
              "      fill: #174EA6;\n",
              "    }\n",
              "\n",
              "    [theme=dark] .colab-df-convert {\n",
              "      background-color: #3B4455;\n",
              "      fill: #D2E3FC;\n",
              "    }\n",
              "\n",
              "    [theme=dark] .colab-df-convert:hover {\n",
              "      background-color: #434B5C;\n",
              "      box-shadow: 0px 1px 3px 1px rgba(0, 0, 0, 0.15);\n",
              "      filter: drop-shadow(0px 1px 2px rgba(0, 0, 0, 0.3));\n",
              "      fill: #FFFFFF;\n",
              "    }\n",
              "  </style>\n",
              "\n",
              "      <script>\n",
              "        const buttonEl =\n",
              "          document.querySelector('#df-838c6618-3007-49fe-8659-1f951195a1bf button.colab-df-convert');\n",
              "        buttonEl.style.display =\n",
              "          google.colab.kernel.accessAllowed ? 'block' : 'none';\n",
              "\n",
              "        async function convertToInteractive(key) {\n",
              "          const element = document.querySelector('#df-838c6618-3007-49fe-8659-1f951195a1bf');\n",
              "          const dataTable =\n",
              "            await google.colab.kernel.invokeFunction('convertToInteractive',\n",
              "                                                     [key], {});\n",
              "          if (!dataTable) return;\n",
              "\n",
              "          const docLinkHtml = 'Like what you see? Visit the ' +\n",
              "            '<a target=\"_blank\" href=https://colab.research.google.com/notebooks/data_table.ipynb>data table notebook</a>'\n",
              "            + ' to learn more about interactive tables.';\n",
              "          element.innerHTML = '';\n",
              "          dataTable['output_type'] = 'display_data';\n",
              "          await google.colab.output.renderOutput(dataTable, element);\n",
              "          const docLink = document.createElement('div');\n",
              "          docLink.innerHTML = docLinkHtml;\n",
              "          element.appendChild(docLink);\n",
              "        }\n",
              "      </script>\n",
              "    </div>\n",
              "  </div>\n",
              "  "
            ]
          },
          "metadata": {},
          "execution_count": 25
        }
      ]
    },
    {
      "cell_type": "code",
      "source": [
        "# 5ユーザーに対して、全ての映画のレーティングを予測する\n",
        "query = f\"\"\"\n",
        "#standardSQL\n",
        "SELECT\n",
        "  *\n",
        "FROM\n",
        "  ML.RECOMMEND(MODEL {dataset_id}.{model_name},\n",
        "    (\n",
        "    SELECT\n",
        "      DISTINCT(user_id)\n",
        "    FROM\n",
        "      {dataset_id}.{rating_table}\n",
        "    LIMIT 5))\n",
        "\"\"\"\n",
        "query_job = client.query(\n",
        "    query,\n",
        "    location=\"US\",\n",
        ")\n",
        "df = query_job.to_dataframe()\n",
        "df"
      ],
      "metadata": {
        "colab": {
          "base_uri": "https://localhost:8080/",
          "height": 424
        },
        "id": "0FTXhXZZ5Pqi",
        "outputId": "25108bdf-f68c-4b0b-ec01-e30c933a60b7"
      },
      "id": "0FTXhXZZ5Pqi",
      "execution_count": 30,
      "outputs": [
        {
          "output_type": "execute_result",
          "data": {
            "text/plain": [
              "       predicted_rating  user_id  item_id\n",
              "0              1.804184        2     2561\n",
              "1              3.902917        2     3329\n",
              "2              2.791661        2      258\n",
              "3              2.755314        2     3842\n",
              "4              3.199996        2     1284\n",
              "...                 ...      ...      ...\n",
              "18525          4.548385        5      246\n",
              "18526          3.774170        5     1785\n",
              "18527          3.981500        5      506\n",
              "18528          2.993428        5     3322\n",
              "18529          3.716582        5     1278\n",
              "\n",
              "[18530 rows x 3 columns]"
            ],
            "text/html": [
              "\n",
              "  <div id=\"df-3e3c56ac-18c5-4bac-bd04-dc7a70fd6af9\">\n",
              "    <div class=\"colab-df-container\">\n",
              "      <div>\n",
              "<style scoped>\n",
              "    .dataframe tbody tr th:only-of-type {\n",
              "        vertical-align: middle;\n",
              "    }\n",
              "\n",
              "    .dataframe tbody tr th {\n",
              "        vertical-align: top;\n",
              "    }\n",
              "\n",
              "    .dataframe thead th {\n",
              "        text-align: right;\n",
              "    }\n",
              "</style>\n",
              "<table border=\"1\" class=\"dataframe\">\n",
              "  <thead>\n",
              "    <tr style=\"text-align: right;\">\n",
              "      <th></th>\n",
              "      <th>predicted_rating</th>\n",
              "      <th>user_id</th>\n",
              "      <th>item_id</th>\n",
              "    </tr>\n",
              "  </thead>\n",
              "  <tbody>\n",
              "    <tr>\n",
              "      <th>0</th>\n",
              "      <td>1.804184</td>\n",
              "      <td>2</td>\n",
              "      <td>2561</td>\n",
              "    </tr>\n",
              "    <tr>\n",
              "      <th>1</th>\n",
              "      <td>3.902917</td>\n",
              "      <td>2</td>\n",
              "      <td>3329</td>\n",
              "    </tr>\n",
              "    <tr>\n",
              "      <th>2</th>\n",
              "      <td>2.791661</td>\n",
              "      <td>2</td>\n",
              "      <td>258</td>\n",
              "    </tr>\n",
              "    <tr>\n",
              "      <th>3</th>\n",
              "      <td>2.755314</td>\n",
              "      <td>2</td>\n",
              "      <td>3842</td>\n",
              "    </tr>\n",
              "    <tr>\n",
              "      <th>4</th>\n",
              "      <td>3.199996</td>\n",
              "      <td>2</td>\n",
              "      <td>1284</td>\n",
              "    </tr>\n",
              "    <tr>\n",
              "      <th>...</th>\n",
              "      <td>...</td>\n",
              "      <td>...</td>\n",
              "      <td>...</td>\n",
              "    </tr>\n",
              "    <tr>\n",
              "      <th>18525</th>\n",
              "      <td>4.548385</td>\n",
              "      <td>5</td>\n",
              "      <td>246</td>\n",
              "    </tr>\n",
              "    <tr>\n",
              "      <th>18526</th>\n",
              "      <td>3.774170</td>\n",
              "      <td>5</td>\n",
              "      <td>1785</td>\n",
              "    </tr>\n",
              "    <tr>\n",
              "      <th>18527</th>\n",
              "      <td>3.981500</td>\n",
              "      <td>5</td>\n",
              "      <td>506</td>\n",
              "    </tr>\n",
              "    <tr>\n",
              "      <th>18528</th>\n",
              "      <td>2.993428</td>\n",
              "      <td>5</td>\n",
              "      <td>3322</td>\n",
              "    </tr>\n",
              "    <tr>\n",
              "      <th>18529</th>\n",
              "      <td>3.716582</td>\n",
              "      <td>5</td>\n",
              "      <td>1278</td>\n",
              "    </tr>\n",
              "  </tbody>\n",
              "</table>\n",
              "<p>18530 rows × 3 columns</p>\n",
              "</div>\n",
              "      <button class=\"colab-df-convert\" onclick=\"convertToInteractive('df-3e3c56ac-18c5-4bac-bd04-dc7a70fd6af9')\"\n",
              "              title=\"Convert this dataframe to an interactive table.\"\n",
              "              style=\"display:none;\">\n",
              "        \n",
              "  <svg xmlns=\"http://www.w3.org/2000/svg\" height=\"24px\"viewBox=\"0 0 24 24\"\n",
              "       width=\"24px\">\n",
              "    <path d=\"M0 0h24v24H0V0z\" fill=\"none\"/>\n",
              "    <path d=\"M18.56 5.44l.94 2.06.94-2.06 2.06-.94-2.06-.94-.94-2.06-.94 2.06-2.06.94zm-11 1L8.5 8.5l.94-2.06 2.06-.94-2.06-.94L8.5 2.5l-.94 2.06-2.06.94zm10 10l.94 2.06.94-2.06 2.06-.94-2.06-.94-.94-2.06-.94 2.06-2.06.94z\"/><path d=\"M17.41 7.96l-1.37-1.37c-.4-.4-.92-.59-1.43-.59-.52 0-1.04.2-1.43.59L10.3 9.45l-7.72 7.72c-.78.78-.78 2.05 0 2.83L4 21.41c.39.39.9.59 1.41.59.51 0 1.02-.2 1.41-.59l7.78-7.78 2.81-2.81c.8-.78.8-2.07 0-2.86zM5.41 20L4 18.59l7.72-7.72 1.47 1.35L5.41 20z\"/>\n",
              "  </svg>\n",
              "      </button>\n",
              "      \n",
              "  <style>\n",
              "    .colab-df-container {\n",
              "      display:flex;\n",
              "      flex-wrap:wrap;\n",
              "      gap: 12px;\n",
              "    }\n",
              "\n",
              "    .colab-df-convert {\n",
              "      background-color: #E8F0FE;\n",
              "      border: none;\n",
              "      border-radius: 50%;\n",
              "      cursor: pointer;\n",
              "      display: none;\n",
              "      fill: #1967D2;\n",
              "      height: 32px;\n",
              "      padding: 0 0 0 0;\n",
              "      width: 32px;\n",
              "    }\n",
              "\n",
              "    .colab-df-convert:hover {\n",
              "      background-color: #E2EBFA;\n",
              "      box-shadow: 0px 1px 2px rgba(60, 64, 67, 0.3), 0px 1px 3px 1px rgba(60, 64, 67, 0.15);\n",
              "      fill: #174EA6;\n",
              "    }\n",
              "\n",
              "    [theme=dark] .colab-df-convert {\n",
              "      background-color: #3B4455;\n",
              "      fill: #D2E3FC;\n",
              "    }\n",
              "\n",
              "    [theme=dark] .colab-df-convert:hover {\n",
              "      background-color: #434B5C;\n",
              "      box-shadow: 0px 1px 3px 1px rgba(0, 0, 0, 0.15);\n",
              "      filter: drop-shadow(0px 1px 2px rgba(0, 0, 0, 0.3));\n",
              "      fill: #FFFFFF;\n",
              "    }\n",
              "  </style>\n",
              "\n",
              "      <script>\n",
              "        const buttonEl =\n",
              "          document.querySelector('#df-3e3c56ac-18c5-4bac-bd04-dc7a70fd6af9 button.colab-df-convert');\n",
              "        buttonEl.style.display =\n",
              "          google.colab.kernel.accessAllowed ? 'block' : 'none';\n",
              "\n",
              "        async function convertToInteractive(key) {\n",
              "          const element = document.querySelector('#df-3e3c56ac-18c5-4bac-bd04-dc7a70fd6af9');\n",
              "          const dataTable =\n",
              "            await google.colab.kernel.invokeFunction('convertToInteractive',\n",
              "                                                     [key], {});\n",
              "          if (!dataTable) return;\n",
              "\n",
              "          const docLinkHtml = 'Like what you see? Visit the ' +\n",
              "            '<a target=\"_blank\" href=https://colab.research.google.com/notebooks/data_table.ipynb>data table notebook</a>'\n",
              "            + ' to learn more about interactive tables.';\n",
              "          element.innerHTML = '';\n",
              "          dataTable['output_type'] = 'display_data';\n",
              "          await google.colab.output.renderOutput(dataTable, element);\n",
              "          const docLink = document.createElement('div');\n",
              "          docLink.innerHTML = docLinkHtml;\n",
              "          element.appendChild(docLink);\n",
              "        }\n",
              "      </script>\n",
              "    </div>\n",
              "  </div>\n",
              "  "
            ]
          },
          "metadata": {},
          "execution_count": 30
        }
      ]
    },
    {
      "cell_type": "code",
      "source": [
        "# 全ユーザーに対して、全ての映画のレーティングを予測しテーブルに保存する（全ユーザー数×全映画数なので行数が膨大になります）\n",
        "prediction_result_table = \"all_prediction_result\"\n",
        "query = f\"\"\"\n",
        "#standardSQL\n",
        "CREATE OR REPLACE TABLE {dataset_id}.{prediction_result_table}\n",
        "OPTIONS() AS\n",
        "SELECT\n",
        "  *\n",
        "FROM\n",
        "  ML.RECOMMEND(MODEL {dataset_id}.{model_name})\n",
        "\"\"\"\n",
        "query_job = client.query(\n",
        "    query,\n",
        "    location=\"US\",\n",
        ")"
      ],
      "metadata": {
        "id": "TN8TUmBC53v4"
      },
      "id": "TN8TUmBC53v4",
      "execution_count": null,
      "outputs": []
    },
    {
      "cell_type": "code",
      "source": [
        ""
      ],
      "metadata": {
        "id": "ZBt88rrcNbj-"
      },
      "id": "ZBt88rrcNbj-",
      "execution_count": null,
      "outputs": []
    },
    {
      "cell_type": "code",
      "source": [
        "# ユーザーごとに予測レートが高い作品上位５つを提示\n",
        "query = f\"\"\"\n",
        "#standardSQL\n",
        "SELECT\n",
        "  user_id,\n",
        "  ARRAY_AGG(STRUCT(movie_title, genre, predicted_rating)\n",
        "ORDER BY predicted_rating DESC LIMIT 5)\n",
        "FROM (\n",
        "SELECT\n",
        "  user_id,\n",
        "  item_id,\n",
        "  predicted_rating,\n",
        "  movie_title,\n",
        "  genre\n",
        "FROM\n",
        "  {dataset_id}.{prediction_result_table}\n",
        "JOIN\n",
        "  {dataset_id}.{title_table}\n",
        "ON\n",
        "  item_id = movie_id)\n",
        "GROUP BY\n",
        "  user_id\n",
        "\"\"\"\n",
        "query_job = client.query(\n",
        "    query,\n",
        "    location=\"US\",\n",
        ")\n",
        "df_movie_recommend = query_job.to_dataframe()\n",
        "df_movie_recommend.head()"
      ],
      "metadata": {
        "colab": {
          "base_uri": "https://localhost:8080/",
          "height": 206
        },
        "id": "s48RRwgNAHmj",
        "outputId": "0007f4fc-58b9-4007-a198-7c77e49750b4"
      },
      "id": "s48RRwgNAHmj",
      "execution_count": 90,
      "outputs": [
        {
          "output_type": "execute_result",
          "data": {
            "text/plain": [
              "   user_id                                                f0_\n",
              "0     1386  [{'movie_title': 'Big Carnival, The (1951)', '...\n",
              "1     1771  [{'movie_title': 'Song of Freedom (1936)', 'ge...\n",
              "2     5096  [{'movie_title': 'Cup, The (Phörpa) (1999)', '...\n",
              "3     1449  [{'movie_title': 'Song of Freedom (1936)', 'ge...\n",
              "4      453  [{'movie_title': 'Two Family House (2000)', 'g..."
            ],
            "text/html": [
              "\n",
              "  <div id=\"df-e6ca75d4-d957-49c7-99ff-f94241f1c21f\">\n",
              "    <div class=\"colab-df-container\">\n",
              "      <div>\n",
              "<style scoped>\n",
              "    .dataframe tbody tr th:only-of-type {\n",
              "        vertical-align: middle;\n",
              "    }\n",
              "\n",
              "    .dataframe tbody tr th {\n",
              "        vertical-align: top;\n",
              "    }\n",
              "\n",
              "    .dataframe thead th {\n",
              "        text-align: right;\n",
              "    }\n",
              "</style>\n",
              "<table border=\"1\" class=\"dataframe\">\n",
              "  <thead>\n",
              "    <tr style=\"text-align: right;\">\n",
              "      <th></th>\n",
              "      <th>user_id</th>\n",
              "      <th>f0_</th>\n",
              "    </tr>\n",
              "  </thead>\n",
              "  <tbody>\n",
              "    <tr>\n",
              "      <th>0</th>\n",
              "      <td>1386</td>\n",
              "      <td>[{'movie_title': 'Big Carnival, The (1951)', '...</td>\n",
              "    </tr>\n",
              "    <tr>\n",
              "      <th>1</th>\n",
              "      <td>1771</td>\n",
              "      <td>[{'movie_title': 'Song of Freedom (1936)', 'ge...</td>\n",
              "    </tr>\n",
              "    <tr>\n",
              "      <th>2</th>\n",
              "      <td>5096</td>\n",
              "      <td>[{'movie_title': 'Cup, The (Phörpa) (1999)', '...</td>\n",
              "    </tr>\n",
              "    <tr>\n",
              "      <th>3</th>\n",
              "      <td>1449</td>\n",
              "      <td>[{'movie_title': 'Song of Freedom (1936)', 'ge...</td>\n",
              "    </tr>\n",
              "    <tr>\n",
              "      <th>4</th>\n",
              "      <td>453</td>\n",
              "      <td>[{'movie_title': 'Two Family House (2000)', 'g...</td>\n",
              "    </tr>\n",
              "  </tbody>\n",
              "</table>\n",
              "</div>\n",
              "      <button class=\"colab-df-convert\" onclick=\"convertToInteractive('df-e6ca75d4-d957-49c7-99ff-f94241f1c21f')\"\n",
              "              title=\"Convert this dataframe to an interactive table.\"\n",
              "              style=\"display:none;\">\n",
              "        \n",
              "  <svg xmlns=\"http://www.w3.org/2000/svg\" height=\"24px\"viewBox=\"0 0 24 24\"\n",
              "       width=\"24px\">\n",
              "    <path d=\"M0 0h24v24H0V0z\" fill=\"none\"/>\n",
              "    <path d=\"M18.56 5.44l.94 2.06.94-2.06 2.06-.94-2.06-.94-.94-2.06-.94 2.06-2.06.94zm-11 1L8.5 8.5l.94-2.06 2.06-.94-2.06-.94L8.5 2.5l-.94 2.06-2.06.94zm10 10l.94 2.06.94-2.06 2.06-.94-2.06-.94-.94-2.06-.94 2.06-2.06.94z\"/><path d=\"M17.41 7.96l-1.37-1.37c-.4-.4-.92-.59-1.43-.59-.52 0-1.04.2-1.43.59L10.3 9.45l-7.72 7.72c-.78.78-.78 2.05 0 2.83L4 21.41c.39.39.9.59 1.41.59.51 0 1.02-.2 1.41-.59l7.78-7.78 2.81-2.81c.8-.78.8-2.07 0-2.86zM5.41 20L4 18.59l7.72-7.72 1.47 1.35L5.41 20z\"/>\n",
              "  </svg>\n",
              "      </button>\n",
              "      \n",
              "  <style>\n",
              "    .colab-df-container {\n",
              "      display:flex;\n",
              "      flex-wrap:wrap;\n",
              "      gap: 12px;\n",
              "    }\n",
              "\n",
              "    .colab-df-convert {\n",
              "      background-color: #E8F0FE;\n",
              "      border: none;\n",
              "      border-radius: 50%;\n",
              "      cursor: pointer;\n",
              "      display: none;\n",
              "      fill: #1967D2;\n",
              "      height: 32px;\n",
              "      padding: 0 0 0 0;\n",
              "      width: 32px;\n",
              "    }\n",
              "\n",
              "    .colab-df-convert:hover {\n",
              "      background-color: #E2EBFA;\n",
              "      box-shadow: 0px 1px 2px rgba(60, 64, 67, 0.3), 0px 1px 3px 1px rgba(60, 64, 67, 0.15);\n",
              "      fill: #174EA6;\n",
              "    }\n",
              "\n",
              "    [theme=dark] .colab-df-convert {\n",
              "      background-color: #3B4455;\n",
              "      fill: #D2E3FC;\n",
              "    }\n",
              "\n",
              "    [theme=dark] .colab-df-convert:hover {\n",
              "      background-color: #434B5C;\n",
              "      box-shadow: 0px 1px 3px 1px rgba(0, 0, 0, 0.15);\n",
              "      filter: drop-shadow(0px 1px 2px rgba(0, 0, 0, 0.3));\n",
              "      fill: #FFFFFF;\n",
              "    }\n",
              "  </style>\n",
              "\n",
              "      <script>\n",
              "        const buttonEl =\n",
              "          document.querySelector('#df-e6ca75d4-d957-49c7-99ff-f94241f1c21f button.colab-df-convert');\n",
              "        buttonEl.style.display =\n",
              "          google.colab.kernel.accessAllowed ? 'block' : 'none';\n",
              "\n",
              "        async function convertToInteractive(key) {\n",
              "          const element = document.querySelector('#df-e6ca75d4-d957-49c7-99ff-f94241f1c21f');\n",
              "          const dataTable =\n",
              "            await google.colab.kernel.invokeFunction('convertToInteractive',\n",
              "                                                     [key], {});\n",
              "          if (!dataTable) return;\n",
              "\n",
              "          const docLinkHtml = 'Like what you see? Visit the ' +\n",
              "            '<a target=\"_blank\" href=https://colab.research.google.com/notebooks/data_table.ipynb>data table notebook</a>'\n",
              "            + ' to learn more about interactive tables.';\n",
              "          element.innerHTML = '';\n",
              "          dataTable['output_type'] = 'display_data';\n",
              "          await google.colab.output.renderOutput(dataTable, element);\n",
              "          const docLink = document.createElement('div');\n",
              "          docLink.innerHTML = docLinkHtml;\n",
              "          element.appendChild(docLink);\n",
              "        }\n",
              "      </script>\n",
              "    </div>\n",
              "  </div>\n",
              "  "
            ]
          },
          "metadata": {},
          "execution_count": 90
        }
      ]
    },
    {
      "cell_type": "code",
      "source": [
        "# ジャンルがレーティングに与える影響の評価\n",
        "query = f\"\"\"\n",
        "#standardSQL\n",
        "SELECT\n",
        "  factor,\n",
        "  ARRAY_AGG(STRUCT(feature, genre,\n",
        "      weight)\n",
        "  ORDER BY\n",
        "    weight DESC\n",
        "  LIMIT\n",
        "    10) AS weights\n",
        "FROM (\n",
        "  SELECT\n",
        "    * EXCEPT(factor_weights)\n",
        "  FROM (\n",
        "    SELECT\n",
        "      *\n",
        "    FROM (\n",
        "      SELECT\n",
        "        factor_weights,\n",
        "        CAST(feature AS INT64) as feature\n",
        "      FROM\n",
        "        ML.WEIGHTS(model {dataset_id}.{model_name})\n",
        "      WHERE\n",
        "        processed_input= 'item_id')\n",
        "    JOIN\n",
        "      {dataset_id}.{title_table}\n",
        "    ON\n",
        "      feature = movie_id) weights\n",
        "  CROSS JOIN\n",
        "    UNNEST(weights.factor_weights)\n",
        "  ORDER BY\n",
        "    feature,\n",
        "    weight DESC)\n",
        "GROUP BY\n",
        "  factor\n",
        "\"\"\"\n",
        "query_job = client.query(\n",
        "    query,\n",
        "    location=\"US\",\n",
        ")\n",
        "df_genre_factor = query_job.to_dataframe()\n",
        "df_genre_factor.head()"
      ],
      "metadata": {
        "colab": {
          "base_uri": "https://localhost:8080/",
          "height": 206
        },
        "id": "SvHAJYvwCtVs",
        "outputId": "78f153c6-0dc1-416a-8eff-10464c4595d5"
      },
      "id": "SvHAJYvwCtVs",
      "execution_count": 94,
      "outputs": [
        {
          "output_type": "execute_result",
          "data": {
            "text/plain": [
              "   factor                                            weights\n",
              "0      34  [{'feature': 806, 'genre': 'Drama', 'weight': ...\n",
              "1      33  [{'feature': 2893, 'genre': 'Action|Drama', 'w...\n",
              "2      32  [{'feature': 3544, 'genre': 'Comedy', 'weight'...\n",
              "3      31  [{'feature': 2711, 'genre': 'Drama', 'weight':...\n",
              "4      30  [{'feature': 3577, 'genre': 'Drama', 'weight':..."
            ],
            "text/html": [
              "\n",
              "  <div id=\"df-f1542a47-60be-413e-ba3a-d34206bf1e8a\">\n",
              "    <div class=\"colab-df-container\">\n",
              "      <div>\n",
              "<style scoped>\n",
              "    .dataframe tbody tr th:only-of-type {\n",
              "        vertical-align: middle;\n",
              "    }\n",
              "\n",
              "    .dataframe tbody tr th {\n",
              "        vertical-align: top;\n",
              "    }\n",
              "\n",
              "    .dataframe thead th {\n",
              "        text-align: right;\n",
              "    }\n",
              "</style>\n",
              "<table border=\"1\" class=\"dataframe\">\n",
              "  <thead>\n",
              "    <tr style=\"text-align: right;\">\n",
              "      <th></th>\n",
              "      <th>factor</th>\n",
              "      <th>weights</th>\n",
              "    </tr>\n",
              "  </thead>\n",
              "  <tbody>\n",
              "    <tr>\n",
              "      <th>0</th>\n",
              "      <td>34</td>\n",
              "      <td>[{'feature': 806, 'genre': 'Drama', 'weight': ...</td>\n",
              "    </tr>\n",
              "    <tr>\n",
              "      <th>1</th>\n",
              "      <td>33</td>\n",
              "      <td>[{'feature': 2893, 'genre': 'Action|Drama', 'w...</td>\n",
              "    </tr>\n",
              "    <tr>\n",
              "      <th>2</th>\n",
              "      <td>32</td>\n",
              "      <td>[{'feature': 3544, 'genre': 'Comedy', 'weight'...</td>\n",
              "    </tr>\n",
              "    <tr>\n",
              "      <th>3</th>\n",
              "      <td>31</td>\n",
              "      <td>[{'feature': 2711, 'genre': 'Drama', 'weight':...</td>\n",
              "    </tr>\n",
              "    <tr>\n",
              "      <th>4</th>\n",
              "      <td>30</td>\n",
              "      <td>[{'feature': 3577, 'genre': 'Drama', 'weight':...</td>\n",
              "    </tr>\n",
              "  </tbody>\n",
              "</table>\n",
              "</div>\n",
              "      <button class=\"colab-df-convert\" onclick=\"convertToInteractive('df-f1542a47-60be-413e-ba3a-d34206bf1e8a')\"\n",
              "              title=\"Convert this dataframe to an interactive table.\"\n",
              "              style=\"display:none;\">\n",
              "        \n",
              "  <svg xmlns=\"http://www.w3.org/2000/svg\" height=\"24px\"viewBox=\"0 0 24 24\"\n",
              "       width=\"24px\">\n",
              "    <path d=\"M0 0h24v24H0V0z\" fill=\"none\"/>\n",
              "    <path d=\"M18.56 5.44l.94 2.06.94-2.06 2.06-.94-2.06-.94-.94-2.06-.94 2.06-2.06.94zm-11 1L8.5 8.5l.94-2.06 2.06-.94-2.06-.94L8.5 2.5l-.94 2.06-2.06.94zm10 10l.94 2.06.94-2.06 2.06-.94-2.06-.94-.94-2.06-.94 2.06-2.06.94z\"/><path d=\"M17.41 7.96l-1.37-1.37c-.4-.4-.92-.59-1.43-.59-.52 0-1.04.2-1.43.59L10.3 9.45l-7.72 7.72c-.78.78-.78 2.05 0 2.83L4 21.41c.39.39.9.59 1.41.59.51 0 1.02-.2 1.41-.59l7.78-7.78 2.81-2.81c.8-.78.8-2.07 0-2.86zM5.41 20L4 18.59l7.72-7.72 1.47 1.35L5.41 20z\"/>\n",
              "  </svg>\n",
              "      </button>\n",
              "      \n",
              "  <style>\n",
              "    .colab-df-container {\n",
              "      display:flex;\n",
              "      flex-wrap:wrap;\n",
              "      gap: 12px;\n",
              "    }\n",
              "\n",
              "    .colab-df-convert {\n",
              "      background-color: #E8F0FE;\n",
              "      border: none;\n",
              "      border-radius: 50%;\n",
              "      cursor: pointer;\n",
              "      display: none;\n",
              "      fill: #1967D2;\n",
              "      height: 32px;\n",
              "      padding: 0 0 0 0;\n",
              "      width: 32px;\n",
              "    }\n",
              "\n",
              "    .colab-df-convert:hover {\n",
              "      background-color: #E2EBFA;\n",
              "      box-shadow: 0px 1px 2px rgba(60, 64, 67, 0.3), 0px 1px 3px 1px rgba(60, 64, 67, 0.15);\n",
              "      fill: #174EA6;\n",
              "    }\n",
              "\n",
              "    [theme=dark] .colab-df-convert {\n",
              "      background-color: #3B4455;\n",
              "      fill: #D2E3FC;\n",
              "    }\n",
              "\n",
              "    [theme=dark] .colab-df-convert:hover {\n",
              "      background-color: #434B5C;\n",
              "      box-shadow: 0px 1px 3px 1px rgba(0, 0, 0, 0.15);\n",
              "      filter: drop-shadow(0px 1px 2px rgba(0, 0, 0, 0.3));\n",
              "      fill: #FFFFFF;\n",
              "    }\n",
              "  </style>\n",
              "\n",
              "      <script>\n",
              "        const buttonEl =\n",
              "          document.querySelector('#df-f1542a47-60be-413e-ba3a-d34206bf1e8a button.colab-df-convert');\n",
              "        buttonEl.style.display =\n",
              "          google.colab.kernel.accessAllowed ? 'block' : 'none';\n",
              "\n",
              "        async function convertToInteractive(key) {\n",
              "          const element = document.querySelector('#df-f1542a47-60be-413e-ba3a-d34206bf1e8a');\n",
              "          const dataTable =\n",
              "            await google.colab.kernel.invokeFunction('convertToInteractive',\n",
              "                                                     [key], {});\n",
              "          if (!dataTable) return;\n",
              "\n",
              "          const docLinkHtml = 'Like what you see? Visit the ' +\n",
              "            '<a target=\"_blank\" href=https://colab.research.google.com/notebooks/data_table.ipynb>data table notebook</a>'\n",
              "            + ' to learn more about interactive tables.';\n",
              "          element.innerHTML = '';\n",
              "          dataTable['output_type'] = 'display_data';\n",
              "          await google.colab.output.renderOutput(dataTable, element);\n",
              "          const docLink = document.createElement('div');\n",
              "          docLink.innerHTML = docLinkHtml;\n",
              "          element.appendChild(docLink);\n",
              "        }\n",
              "      </script>\n",
              "    </div>\n",
              "  </div>\n",
              "  "
            ]
          },
          "metadata": {},
          "execution_count": 94
        }
      ]
    },
    {
      "cell_type": "code",
      "source": [
        ""
      ],
      "metadata": {
        "colab": {
          "base_uri": "https://localhost:8080/",
          "height": 486
        },
        "id": "4MQLKkeaFjh2",
        "outputId": "4ddb1669-7c9b-40ef-f6ce-c0ae04b575cf"
      },
      "id": "4MQLKkeaFjh2",
      "execution_count": 86,
      "outputs": [
        {
          "output_type": "execute_result",
          "data": {
            "text/plain": [
              "                                           rating\n",
              "                                            count\n",
              "movie_title                                      \n",
              "$1,000,000 Duck (1971)                         37\n",
              "'Night Mother (1986)                           70\n",
              "'Til There Was You (1997)                      52\n",
              "'burbs, The (1989)                            303\n",
              "...And Justice for All (1979)                 199\n",
              "...                                           ...\n",
              "Zed & Two Noughts, A (1985)                    29\n",
              "Zero Effect (1998)                            301\n",
              "Zero Kelvin (Kjærlighetens kjøtere) (1995)      2\n",
              "Zeus and Roxanne (1997)                        23\n",
              "eXistenZ (1999)                               410\n",
              "\n",
              "[3706 rows x 1 columns]"
            ],
            "text/html": [
              "\n",
              "  <div id=\"df-a750e21d-c6bc-47fe-9621-cd8741b5dca7\">\n",
              "    <div class=\"colab-df-container\">\n",
              "      <div>\n",
              "<style scoped>\n",
              "    .dataframe tbody tr th:only-of-type {\n",
              "        vertical-align: middle;\n",
              "    }\n",
              "\n",
              "    .dataframe tbody tr th {\n",
              "        vertical-align: top;\n",
              "    }\n",
              "\n",
              "    .dataframe thead tr th {\n",
              "        text-align: left;\n",
              "    }\n",
              "\n",
              "    .dataframe thead tr:last-of-type th {\n",
              "        text-align: right;\n",
              "    }\n",
              "</style>\n",
              "<table border=\"1\" class=\"dataframe\">\n",
              "  <thead>\n",
              "    <tr>\n",
              "      <th></th>\n",
              "      <th>rating</th>\n",
              "    </tr>\n",
              "    <tr>\n",
              "      <th></th>\n",
              "      <th>count</th>\n",
              "    </tr>\n",
              "    <tr>\n",
              "      <th>movie_title</th>\n",
              "      <th></th>\n",
              "    </tr>\n",
              "  </thead>\n",
              "  <tbody>\n",
              "    <tr>\n",
              "      <th>$1,000,000 Duck (1971)</th>\n",
              "      <td>37</td>\n",
              "    </tr>\n",
              "    <tr>\n",
              "      <th>'Night Mother (1986)</th>\n",
              "      <td>70</td>\n",
              "    </tr>\n",
              "    <tr>\n",
              "      <th>'Til There Was You (1997)</th>\n",
              "      <td>52</td>\n",
              "    </tr>\n",
              "    <tr>\n",
              "      <th>'burbs, The (1989)</th>\n",
              "      <td>303</td>\n",
              "    </tr>\n",
              "    <tr>\n",
              "      <th>...And Justice for All (1979)</th>\n",
              "      <td>199</td>\n",
              "    </tr>\n",
              "    <tr>\n",
              "      <th>...</th>\n",
              "      <td>...</td>\n",
              "    </tr>\n",
              "    <tr>\n",
              "      <th>Zed &amp; Two Noughts, A (1985)</th>\n",
              "      <td>29</td>\n",
              "    </tr>\n",
              "    <tr>\n",
              "      <th>Zero Effect (1998)</th>\n",
              "      <td>301</td>\n",
              "    </tr>\n",
              "    <tr>\n",
              "      <th>Zero Kelvin (Kjærlighetens kjøtere) (1995)</th>\n",
              "      <td>2</td>\n",
              "    </tr>\n",
              "    <tr>\n",
              "      <th>Zeus and Roxanne (1997)</th>\n",
              "      <td>23</td>\n",
              "    </tr>\n",
              "    <tr>\n",
              "      <th>eXistenZ (1999)</th>\n",
              "      <td>410</td>\n",
              "    </tr>\n",
              "  </tbody>\n",
              "</table>\n",
              "<p>3706 rows × 1 columns</p>\n",
              "</div>\n",
              "      <button class=\"colab-df-convert\" onclick=\"convertToInteractive('df-a750e21d-c6bc-47fe-9621-cd8741b5dca7')\"\n",
              "              title=\"Convert this dataframe to an interactive table.\"\n",
              "              style=\"display:none;\">\n",
              "        \n",
              "  <svg xmlns=\"http://www.w3.org/2000/svg\" height=\"24px\"viewBox=\"0 0 24 24\"\n",
              "       width=\"24px\">\n",
              "    <path d=\"M0 0h24v24H0V0z\" fill=\"none\"/>\n",
              "    <path d=\"M18.56 5.44l.94 2.06.94-2.06 2.06-.94-2.06-.94-.94-2.06-.94 2.06-2.06.94zm-11 1L8.5 8.5l.94-2.06 2.06-.94-2.06-.94L8.5 2.5l-.94 2.06-2.06.94zm10 10l.94 2.06.94-2.06 2.06-.94-2.06-.94-.94-2.06-.94 2.06-2.06.94z\"/><path d=\"M17.41 7.96l-1.37-1.37c-.4-.4-.92-.59-1.43-.59-.52 0-1.04.2-1.43.59L10.3 9.45l-7.72 7.72c-.78.78-.78 2.05 0 2.83L4 21.41c.39.39.9.59 1.41.59.51 0 1.02-.2 1.41-.59l7.78-7.78 2.81-2.81c.8-.78.8-2.07 0-2.86zM5.41 20L4 18.59l7.72-7.72 1.47 1.35L5.41 20z\"/>\n",
              "  </svg>\n",
              "      </button>\n",
              "      \n",
              "  <style>\n",
              "    .colab-df-container {\n",
              "      display:flex;\n",
              "      flex-wrap:wrap;\n",
              "      gap: 12px;\n",
              "    }\n",
              "\n",
              "    .colab-df-convert {\n",
              "      background-color: #E8F0FE;\n",
              "      border: none;\n",
              "      border-radius: 50%;\n",
              "      cursor: pointer;\n",
              "      display: none;\n",
              "      fill: #1967D2;\n",
              "      height: 32px;\n",
              "      padding: 0 0 0 0;\n",
              "      width: 32px;\n",
              "    }\n",
              "\n",
              "    .colab-df-convert:hover {\n",
              "      background-color: #E2EBFA;\n",
              "      box-shadow: 0px 1px 2px rgba(60, 64, 67, 0.3), 0px 1px 3px 1px rgba(60, 64, 67, 0.15);\n",
              "      fill: #174EA6;\n",
              "    }\n",
              "\n",
              "    [theme=dark] .colab-df-convert {\n",
              "      background-color: #3B4455;\n",
              "      fill: #D2E3FC;\n",
              "    }\n",
              "\n",
              "    [theme=dark] .colab-df-convert:hover {\n",
              "      background-color: #434B5C;\n",
              "      box-shadow: 0px 1px 3px 1px rgba(0, 0, 0, 0.15);\n",
              "      filter: drop-shadow(0px 1px 2px rgba(0, 0, 0, 0.3));\n",
              "      fill: #FFFFFF;\n",
              "    }\n",
              "  </style>\n",
              "\n",
              "      <script>\n",
              "        const buttonEl =\n",
              "          document.querySelector('#df-a750e21d-c6bc-47fe-9621-cd8741b5dca7 button.colab-df-convert');\n",
              "        buttonEl.style.display =\n",
              "          google.colab.kernel.accessAllowed ? 'block' : 'none';\n",
              "\n",
              "        async function convertToInteractive(key) {\n",
              "          const element = document.querySelector('#df-a750e21d-c6bc-47fe-9621-cd8741b5dca7');\n",
              "          const dataTable =\n",
              "            await google.colab.kernel.invokeFunction('convertToInteractive',\n",
              "                                                     [key], {});\n",
              "          if (!dataTable) return;\n",
              "\n",
              "          const docLinkHtml = 'Like what you see? Visit the ' +\n",
              "            '<a target=\"_blank\" href=https://colab.research.google.com/notebooks/data_table.ipynb>data table notebook</a>'\n",
              "            + ' to learn more about interactive tables.';\n",
              "          element.innerHTML = '';\n",
              "          dataTable['output_type'] = 'display_data';\n",
              "          await google.colab.output.renderOutput(dataTable, element);\n",
              "          const docLink = document.createElement('div');\n",
              "          docLink.innerHTML = docLinkHtml;\n",
              "          element.appendChild(docLink);\n",
              "        }\n",
              "      </script>\n",
              "    </div>\n",
              "  </div>\n",
              "  "
            ]
          },
          "metadata": {},
          "execution_count": 86
        }
      ]
    },
    {
      "cell_type": "markdown",
      "id": "6ab563a1-e8d4-4454-850f-5cbbfc44ee13",
      "metadata": {
        "id": "6ab563a1-e8d4-4454-850f-5cbbfc44ee13"
      },
      "source": [
        "# TMDB 5000 Movie Dataset\n",
        "https://www.kaggle.com/datasets/tmdb/tmdb-movie-metadata"
      ]
    },
    {
      "cell_type": "code",
      "execution_count": null,
      "id": "7e2a4310-b339-4d83-bb41-ec57999988f6",
      "metadata": {
        "id": "7e2a4310-b339-4d83-bb41-ec57999988f6"
      },
      "outputs": [],
      "source": [
        "# Reffered from the following URLs\n",
        "# https://www.kaggle.com/code/ibtesama/getting-started-with-a-movie-recommendation-system\n",
        "# https://www.kaggle.com/code/rafffael/geting-started-movie-recommendation-with-eda-demo"
      ]
    },
    {
      "cell_type": "markdown",
      "id": "8ee7ff52-2570-42d1-bef8-d264cb07b05e",
      "metadata": {
        "tags": [],
        "id": "8ee7ff52-2570-42d1-bef8-d264cb07b05e"
      },
      "source": [
        "# Load data from Cloud Strage"
      ]
    },
    {
      "cell_type": "code",
      "execution_count": null,
      "id": "c8988725-c5ea-4591-b155-61464a364391",
      "metadata": {
        "id": "c8988725-c5ea-4591-b155-61464a364391"
      },
      "outputs": [],
      "source": [
        "from google.cloud import storage\n",
        "gcs_client = storage.Client(project=' ml-session')"
      ]
    },
    {
      "cell_type": "code",
      "execution_count": null,
      "id": "a1ef640a-d3c4-4b37-9885-cf9893093db9",
      "metadata": {
        "id": "a1ef640a-d3c4-4b37-9885-cf9893093db9"
      },
      "outputs": [],
      "source": [
        "import pandas as pd \n",
        "import numpy as np\n",
        "# Get the uri from the left pane\n",
        "df_credits=pd.read_csv('gs://ml_session9/TMDB/tmdb_5000_credits.csv')\n",
        "df_movies=pd.read_csv(\"gs://ml_session9/TMDB/tmdb_5000_movies.csv\")"
      ]
    },
    {
      "cell_type": "code",
      "execution_count": null,
      "id": "2bd1c927-3677-4633-b422-794fc491cd7b",
      "metadata": {
        "id": "2bd1c927-3677-4633-b422-794fc491cd7b"
      },
      "outputs": [],
      "source": [
        "df_credits.head()"
      ]
    },
    {
      "cell_type": "code",
      "execution_count": null,
      "id": "6c43b121-1742-4e30-87e8-1543771fb104",
      "metadata": {
        "id": "6c43b121-1742-4e30-87e8-1543771fb104"
      },
      "outputs": [],
      "source": [
        "df_movies.head(1)"
      ]
    },
    {
      "cell_type": "markdown",
      "id": "e6fd9ca2-2137-49bd-9657-333b49a8140c",
      "metadata": {
        "id": "e6fd9ca2-2137-49bd-9657-333b49a8140c"
      },
      "source": [
        "The first dataset contains the following features:-\n",
        "\n",
        "- movie_id - A unique identifier for each movie.\n",
        "- cast - The name of lead and supporting actors.\n",
        "- crew - The name of Director, Editor, Composer, Writer etc.\n",
        "\n",
        "The second dataset has the following features:-\n",
        "- budget - The budget in which the movie was made.\n",
        "- genre - The genre of the movie, Action, Comedy ,Thriller etc.\n",
        "- homepage - A link to the homepage of the movie.\n",
        "- id - This is infact the movie_id as in the first dataset.\n",
        "- keywords - The keywords or tags related to the movie.\n",
        "- original_language - The language in which the movie was made.\n",
        "- original_title - The title of the movie before translation or adaptation.\n",
        "- overview - A brief description of the movie.\n",
        "- popularity - A numeric quantity specifying the movie popularity.\n",
        "- production_companies - The production house of the movie.\n",
        "- production_countries - The country in which it was produced.\n",
        "- release_date - The date on which it was released.\n",
        "- revenue - The worldwide revenue generated by the movie.\n",
        "- runtime - The running time of the movie in minutes.\n",
        "- status - \"Released\" or \"Rumored\".\n",
        "- tagline - Movie's tagline.\n",
        "- title - Title of the movie.\n",
        "- vote_average - average ratings the movie recieved.\n",
        "- vote_count - the count of votes recieved.\n",
        "Let's join the two dataset on the 'id' column"
      ]
    },
    {
      "cell_type": "code",
      "execution_count": null,
      "id": "25131296-5c1b-49e8-8ee0-3b8c3c3defc2",
      "metadata": {
        "id": "25131296-5c1b-49e8-8ee0-3b8c3c3defc2"
      },
      "outputs": [],
      "source": [
        "df_credits.columns = ['id','title2','cast','crew']"
      ]
    },
    {
      "cell_type": "code",
      "execution_count": null,
      "id": "8fa98a56-f22c-4a46-9e60-9c1914a8ebc0",
      "metadata": {
        "id": "8fa98a56-f22c-4a46-9e60-9c1914a8ebc0"
      },
      "outputs": [],
      "source": [
        "df_movies= df_movies.merge(df_credits,on='id')"
      ]
    },
    {
      "cell_type": "code",
      "execution_count": null,
      "id": "6d96569d-7070-40aa-93d3-20ba53ca9cf2",
      "metadata": {
        "id": "6d96569d-7070-40aa-93d3-20ba53ca9cf2"
      },
      "outputs": [],
      "source": [
        "df_movies.head(1)"
      ]
    },
    {
      "cell_type": "code",
      "execution_count": null,
      "id": "c7c3698b-250a-400c-a4c0-a391737bed26",
      "metadata": {
        "id": "c7c3698b-250a-400c-a4c0-a391737bed26"
      },
      "outputs": [],
      "source": [
        "!pip install ipywidgets --user"
      ]
    },
    {
      "cell_type": "code",
      "execution_count": null,
      "id": "0f26de87-c720-42db-8667-ba1c8a2b7339",
      "metadata": {
        "id": "0f26de87-c720-42db-8667-ba1c8a2b7339"
      },
      "outputs": [],
      "source": [
        "from pandas_profiling import ProfileReport"
      ]
    },
    {
      "cell_type": "code",
      "execution_count": null,
      "id": "04ac18b2-dfbc-482b-99f3-db9714a76b39",
      "metadata": {
        "id": "04ac18b2-dfbc-482b-99f3-db9714a76b39"
      },
      "outputs": [],
      "source": [
        "report = ProfileReport(df_movies)"
      ]
    },
    {
      "cell_type": "code",
      "execution_count": null,
      "id": "b1c3b92c-84b0-4931-9e1e-9eb93ddc927f",
      "metadata": {
        "id": "b1c3b92c-84b0-4931-9e1e-9eb93ddc927f"
      },
      "outputs": [],
      "source": [
        "# convert date appropriate format\n",
        "df_movies[\"release_date\"] = pd.to_datetime(df_movies['release_date'])\n",
        "df_movies['release_year'] = df_movies['release_date'].dt.year\n",
        "df_movies['release_month'] = df_movies['release_date'].dt.month_name()\n",
        "del df_movies[\"release_date\"]"
      ]
    },
    {
      "cell_type": "code",
      "execution_count": null,
      "id": "7deee9a9-0209-4100-9c53-fbfcc50c51cf",
      "metadata": {
        "id": "7deee9a9-0209-4100-9c53-fbfcc50c51cf"
      },
      "outputs": [],
      "source": [
        "import json\n",
        "# transform all columns which had json string into json format\n",
        "# several columns has id and name\n",
        "# leave only name for them beacause id is not so important in this case\n",
        "json_columns = {'cast', 'crew', 'genres', 'keywords', 'production_countries', \n",
        "                'production_companies', 'spoken_languages'}\n",
        "\n",
        "for c in json_columns:\n",
        "    df_movies[c] = df_movies[c].apply(json.loads)\n",
        "    if c != \"crew\": # We need other information besides the name\n",
        "        df_movies[c] = df_movies[c].apply(lambda row: [x[\"name\"] for x in row])"
      ]
    },
    {
      "cell_type": "code",
      "execution_count": null,
      "id": "4ff8d887-38f7-4168-957d-8e7dbfd82b06",
      "metadata": {
        "id": "4ff8d887-38f7-4168-957d-8e7dbfd82b06"
      },
      "outputs": [],
      "source": [
        "pd.set_option(\"display.max_columns\", None)"
      ]
    },
    {
      "cell_type": "code",
      "execution_count": null,
      "id": "6deb6e70-5824-4733-b24e-4a46c4e7ee9c",
      "metadata": {
        "id": "6deb6e70-5824-4733-b24e-4a46c4e7ee9c"
      },
      "outputs": [],
      "source": [
        "df_movies.head(1)"
      ]
    },
    {
      "cell_type": "code",
      "execution_count": null,
      "id": "e548aab4-0efe-428a-95ef-b4087936a145",
      "metadata": {
        "id": "e548aab4-0efe-428a-95ef-b4087936a145"
      },
      "outputs": [],
      "source": [
        "from functools import partial"
      ]
    },
    {
      "cell_type": "code",
      "execution_count": null,
      "id": "887f3945-8705-4ecc-84a1-4cdb8478b1c8",
      "metadata": {
        "id": "887f3945-8705-4ecc-84a1-4cdb8478b1c8"
      },
      "outputs": [],
      "source": [
        "# create director writer and producer columns \n",
        "def get_job(job, row):\n",
        "    person_name = [x['name'] for x in row if x['job']==job] \n",
        "    return person_name[0] if len(person_name) else np.nan\n",
        "\n",
        "df_movies[\"director\"] = df_movies[\"crew\"].apply(partial(get_job, \"Director\"))\n",
        "df_movies[\"writer\"]   = df_movies[\"crew\"].apply(partial(get_job, \"Writer\"))\n",
        "df_movies[\"producer\"] = df_movies[\"crew\"].apply(partial(get_job, \"Producer\"))\n",
        "del df_movies[\"crew\"]\n",
        "\n",
        "# create profit column\n",
        "df_movies[\"profit\"] = df_movies[\"revenue\"] - df_movies[\"budget\"]"
      ]
    },
    {
      "cell_type": "code",
      "execution_count": null,
      "id": "2f9525e9-b9f5-4b98-8853-4ada8a88e7bc",
      "metadata": {
        "id": "2f9525e9-b9f5-4b98-8853-4ada8a88e7bc"
      },
      "outputs": [],
      "source": [
        "# fill some missing values by most frequent one\n",
        "for col in [\"runtime\", \"release_year\", \"release_month\"]:\n",
        "    df_movies[col] = df_movies[col].fillna(df_movies[col].mode().iloc[0])"
      ]
    },
    {
      "cell_type": "code",
      "execution_count": null,
      "id": "c11da9fd-49c0-4d82-8560-21a68290b44b",
      "metadata": {
        "id": "c11da9fd-49c0-4d82-8560-21a68290b44b"
      },
      "outputs": [],
      "source": [
        "df_movies.head(1)"
      ]
    },
    {
      "cell_type": "code",
      "execution_count": null,
      "id": "472ce93c-7719-4cff-be16-0babf4803e00",
      "metadata": {
        "id": "472ce93c-7719-4cff-be16-0babf4803e00"
      },
      "outputs": [],
      "source": [
        "df_movies.head(1).keywords.sum()[:5]"
      ]
    },
    {
      "cell_type": "code",
      "execution_count": null,
      "id": "66ca05ff-85d9-4055-926e-8553889d6739",
      "metadata": {
        "id": "66ca05ff-85d9-4055-926e-8553889d6739"
      },
      "outputs": [],
      "source": [
        "# import numpy as np\n",
        "# import os\n",
        "# import pickle\n",
        "# from pywaffle import Waffle\n",
        "# import scipy\n",
        "# from sklearn.feature_extraction.text import TfidfVectorizer, CountVectorizer\n",
        "# from sklearn.metrics.pairwise import linear_kernel, cosine_similarity\n",
        "# pd.set_option(\"display.max_columns\", None)"
      ]
    },
    {
      "cell_type": "code",
      "execution_count": null,
      "id": "7474b786-3696-4636-a901-851ff231f3c4",
      "metadata": {
        "id": "7474b786-3696-4636-a901-851ff231f3c4"
      },
      "outputs": [],
      "source": [
        "import matplotlib\n",
        "import matplotlib.pyplot as plt\n",
        "%matplotlib inline"
      ]
    },
    {
      "cell_type": "code",
      "execution_count": null,
      "id": "f785b647-b321-4365-ba70-25b492b5b84d",
      "metadata": {
        "id": "f785b647-b321-4365-ba70-25b492b5b84d"
      },
      "outputs": [],
      "source": [
        "top_movie_num = 10\n",
        "top_movies_based_on = [\"budget\", \"revenue\", \"profit\", \"vote_average\", \"vote_count\", \"popularity\"]\n",
        "\n",
        "fig, ax = plt.subplots(len(top_movies_based_on)//3, 3, figsize=(30,14))\n",
        "colors = plt.cm.get_cmap('viridis', top_movie_num)\n",
        "\n",
        "for i, col in enumerate(top_movies_based_on):\n",
        "    top_movies_by = df_movies.sort_values(by=[col], ascending=False).head(top_movie_num)\n",
        "    r, c = i//3, i%3\n",
        "    ax[r][c].barh(top_movies_by[\"title\"], top_movies_by[col], color=colors.colors)\n",
        "    ax[r][c].set_title(f\"top movies based on {col}\", fontsize=24, pad=20)\n",
        "    ax[r][c].tick_params(axis='both', which='major', labelsize=16)\n",
        "    ax[r][c].invert_yaxis()    \n",
        "    \n",
        "plt.suptitle('Top movies based on some features',fontsize=30, y=1)\n",
        "fig.tight_layout()"
      ]
    },
    {
      "cell_type": "code",
      "execution_count": null,
      "id": "61075c32-1009-4c05-97a8-220fbfa7d8ed",
      "metadata": {
        "id": "61075c32-1009-4c05-97a8-220fbfa7d8ed"
      },
      "outputs": [],
      "source": [
        "!pip install squarify --user"
      ]
    },
    {
      "cell_type": "code",
      "execution_count": null,
      "id": "645ae755-4c16-4ea3-bdbf-8c3b6f201359",
      "metadata": {
        "id": "645ae755-4c16-4ea3-bdbf-8c3b6f201359"
      },
      "outputs": [],
      "source": [
        "from collections import defaultdict, Counter\n",
        "import squarify"
      ]
    },
    {
      "cell_type": "code",
      "execution_count": null,
      "id": "c673deb7-db30-4b99-a664-790cfa75d4ce",
      "metadata": {
        "id": "c673deb7-db30-4b99-a664-790cfa75d4ce"
      },
      "outputs": [],
      "source": [
        "df_movies[\"keywords\"][0][:5]"
      ]
    },
    {
      "cell_type": "code",
      "execution_count": null,
      "id": "c7dcbd1a-c5a3-4402-a117-db225047b278",
      "metadata": {
        "id": "c7dcbd1a-c5a3-4402-a117-db225047b278"
      },
      "outputs": [],
      "source": [
        "df_movies[\"genres\"][0]"
      ]
    },
    {
      "cell_type": "code",
      "execution_count": null,
      "id": "87c5bf85-abcf-4f6d-9498-28aa390c6d1b",
      "metadata": {
        "id": "87c5bf85-abcf-4f6d-9498-28aa390c6d1b"
      },
      "outputs": [],
      "source": [
        "df_movies[\"original_language\"][0]"
      ]
    },
    {
      "cell_type": "code",
      "execution_count": null,
      "id": "d41cd875-904e-43c0-8871-0b83610173fe",
      "metadata": {
        "id": "d41cd875-904e-43c0-8871-0b83610173fe"
      },
      "outputs": [],
      "source": [
        "# plot genre frequncy with treemap \n",
        "genres_flatten = sum(df_movies[\"genres\"].values, []) # genres are list of lists\n",
        "genres_info = Counter(genres_flatten)\n",
        "\n",
        "plt.figure(figsize=(15, 10))\n",
        "plt.title(\"Genres\", fontsize=25, pad=20)\n",
        "squarify.plot(genres_info.values(), label=genres_info.keys(), text_kwargs={'fontsize':12}, bar_kwargs={'alpha':.7}, pad=True)\n",
        "plt.axis(\"off\");"
      ]
    },
    {
      "cell_type": "code",
      "execution_count": null,
      "id": "515396c5-9fed-481c-b337-b8c1ce8a3f5e",
      "metadata": {
        "id": "515396c5-9fed-481c-b337-b8c1ce8a3f5e"
      },
      "outputs": [],
      "source": [
        "top_genres_num = 15\n",
        "genres_flatten = sum(df_movies[\"genres\"].values, []) # genres are list of lists\n",
        "genres_info = Counter(genres_flatten)\n",
        "top_genres = dict(genres_info.most_common(top_genres_num))\n",
        "\n",
        "plt.figure(figsize=(20, 6))\n",
        "plt.xticks(rotation=85, fontsize=15)\n",
        "plt.yticks(fontsize=15)\n",
        "plt.ylabel(\"Nb. of occurences\", fontsize=18, labelpad=10)\n",
        "plt.bar(top_genres.keys(), top_genres.values(), align='center', color=plt.cm.get_cmap('plasma', top_genres_num).colors)\n",
        "# plt.bar(top_keywords.keys(), top_keywords.values(), align='center', color=plt.cm.get_cmap('plasma', top_keywords_num).colors)\n",
        "plt.title(\"Genres\", fontsize=25, pad=20)\n",
        "plt.show()"
      ]
    },
    {
      "cell_type": "code",
      "execution_count": null,
      "id": "8017743b-8e3a-491d-ab8c-1b298bca4519",
      "metadata": {
        "id": "8017743b-8e3a-491d-ab8c-1b298bca4519"
      },
      "outputs": [],
      "source": [
        "top_keywords_num = 30\n",
        "keywords_flatten = sum(df_movies[\"keywords\"].values, []) # keywords are list of lists\n",
        "keywords_info = Counter(keywords_flatten)\n",
        "top_keywords = dict(keywords_info.most_common(top_keywords_num))\n",
        "\n",
        "plt.figure(figsize=(20, 6))\n",
        "plt.xticks(rotation=85, fontsize=15)\n",
        "plt.yticks(fontsize=15)\n",
        "plt.ylabel(\"Nb. of occurences\", fontsize=18, labelpad=10)\n",
        "plt.bar(top_keywords.keys(), top_keywords.values(), align='center', color=plt.cm.get_cmap('plasma', top_keywords_num).colors)\n",
        "plt.title(\"Keywords popularity\", fontsize=25, pad=20)\n",
        "plt.show()"
      ]
    },
    {
      "cell_type": "code",
      "execution_count": null,
      "id": "27ad2513-1032-4267-873f-a90d3b1039a9",
      "metadata": {
        "id": "27ad2513-1032-4267-873f-a90d3b1039a9"
      },
      "outputs": [],
      "source": [
        "df_movies[\"original_language\"].value_counts()[:5]"
      ]
    },
    {
      "cell_type": "code",
      "execution_count": null,
      "id": "f6d4e5ba-bc09-4652-9468-399650f3003e",
      "metadata": {
        "id": "f6d4e5ba-bc09-4652-9468-399650f3003e"
      },
      "outputs": [],
      "source": [
        "plt.figure(figsize=(20, 6))\n",
        "plt.xticks(rotation=85, fontsize=15)\n",
        "plt.yticks(fontsize=15)\n",
        "plt.ylabel(\"Nb. of occurences\", fontsize=18, labelpad=10)\n",
        "\n",
        "plt.bar(df_movies[\"original_language\"].value_counts()[:10].index,\n",
        "        df_movies[\"original_language\"].value_counts()[:10].values,\n",
        "        align='center', color=plt.cm.get_cmap('plasma', top_keywords_num).colors)\n",
        "\n",
        "plt.title(\"N of original language\", fontsize=25, pad=20)\n",
        "plt.show()"
      ]
    },
    {
      "cell_type": "code",
      "execution_count": null,
      "id": "4e2fcf60-5f3c-41ad-95b7-db46c2c16138",
      "metadata": {
        "id": "4e2fcf60-5f3c-41ad-95b7-db46c2c16138"
      },
      "outputs": [],
      "source": [
        "df_movies[\"production_countries\"].values"
      ]
    },
    {
      "cell_type": "code",
      "execution_count": null,
      "id": "4a954ae8-a998-4f1f-96c3-20977c326b83",
      "metadata": {
        "id": "4a954ae8-a998-4f1f-96c3-20977c326b83"
      },
      "outputs": [],
      "source": [
        "top_contries_num = 10\n",
        "production_contries_flatten = sum(df_movies[\"production_countries\"].values, []) # production_countries are list of lists\n",
        "production_contries_info = Counter(production_contries_flatten)\n",
        "top_production_contries = production_contries_info.most_common(top_contries_num)\n",
        "\n",
        "plt.figure(figsize=(30, 8))\n",
        "plt.xticks(rotation=65, fontsize=15)\n",
        "plt.ylabel(\"Nb. of occurences\", fontsize=18)\n",
        "plt.title(\"Production countries\", fontsize=25, pad=20)\n",
        "plt.bar(dict(top_production_contries).keys(),\n",
        "        dict(top_production_contries).values(),\n",
        "        color=plt.cm.get_cmap('cividis', top_contries_num).colors);"
      ]
    },
    {
      "cell_type": "code",
      "execution_count": null,
      "id": "8f940a99-d9e6-4c28-b26b-3df05177ffcf",
      "metadata": {
        "id": "8f940a99-d9e6-4c28-b26b-3df05177ffcf"
      },
      "outputs": [],
      "source": [
        "top_companies_num = 15\n",
        "production_companies_flatten = sum(df_movies[\"production_companies\"].values, []) # production_companies are list of lists\n",
        "production_companies_info = Counter(production_companies_flatten)\n",
        "top_production_companies = production_companies_info.most_common(10)\n",
        "\n",
        "\n",
        "plt.figure(figsize=(30, 8))\n",
        "plt.xticks(rotation=65, fontsize=15)\n",
        "plt.ylabel(\"Nb. of occurences\", fontsize=18)\n",
        "plt.title(\"Production countries\", fontsize=25, pad=20)\n",
        "plt.bar(dict(top_production_companies).keys(),\n",
        "        dict(top_production_companies).values(),\n",
        "        color=plt.cm.get_cmap('cividis', top_companies_num).colors);\n",
        "\n",
        "# fig = plt.figure(\n",
        "#     FigureClass=Waffle, \n",
        "#     rows=30, \n",
        "#     values=dict(top_production_companies), \n",
        "#     legend={'loc': 'upper left', 'bbox_to_anchor': (1, 1)},\n",
        "#     icons='child', icon_size=14, \n",
        "#     icon_legend=True,\n",
        "#     figsize=(24,8)\n",
        "# )"
      ]
    },
    {
      "cell_type": "code",
      "execution_count": null,
      "id": "f7f92cb0-363e-4acd-b045-3791757eeee7",
      "metadata": {
        "id": "f7f92cb0-363e-4acd-b045-3791757eeee7"
      },
      "outputs": [],
      "source": [
        "!pip install wordcloud --user\n",
        "from wordcloud import WordCloud"
      ]
    },
    {
      "cell_type": "code",
      "execution_count": null,
      "id": "bdebe836-a7fc-4418-afa0-f3752fd748f7",
      "metadata": {
        "id": "bdebe836-a7fc-4418-afa0-f3752fd748f7"
      },
      "outputs": [],
      "source": [
        "df_movies[\"cast\"].values[0][:5]"
      ]
    },
    {
      "cell_type": "code",
      "execution_count": null,
      "id": "415ad64d-3879-49f5-8c48-54c815f4c71f",
      "metadata": {
        "id": "415ad64d-3879-49f5-8c48-54c815f4c71f"
      },
      "outputs": [],
      "source": [
        "# plot unique cast frequency\n",
        "cast_flatten = sum(df_movies[\"cast\"].values, []) # cast are list of lists\n",
        "cast_info = Counter(cast_flatten)\n",
        "\n",
        "wordcloud = WordCloud(background_color='white')\n",
        "wordcloud.generate_from_frequencies(dict(cast_info.most_common(50)))\n",
        "\n",
        "plt.figure(figsize=(15,10))\n",
        "plt.title(\"Cast\", fontsize=25, pad=20)\n",
        "plt.imshow(wordcloud, interpolation=\"bilinear\")\n",
        "plt.axis(\"off\");"
      ]
    },
    {
      "cell_type": "code",
      "execution_count": null,
      "id": "5c5d9855-fbc9-4c6e-b5d7-b68e81c5c4df",
      "metadata": {
        "id": "5c5d9855-fbc9-4c6e-b5d7-b68e81c5c4df"
      },
      "outputs": [],
      "source": [
        "\n",
        "plt.xticks(fontsize=12)\n",
        "plt.ylabel(\"Nb. of occurences\", fontsize=14)\n",
        "plt.title(\"Movie release year\", fontsize=25, pad=20)\n",
        "df_movies[\"release_year\"].plot.hist(figsize=(15,5), bins=100);"
      ]
    },
    {
      "cell_type": "code",
      "execution_count": null,
      "id": "25fda507-2d32-498c-92e2-375efdd57d01",
      "metadata": {
        "id": "25fda507-2d32-498c-92e2-375efdd57d01"
      },
      "outputs": [],
      "source": [
        "matrix = df_movies[[\"budget\", \"popularity\", \"revenue\", \"runtime\", \"vote_average\", \"vote_count\"]].corr()\n",
        "\n",
        "f, ax = plt.subplots(figsize=(12, 10))\n",
        "plt.title(\"correlation between features\", fontsize=20, pad=20)\n",
        "plt.xticks(range(len(matrix.index)), matrix.index, fontsize=12)\n",
        "plt.yticks(range(len(matrix.index)), matrix.index, fontsize=12)\n",
        "\n",
        "# adding values\n",
        "for i in range(len(matrix.index)):\n",
        "    for j in range(len(matrix.index)):\n",
        "        text = ax.text(j, i, round(matrix.iloc[i, j],3), ha=\"center\", va=\"center\", color=\"w\", fontsize=12)\n",
        "        \n",
        "plt.imshow(matrix, cmap='coolwarm', interpolation='nearest')\n",
        "plt.colorbar();"
      ]
    },
    {
      "cell_type": "code",
      "execution_count": null,
      "id": "1f5000f8-3f38-4d65-9d4b-1021c977dd1f",
      "metadata": {
        "id": "1f5000f8-3f38-4d65-9d4b-1021c977dd1f"
      },
      "outputs": [],
      "source": [
        "bq_table = df_movies[[\"budget\", \"popularity\", \"revenue\", \"runtime\", \"vote_average\", \"vote_count\"]]"
      ]
    },
    {
      "cell_type": "code",
      "execution_count": null,
      "id": "d6621977-ac79-4ccc-acea-f3f7bdf1df22",
      "metadata": {
        "id": "d6621977-ac79-4ccc-acea-f3f7bdf1df22"
      },
      "outputs": [],
      "source": [
        "bq_table.info()"
      ]
    },
    {
      "cell_type": "markdown",
      "id": "e1a2561f-8916-4401-9523-76d1f6b1ff11",
      "metadata": {
        "id": "e1a2561f-8916-4401-9523-76d1f6b1ff11"
      },
      "source": [
        "# Load the dataframe to BigQuery"
      ]
    },
    {
      "cell_type": "code",
      "execution_count": null,
      "id": "f7a315e0-ec04-4cdc-ac10-2db72d31df70",
      "metadata": {
        "id": "f7a315e0-ec04-4cdc-ac10-2db72d31df70"
      },
      "outputs": [],
      "source": [
        "bq_table.head(1)"
      ]
    },
    {
      "cell_type": "code",
      "execution_count": null,
      "id": "4ac5cc13-798a-41ff-9005-8662a38a870e",
      "metadata": {
        "id": "4ac5cc13-798a-41ff-9005-8662a38a870e"
      },
      "outputs": [],
      "source": [
        "test = client.get_dataset(dataset_ref='session9')"
      ]
    },
    {
      "cell_type": "code",
      "execution_count": null,
      "id": "59d31867-7d4c-42f7-8bd4-80f4d1ccd7d2",
      "metadata": {
        "id": "59d31867-7d4c-42f7-8bd4-80f4d1ccd7d2"
      },
      "outputs": [],
      "source": [
        "test"
      ]
    },
    {
      "cell_type": "code",
      "execution_count": null,
      "id": "29520435-7e49-49ee-b700-8844c09460dc",
      "metadata": {
        "id": "29520435-7e49-49ee-b700-8844c09460dc"
      },
      "outputs": [],
      "source": [
        "dataset_id = 'session9'\n",
        "\n",
        "# dataset = client.create_dataset(dataset_id)  \n",
        "dataset = client.get_dataset(dataset_ref=dataset_id)"
      ]
    },
    {
      "cell_type": "code",
      "execution_count": null,
      "id": "9682f666-93fb-4cca-94b8-5cb54e60f3ec",
      "metadata": {
        "id": "9682f666-93fb-4cca-94b8-5cb54e60f3ec"
      },
      "outputs": [],
      "source": [
        "dataset"
      ]
    },
    {
      "cell_type": "code",
      "execution_count": null,
      "id": "6507bdd2-4bac-441c-a797-cb03f15c45ed",
      "metadata": {
        "id": "6507bdd2-4bac-441c-a797-cb03f15c45ed"
      },
      "outputs": [],
      "source": [
        "# Optionally set explicit indices.\n",
        "# If indices are not specified, a column will be created for the default\n",
        "# indices created by pandas.\n",
        "# df = pandas.DataFrame(records, index=pandas.Index(index, name=\"wikidata_id\"))\n",
        "\n",
        "table_ref = dataset.table(\"movie_database2\")\n",
        "job = client.load_table_from_dataframe(bq_table, table_ref, location=\"US\")\n",
        "\n",
        "job.result()  # Waits for table load to complete.\n",
        "print(\"Loaded dataframe to {}\".format(table_ref.path))"
      ]
    },
    {
      "cell_type": "code",
      "execution_count": null,
      "id": "78b87b28-77b5-49e5-8062-b241f787fb70",
      "metadata": {
        "id": "78b87b28-77b5-49e5-8062-b241f787fb70"
      },
      "outputs": [],
      "source": [
        ""
      ]
    },
    {
      "cell_type": "code",
      "execution_count": null,
      "id": "d268f622-bddc-4a4e-9ca2-f40385c57662",
      "metadata": {
        "id": "d268f622-bddc-4a4e-9ca2-f40385c57662"
      },
      "outputs": [],
      "source": [
        "query = \"\"\"\n",
        "SELECT\n",
        "  *\n",
        "FROM\n",
        "  `ml-session.session9.movie_database2`\n",
        "WHERE budget > 0\n",
        "LIMIT 100\n",
        "\"\"\"\n",
        "query_job = client.query(\n",
        "    query,\n",
        "     location=\"US\",\n",
        ")\n",
        "\n",
        "df = query_job.to_dataframe()\n",
        "df.head(5)"
      ]
    },
    {
      "cell_type": "code",
      "execution_count": null,
      "id": "7eaca4a2-5618-4bb3-a55e-bd14ba6437d0",
      "metadata": {
        "id": "7eaca4a2-5618-4bb3-a55e-bd14ba6437d0"
      },
      "outputs": [],
      "source": [
        "# revenue を予測するモデルを作成\n",
        "ml_query = \"\"\"\n",
        "CREATE OR REPLACE MODEL `session9.movie_revenue_pred`\n",
        "OPTIONS (model_type='boosted_tree_regressor',\n",
        "         input_label_cols=['revenue'],\n",
        "         max_iterations = 10,\n",
        "         tree_method = 'HIST',\n",
        "         subsample = 0.85,\n",
        "         enable_global_explain = TRUE\n",
        ") AS\n",
        "SELECT\n",
        "  *\n",
        "FROM\n",
        "  `ml-session.session9.movie_database2`\n",
        "WHERE budget > 0\n",
        "LIMIT 10000\n",
        "\"\"\"\n",
        "query_job = client.query(\n",
        "    query,\n",
        "     location=\"US\",\n",
        ")\n",
        "df = query_job.to_dataframe()"
      ]
    },
    {
      "cell_type": "code",
      "execution_count": null,
      "id": "e54ca174-460d-4be1-b0a5-ea15c5d3dd4d",
      "metadata": {
        "id": "e54ca174-460d-4be1-b0a5-ea15c5d3dd4d"
      },
      "outputs": [],
      "source": [
        "df"
      ]
    },
    {
      "cell_type": "code",
      "execution_count": null,
      "id": "5a9fc321-eb60-4988-a378-1267b9528b4c",
      "metadata": {
        "id": "5a9fc321-eb60-4988-a378-1267b9528b4c"
      },
      "outputs": [],
      "source": [
        "training_info = \"\"\"\n",
        "SELECT\n",
        "  training_run,\n",
        "  iteration,\n",
        "  loss,\n",
        "  eval_loss,\n",
        "  duration_ms,\n",
        "  learning_rate\n",
        "FROM\n",
        "  ML.TRAINING_INFO(MODEL `session9.movie_revenue_pred`)\n",
        "ORDER BY iteration ASC\n",
        "\"\"\"\n",
        "client.query(training_info).to_dataframe()"
      ]
    },
    {
      "cell_type": "code",
      "execution_count": null,
      "id": "1b1d9856-ddac-4c0a-a376-9e4b153f3754",
      "metadata": {
        "id": "1b1d9856-ddac-4c0a-a376-9e4b153f3754"
      },
      "outputs": [],
      "source": [
        "global_explain = \"\"\"\n",
        "SELECT\n",
        "  *\n",
        "FROM\n",
        "  ML.GLOBAL_EXPLAIN(MODEL `session9.movie_revenue_pred`)\n",
        "\"\"\"\n",
        "\n",
        "client.query(global_explain).to_dataframe()"
      ]
    },
    {
      "cell_type": "code",
      "execution_count": null,
      "id": "b320e614-d54a-4521-9757-a06796139d44",
      "metadata": {
        "id": "b320e614-d54a-4521-9757-a06796139d44"
      },
      "outputs": [],
      "source": [
        "explain_predict = \"\"\"\n",
        "SELECT *\n",
        "FROM\n",
        "ML.EXPLAIN_PREDICT(MODEL `session9.movie_revenue_pred`,\n",
        " (\n",
        " SELECT\n",
        "   25000000 AS budget,\n",
        "   14.613152 AS popularity,\n",
        "   137.0 AS runtime,\n",
        "   5.5 AS vote_average,\n",
        "   301 AS vote_count\n",
        "),\n",
        "STRUCT(6 AS top_k_features))\n",
        "\"\"\"\n",
        "client.query(explain_predict).to_dataframe()\n"
      ]
    },
    {
      "cell_type": "code",
      "execution_count": null,
      "id": "e793c3a8-63d3-45b6-97d1-2de76233b46e",
      "metadata": {
        "id": "e793c3a8-63d3-45b6-97d1-2de76233b46e"
      },
      "outputs": [],
      "source": [
        ""
      ]
    },
    {
      "cell_type": "code",
      "execution_count": null,
      "id": "da18131f-f2e1-4891-8646-4e7f8aa402b4",
      "metadata": {
        "id": "da18131f-f2e1-4891-8646-4e7f8aa402b4"
      },
      "outputs": [],
      "source": [
        ""
      ]
    },
    {
      "cell_type": "code",
      "execution_count": null,
      "id": "0827c0a6-2524-4a08-925b-c627c932551d",
      "metadata": {
        "id": "0827c0a6-2524-4a08-925b-c627c932551d"
      },
      "outputs": [],
      "source": [
        "# Delete the dataset and its contents\n",
        "client.delete_dataset(dataset, delete_contents=True)\n",
        "\n",
        "print('Deleted dataset: {}'.format(dataset.path))"
      ]
    },
    {
      "cell_type": "code",
      "execution_count": null,
      "id": "7da805c4-9c77-462c-89b5-4961651bfd59",
      "metadata": {
        "id": "7da805c4-9c77-462c-89b5-4961651bfd59"
      },
      "outputs": [],
      "source": [
        ""
      ]
    },
    {
      "cell_type": "code",
      "execution_count": null,
      "id": "b968e648-f3e0-437d-9a4c-446d0925489a",
      "metadata": {
        "id": "b968e648-f3e0-437d-9a4c-446d0925489a"
      },
      "outputs": [],
      "source": [
        ""
      ]
    }
  ],
  "metadata": {
    "environment": {
      "kernel": "python3",
      "name": "managed-notebooks.m90",
      "type": "gcloud",
      "uri": "gcr.io/deeplearning-platform-release/base-cu110:latest"
    },
    "kernelspec": {
      "display_name": "Python 3 (ipykernel)",
      "language": "python",
      "name": "python3"
    },
    "language_info": {
      "codemirror_mode": {
        "name": "ipython",
        "version": 3
      },
      "file_extension": ".py",
      "mimetype": "text/x-python",
      "name": "python",
      "nbconvert_exporter": "python",
      "pygments_lexer": "ipython3",
      "version": "3.9.10"
    },
    "colab": {
      "name": "bq_recommendation_mf.ipynb",
      "provenance": [],
      "include_colab_link": true
    }
  },
  "nbformat": 4,
  "nbformat_minor": 5
}