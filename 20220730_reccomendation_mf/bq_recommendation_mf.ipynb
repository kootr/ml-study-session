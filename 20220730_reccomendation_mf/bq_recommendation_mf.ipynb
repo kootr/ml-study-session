{
  "cells": [
    {
      "cell_type": "markdown",
      "id": "a67fe4b1",
      "metadata": {
        "id": "a67fe4b1"
      },
      "source": [
        "<a href=\"https://colab.research.google.com/github/kootr/ml-study-session/blob/main/20220730_reccomendation_mf/bq_recommendation_mf.ipynb\" target=\"_parent\"><img src=\"https://colab.research.google.com/assets/colab-badge.svg\" alt=\"Open In Colab\"/></a>\n"
      ]
    },
    {
      "cell_type": "code",
      "execution_count": 1,
      "id": "3d664e32-9fd5-41ed-957f-389ba5213a92",
      "metadata": {
        "id": "3d664e32-9fd5-41ed-957f-389ba5213a92"
      },
      "outputs": [],
      "source": [
        "from google.cloud import bigquery\n",
        "import pandas as pd"
      ]
    },
    {
      "cell_type": "code",
      "source": [
        "import os\n",
        "\n",
        "# The Google Cloud Notebook product has specific requirements\n",
        "IS_GOOGLE_CLOUD_NOTEBOOK = os.path.exists(\"/opt/deeplearning/metadata/env_version\")\n",
        "\n",
        "# Google Cloud Notebook requires dependencies to be installed with '--user'\n",
        "USER_FLAG = \"\"\n",
        "if IS_GOOGLE_CLOUD_NOTEBOOK:\n",
        "    USER_FLAG = \"--user\"\n",
        "\n",
        "if os.getenv(\"IS_TESTING\"):\n",
        "    ! touch /builder/home/.local/lib/python3.9/site-packages/google_api_core-2.7.1.dist-info/METADATA"
      ],
      "metadata": {
        "id": "-Htzw1HAXw7r"
      },
      "id": "-Htzw1HAXw7r",
      "execution_count": 2,
      "outputs": []
    },
    {
      "cell_type": "code",
      "execution_count": 3,
      "id": "741f3f20-a100-4309-9c67-ad2764d74f3b",
      "metadata": {
        "id": "741f3f20-a100-4309-9c67-ad2764d74f3b"
      },
      "outputs": [],
      "source": [
        "client = bigquery.Client(location=\"US\", project=\"ml-session\")"
      ]
    },
    {
      "cell_type": "markdown",
      "id": "50bc0bdd-c798-45f3-8b44-5af2244cab4b",
      "metadata": {
        "id": "50bc0bdd-c798-45f3-8b44-5af2244cab4b"
      },
      "source": [
        "# Example: Send a query to a Public dataset"
      ]
    },
    {
      "cell_type": "code",
      "source": [
        "import os\n",
        "import sys\n",
        "\n",
        "IS_GOOGLE_CLOUD_NOTEBOOK = os.path.exists(\"/opt/deeplearning/metadata/env_version\")\n",
        "\n",
        "# If on Google Cloud Notebooks, then don't execute this code\n",
        "if not IS_GOOGLE_CLOUD_NOTEBOOK:\n",
        "    if \"google.colab\" in sys.modules:\n",
        "        from google.colab import auth as google_auth\n",
        "\n",
        "        google_auth.authenticate_user()\n",
        "\n",
        "    # If you are running this notebook locally, replace the string below with the\n",
        "    # path to your service account key and run this cell to authenticate your GCP\n",
        "    # account.\n",
        "    elif not os.getenv(\"IS_TESTING\"):\n",
        "        %env GOOGLE_APPLICATION_CREDENTIALS ''"
      ],
      "metadata": {
        "id": "VzhjFZBtYo2d",
        "outputId": "3d165790-0ec2-4911-be52-dd33bb31dfc3",
        "colab": {
          "base_uri": "https://localhost:8080/",
          "height": 393
        }
      },
      "id": "VzhjFZBtYo2d",
      "execution_count": 2,
      "outputs": [
        {
          "output_type": "error",
          "ename": "KeyboardInterrupt",
          "evalue": "ignored",
          "traceback": [
            "\u001b[0;31m---------------------------------------------------------------------------\u001b[0m",
            "\u001b[0;31mKeyboardInterrupt\u001b[0m                         Traceback (most recent call last)",
            "\u001b[0;32m<ipython-input-2-c06962184389>\u001b[0m in \u001b[0;36m<module>\u001b[0;34m()\u001b[0m\n\u001b[1;32m      9\u001b[0m         \u001b[0;32mfrom\u001b[0m \u001b[0mgoogle\u001b[0m\u001b[0;34m.\u001b[0m\u001b[0mcolab\u001b[0m \u001b[0;32mimport\u001b[0m \u001b[0mauth\u001b[0m \u001b[0;32mas\u001b[0m \u001b[0mgoogle_auth\u001b[0m\u001b[0;34m\u001b[0m\u001b[0;34m\u001b[0m\u001b[0m\n\u001b[1;32m     10\u001b[0m \u001b[0;34m\u001b[0m\u001b[0m\n\u001b[0;32m---> 11\u001b[0;31m         \u001b[0mgoogle_auth\u001b[0m\u001b[0;34m.\u001b[0m\u001b[0mauthenticate_user\u001b[0m\u001b[0;34m(\u001b[0m\u001b[0;34m)\u001b[0m\u001b[0;34m\u001b[0m\u001b[0;34m\u001b[0m\u001b[0m\n\u001b[0m\u001b[1;32m     12\u001b[0m \u001b[0;34m\u001b[0m\u001b[0m\n\u001b[1;32m     13\u001b[0m     \u001b[0;31m# If you are running this notebook locally, replace the string below with the\u001b[0m\u001b[0;34m\u001b[0m\u001b[0;34m\u001b[0m\u001b[0;34m\u001b[0m\u001b[0m\n",
            "\u001b[0;32m/usr/local/lib/python3.7/dist-packages/google/colab/auth.py\u001b[0m in \u001b[0;36mauthenticate_user\u001b[0;34m(clear_output)\u001b[0m\n\u001b[1;32m    244\u001b[0m           \u001b[0;34m'request_auth'\u001b[0m\u001b[0;34m,\u001b[0m\u001b[0;34m\u001b[0m\u001b[0;34m\u001b[0m\u001b[0m\n\u001b[1;32m    245\u001b[0m           \u001b[0mrequest\u001b[0m\u001b[0;34m=\u001b[0m\u001b[0;34m{\u001b[0m\u001b[0;34m'authType'\u001b[0m\u001b[0;34m:\u001b[0m \u001b[0;34m'auth_user_ephemeral'\u001b[0m\u001b[0;34m}\u001b[0m\u001b[0;34m,\u001b[0m\u001b[0;34m\u001b[0m\u001b[0;34m\u001b[0m\u001b[0m\n\u001b[0;32m--> 246\u001b[0;31m           timeout_sec=None)\n\u001b[0m\u001b[1;32m    247\u001b[0m       \u001b[0m_enable_metadata_server_for_gcloud\u001b[0m\u001b[0;34m(\u001b[0m\u001b[0;34m)\u001b[0m\u001b[0;34m\u001b[0m\u001b[0;34m\u001b[0m\u001b[0m\n\u001b[1;32m    248\u001b[0m     \u001b[0;32melse\u001b[0m\u001b[0;34m:\u001b[0m\u001b[0;34m\u001b[0m\u001b[0;34m\u001b[0m\u001b[0m\n",
            "\u001b[0;32m/usr/local/lib/python3.7/dist-packages/google/colab/_message.py\u001b[0m in \u001b[0;36mblocking_request\u001b[0;34m(request_type, request, timeout_sec, parent)\u001b[0m\n\u001b[1;32m    173\u001b[0m   request_id = send_request(\n\u001b[1;32m    174\u001b[0m       request_type, request, parent=parent, expect_reply=True)\n\u001b[0;32m--> 175\u001b[0;31m   \u001b[0;32mreturn\u001b[0m \u001b[0mread_reply_from_input\u001b[0m\u001b[0;34m(\u001b[0m\u001b[0mrequest_id\u001b[0m\u001b[0;34m,\u001b[0m \u001b[0mtimeout_sec\u001b[0m\u001b[0;34m)\u001b[0m\u001b[0;34m\u001b[0m\u001b[0;34m\u001b[0m\u001b[0m\n\u001b[0m",
            "\u001b[0;32m/usr/local/lib/python3.7/dist-packages/google/colab/_message.py\u001b[0m in \u001b[0;36mread_reply_from_input\u001b[0;34m(message_id, timeout_sec)\u001b[0m\n\u001b[1;32m     99\u001b[0m     \u001b[0mreply\u001b[0m \u001b[0;34m=\u001b[0m \u001b[0m_read_next_input_message\u001b[0m\u001b[0;34m(\u001b[0m\u001b[0;34m)\u001b[0m\u001b[0;34m\u001b[0m\u001b[0;34m\u001b[0m\u001b[0m\n\u001b[1;32m    100\u001b[0m     \u001b[0;32mif\u001b[0m \u001b[0mreply\u001b[0m \u001b[0;34m==\u001b[0m \u001b[0m_NOT_READY\u001b[0m \u001b[0;32mor\u001b[0m \u001b[0;32mnot\u001b[0m \u001b[0misinstance\u001b[0m\u001b[0;34m(\u001b[0m\u001b[0mreply\u001b[0m\u001b[0;34m,\u001b[0m \u001b[0mdict\u001b[0m\u001b[0;34m)\u001b[0m\u001b[0;34m:\u001b[0m\u001b[0;34m\u001b[0m\u001b[0;34m\u001b[0m\u001b[0m\n\u001b[0;32m--> 101\u001b[0;31m       \u001b[0mtime\u001b[0m\u001b[0;34m.\u001b[0m\u001b[0msleep\u001b[0m\u001b[0;34m(\u001b[0m\u001b[0;36m0.025\u001b[0m\u001b[0;34m)\u001b[0m\u001b[0;34m\u001b[0m\u001b[0;34m\u001b[0m\u001b[0m\n\u001b[0m\u001b[1;32m    102\u001b[0m       \u001b[0;32mcontinue\u001b[0m\u001b[0;34m\u001b[0m\u001b[0;34m\u001b[0m\u001b[0m\n\u001b[1;32m    103\u001b[0m     if (reply.get('type') == 'colab_reply' and\n",
            "\u001b[0;31mKeyboardInterrupt\u001b[0m: "
          ]
        }
      ]
    },
    {
      "cell_type": "code",
      "execution_count": 4,
      "id": "e1436d8f-ca1b-49e6-8b3a-045c5dc756bf",
      "metadata": {
        "id": "e1436d8f-ca1b-49e6-8b3a-045c5dc756bf",
        "outputId": "6fbf0d16-2c21-42f4-bc21-3b1e997a984b",
        "colab": {
          "base_uri": "https://localhost:8080/",
          "height": 750
        }
      },
      "outputs": [
        {
          "output_type": "error",
          "ename": "Forbidden",
          "evalue": "ignored",
          "traceback": [
            "\u001b[0;31m---------------------------------------------------------------------------\u001b[0m",
            "\u001b[0;31mForbidden\u001b[0m                                 Traceback (most recent call last)",
            "\u001b[0;32m<ipython-input-4-6441380fb6dc>\u001b[0m in \u001b[0;36m<module>\u001b[0;34m()\u001b[0m\n\u001b[1;32m     15\u001b[0m query_job = client.query(\n\u001b[1;32m     16\u001b[0m     \u001b[0mquery\u001b[0m\u001b[0;34m,\u001b[0m\u001b[0;34m\u001b[0m\u001b[0;34m\u001b[0m\u001b[0m\n\u001b[0;32m---> 17\u001b[0;31m      \u001b[0mlocation\u001b[0m\u001b[0;34m=\u001b[0m\u001b[0;34m\"US\"\u001b[0m\u001b[0;34m,\u001b[0m\u001b[0;34m\u001b[0m\u001b[0;34m\u001b[0m\u001b[0m\n\u001b[0m\u001b[1;32m     18\u001b[0m )\n\u001b[1;32m     19\u001b[0m \u001b[0;34m\u001b[0m\u001b[0m\n",
            "\u001b[0;32m/usr/local/lib/python3.7/dist-packages/google/cloud/bigquery/client.py\u001b[0m in \u001b[0;36mquery\u001b[0;34m(self, query, job_config, job_id, job_id_prefix, location, project, retry)\u001b[0m\n\u001b[1;32m   2073\u001b[0m         \u001b[0mjob_ref\u001b[0m \u001b[0;34m=\u001b[0m \u001b[0mjob\u001b[0m\u001b[0;34m.\u001b[0m\u001b[0m_JobReference\u001b[0m\u001b[0;34m(\u001b[0m\u001b[0mjob_id\u001b[0m\u001b[0;34m,\u001b[0m \u001b[0mproject\u001b[0m\u001b[0;34m=\u001b[0m\u001b[0mproject\u001b[0m\u001b[0;34m,\u001b[0m \u001b[0mlocation\u001b[0m\u001b[0;34m=\u001b[0m\u001b[0mlocation\u001b[0m\u001b[0;34m)\u001b[0m\u001b[0;34m\u001b[0m\u001b[0;34m\u001b[0m\u001b[0m\n\u001b[1;32m   2074\u001b[0m         \u001b[0mquery_job\u001b[0m \u001b[0;34m=\u001b[0m \u001b[0mjob\u001b[0m\u001b[0;34m.\u001b[0m\u001b[0mQueryJob\u001b[0m\u001b[0;34m(\u001b[0m\u001b[0mjob_ref\u001b[0m\u001b[0;34m,\u001b[0m \u001b[0mquery\u001b[0m\u001b[0;34m,\u001b[0m \u001b[0mclient\u001b[0m\u001b[0;34m=\u001b[0m\u001b[0mself\u001b[0m\u001b[0;34m,\u001b[0m \u001b[0mjob_config\u001b[0m\u001b[0;34m=\u001b[0m\u001b[0mjob_config\u001b[0m\u001b[0;34m)\u001b[0m\u001b[0;34m\u001b[0m\u001b[0;34m\u001b[0m\u001b[0m\n\u001b[0;32m-> 2075\u001b[0;31m         \u001b[0mquery_job\u001b[0m\u001b[0;34m.\u001b[0m\u001b[0m_begin\u001b[0m\u001b[0;34m(\u001b[0m\u001b[0mretry\u001b[0m\u001b[0;34m=\u001b[0m\u001b[0mretry\u001b[0m\u001b[0;34m)\u001b[0m\u001b[0;34m\u001b[0m\u001b[0;34m\u001b[0m\u001b[0m\n\u001b[0m\u001b[1;32m   2076\u001b[0m \u001b[0;34m\u001b[0m\u001b[0m\n\u001b[1;32m   2077\u001b[0m         \u001b[0;32mreturn\u001b[0m \u001b[0mquery_job\u001b[0m\u001b[0;34m\u001b[0m\u001b[0;34m\u001b[0m\u001b[0m\n",
            "\u001b[0;32m/usr/local/lib/python3.7/dist-packages/google/cloud/bigquery/job.py\u001b[0m in \u001b[0;36m_begin\u001b[0;34m(self, client, retry)\u001b[0m\n\u001b[1;32m   2935\u001b[0m \u001b[0;34m\u001b[0m\u001b[0m\n\u001b[1;32m   2936\u001b[0m         \u001b[0;32mtry\u001b[0m\u001b[0;34m:\u001b[0m\u001b[0;34m\u001b[0m\u001b[0;34m\u001b[0m\u001b[0m\n\u001b[0;32m-> 2937\u001b[0;31m             \u001b[0msuper\u001b[0m\u001b[0;34m(\u001b[0m\u001b[0mQueryJob\u001b[0m\u001b[0;34m,\u001b[0m \u001b[0mself\u001b[0m\u001b[0;34m)\u001b[0m\u001b[0;34m.\u001b[0m\u001b[0m_begin\u001b[0m\u001b[0;34m(\u001b[0m\u001b[0mclient\u001b[0m\u001b[0;34m=\u001b[0m\u001b[0mclient\u001b[0m\u001b[0;34m,\u001b[0m \u001b[0mretry\u001b[0m\u001b[0;34m=\u001b[0m\u001b[0mretry\u001b[0m\u001b[0;34m)\u001b[0m\u001b[0;34m\u001b[0m\u001b[0;34m\u001b[0m\u001b[0m\n\u001b[0m\u001b[1;32m   2938\u001b[0m         \u001b[0;32mexcept\u001b[0m \u001b[0mexceptions\u001b[0m\u001b[0;34m.\u001b[0m\u001b[0mGoogleCloudError\u001b[0m \u001b[0;32mas\u001b[0m \u001b[0mexc\u001b[0m\u001b[0;34m:\u001b[0m\u001b[0;34m\u001b[0m\u001b[0;34m\u001b[0m\u001b[0m\n\u001b[1;32m   2939\u001b[0m             \u001b[0mexc\u001b[0m\u001b[0;34m.\u001b[0m\u001b[0mmessage\u001b[0m \u001b[0;34m+=\u001b[0m \u001b[0mself\u001b[0m\u001b[0;34m.\u001b[0m\u001b[0m_format_for_exception\u001b[0m\u001b[0;34m(\u001b[0m\u001b[0mself\u001b[0m\u001b[0;34m.\u001b[0m\u001b[0mquery\u001b[0m\u001b[0;34m,\u001b[0m \u001b[0mself\u001b[0m\u001b[0;34m.\u001b[0m\u001b[0mjob_id\u001b[0m\u001b[0;34m)\u001b[0m\u001b[0;34m\u001b[0m\u001b[0;34m\u001b[0m\u001b[0m\n",
            "\u001b[0;32m/usr/local/lib/python3.7/dist-packages/google/cloud/bigquery/job.py\u001b[0m in \u001b[0;36m_begin\u001b[0;34m(self, client, retry)\u001b[0m\n\u001b[1;32m    616\u001b[0m         \u001b[0;31m# job has an ID.\u001b[0m\u001b[0;34m\u001b[0m\u001b[0;34m\u001b[0m\u001b[0;34m\u001b[0m\u001b[0m\n\u001b[1;32m    617\u001b[0m         api_response = client._call_api(\n\u001b[0;32m--> 618\u001b[0;31m             \u001b[0mretry\u001b[0m\u001b[0;34m,\u001b[0m \u001b[0mmethod\u001b[0m\u001b[0;34m=\u001b[0m\u001b[0;34m\"POST\"\u001b[0m\u001b[0;34m,\u001b[0m \u001b[0mpath\u001b[0m\u001b[0;34m=\u001b[0m\u001b[0mpath\u001b[0m\u001b[0;34m,\u001b[0m \u001b[0mdata\u001b[0m\u001b[0;34m=\u001b[0m\u001b[0mself\u001b[0m\u001b[0;34m.\u001b[0m\u001b[0mto_api_repr\u001b[0m\u001b[0;34m(\u001b[0m\u001b[0;34m)\u001b[0m\u001b[0;34m\u001b[0m\u001b[0;34m\u001b[0m\u001b[0m\n\u001b[0m\u001b[1;32m    619\u001b[0m         )\n\u001b[1;32m    620\u001b[0m         \u001b[0mself\u001b[0m\u001b[0;34m.\u001b[0m\u001b[0m_set_properties\u001b[0m\u001b[0;34m(\u001b[0m\u001b[0mapi_response\u001b[0m\u001b[0;34m)\u001b[0m\u001b[0;34m\u001b[0m\u001b[0;34m\u001b[0m\u001b[0m\n",
            "\u001b[0;32m/usr/local/lib/python3.7/dist-packages/google/cloud/bigquery/client.py\u001b[0m in \u001b[0;36m_call_api\u001b[0;34m(self, retry, **kwargs)\u001b[0m\n\u001b[1;32m    474\u001b[0m         \u001b[0;32mif\u001b[0m \u001b[0mretry\u001b[0m\u001b[0;34m:\u001b[0m\u001b[0;34m\u001b[0m\u001b[0;34m\u001b[0m\u001b[0m\n\u001b[1;32m    475\u001b[0m             \u001b[0mcall\u001b[0m \u001b[0;34m=\u001b[0m \u001b[0mretry\u001b[0m\u001b[0;34m(\u001b[0m\u001b[0mcall\u001b[0m\u001b[0;34m)\u001b[0m\u001b[0;34m\u001b[0m\u001b[0;34m\u001b[0m\u001b[0m\n\u001b[0;32m--> 476\u001b[0;31m         \u001b[0;32mreturn\u001b[0m \u001b[0mcall\u001b[0m\u001b[0;34m(\u001b[0m\u001b[0;34m)\u001b[0m\u001b[0;34m\u001b[0m\u001b[0;34m\u001b[0m\u001b[0m\n\u001b[0m\u001b[1;32m    477\u001b[0m \u001b[0;34m\u001b[0m\u001b[0m\n\u001b[1;32m    478\u001b[0m     \u001b[0;32mdef\u001b[0m \u001b[0mget_dataset\u001b[0m\u001b[0;34m(\u001b[0m\u001b[0mself\u001b[0m\u001b[0;34m,\u001b[0m \u001b[0mdataset_ref\u001b[0m\u001b[0;34m,\u001b[0m \u001b[0mretry\u001b[0m\u001b[0;34m=\u001b[0m\u001b[0mDEFAULT_RETRY\u001b[0m\u001b[0;34m)\u001b[0m\u001b[0;34m:\u001b[0m\u001b[0;34m\u001b[0m\u001b[0;34m\u001b[0m\u001b[0m\n",
            "\u001b[0;32m/usr/local/lib/python3.7/dist-packages/google/api_core/retry.py\u001b[0m in \u001b[0;36mretry_wrapped_func\u001b[0;34m(*args, **kwargs)\u001b[0m\n\u001b[1;32m    289\u001b[0m                 \u001b[0msleep_generator\u001b[0m\u001b[0;34m,\u001b[0m\u001b[0;34m\u001b[0m\u001b[0;34m\u001b[0m\u001b[0m\n\u001b[1;32m    290\u001b[0m                 \u001b[0mself\u001b[0m\u001b[0;34m.\u001b[0m\u001b[0m_deadline\u001b[0m\u001b[0;34m,\u001b[0m\u001b[0;34m\u001b[0m\u001b[0;34m\u001b[0m\u001b[0m\n\u001b[0;32m--> 291\u001b[0;31m                 \u001b[0mon_error\u001b[0m\u001b[0;34m=\u001b[0m\u001b[0mon_error\u001b[0m\u001b[0;34m,\u001b[0m\u001b[0;34m\u001b[0m\u001b[0;34m\u001b[0m\u001b[0m\n\u001b[0m\u001b[1;32m    292\u001b[0m             )\n\u001b[1;32m    293\u001b[0m \u001b[0;34m\u001b[0m\u001b[0m\n",
            "\u001b[0;32m/usr/local/lib/python3.7/dist-packages/google/api_core/retry.py\u001b[0m in \u001b[0;36mretry_target\u001b[0;34m(target, predicate, sleep_generator, deadline, on_error)\u001b[0m\n\u001b[1;32m    187\u001b[0m     \u001b[0;32mfor\u001b[0m \u001b[0msleep\u001b[0m \u001b[0;32min\u001b[0m \u001b[0msleep_generator\u001b[0m\u001b[0;34m:\u001b[0m\u001b[0;34m\u001b[0m\u001b[0;34m\u001b[0m\u001b[0m\n\u001b[1;32m    188\u001b[0m         \u001b[0;32mtry\u001b[0m\u001b[0;34m:\u001b[0m\u001b[0;34m\u001b[0m\u001b[0;34m\u001b[0m\u001b[0m\n\u001b[0;32m--> 189\u001b[0;31m             \u001b[0;32mreturn\u001b[0m \u001b[0mtarget\u001b[0m\u001b[0;34m(\u001b[0m\u001b[0;34m)\u001b[0m\u001b[0;34m\u001b[0m\u001b[0;34m\u001b[0m\u001b[0m\n\u001b[0m\u001b[1;32m    190\u001b[0m \u001b[0;34m\u001b[0m\u001b[0m\n\u001b[1;32m    191\u001b[0m         \u001b[0;31m# pylint: disable=broad-except\u001b[0m\u001b[0;34m\u001b[0m\u001b[0;34m\u001b[0m\u001b[0;34m\u001b[0m\u001b[0m\n",
            "\u001b[0;32m/usr/local/lib/python3.7/dist-packages/google/cloud/_http.py\u001b[0m in \u001b[0;36mapi_request\u001b[0;34m(self, method, path, query_params, data, content_type, headers, api_base_url, api_version, expect_json, _target_object)\u001b[0m\n\u001b[1;32m    391\u001b[0m \u001b[0;34m\u001b[0m\u001b[0m\n\u001b[1;32m    392\u001b[0m         \u001b[0;32mif\u001b[0m \u001b[0;32mnot\u001b[0m \u001b[0;36m200\u001b[0m \u001b[0;34m<=\u001b[0m \u001b[0mresponse\u001b[0m\u001b[0;34m.\u001b[0m\u001b[0mstatus_code\u001b[0m \u001b[0;34m<\u001b[0m \u001b[0;36m300\u001b[0m\u001b[0;34m:\u001b[0m\u001b[0;34m\u001b[0m\u001b[0;34m\u001b[0m\u001b[0m\n\u001b[0;32m--> 393\u001b[0;31m             \u001b[0;32mraise\u001b[0m \u001b[0mexceptions\u001b[0m\u001b[0;34m.\u001b[0m\u001b[0mfrom_http_response\u001b[0m\u001b[0;34m(\u001b[0m\u001b[0mresponse\u001b[0m\u001b[0;34m)\u001b[0m\u001b[0;34m\u001b[0m\u001b[0;34m\u001b[0m\u001b[0m\n\u001b[0m\u001b[1;32m    394\u001b[0m \u001b[0;34m\u001b[0m\u001b[0m\n\u001b[1;32m    395\u001b[0m         \u001b[0;32mif\u001b[0m \u001b[0mexpect_json\u001b[0m \u001b[0;32mand\u001b[0m \u001b[0mresponse\u001b[0m\u001b[0;34m.\u001b[0m\u001b[0mcontent\u001b[0m\u001b[0;34m:\u001b[0m\u001b[0;34m\u001b[0m\u001b[0;34m\u001b[0m\u001b[0m\n",
            "\u001b[0;31mForbidden\u001b[0m: 403 POST https://bigquery.googleapis.com/bigquery/v2/projects/ml-session/jobs: Access Denied: Project ml-session: User does not have bigquery.jobs.create permission in project ml-session.\n\n(job ID: d234b7dc-28af-4e17-9417-90c2b08ff080)\n\n                    -----Query Job SQL Follows-----                    \n\n    |    .    |    .    |    .    |    .    |    .    |    .    |\n   1:\n   2:SELECT\n   3:  vendor_id,\n   4:  passenger_count,\n   5:  trip_distance,\n   6:  rate_code,\n   7:  payment_type,\n   8:  total_amount,\n   9:  tip_amount\n  10:FROM\n  11:  `bigquery-public-data.new_york_taxi_trips.tlc_yellow_trips_2018`\n  12:WHERE tip_amount >= 0\n  13:LIMIT 100\n    |    .    |    .    |    .    |    .    |    .    |    .    |"
          ]
        }
      ],
      "source": [
        "query = \"\"\"\n",
        "SELECT\n",
        "  vendor_id,\n",
        "  passenger_count,\n",
        "  trip_distance,\n",
        "  rate_code,\n",
        "  payment_type,\n",
        "  total_amount,\n",
        "  tip_amount\n",
        "FROM\n",
        "  `bigquery-public-data.new_york_taxi_trips.tlc_yellow_trips_2018`\n",
        "WHERE tip_amount >= 0\n",
        "LIMIT 100\n",
        "\"\"\"\n",
        "query_job = client.query(\n",
        "    query,\n",
        "     location=\"US\",\n",
        ")\n",
        "\n",
        "df = query_job.to_dataframe()\n",
        "df.head(5)"
      ]
    },
    {
      "cell_type": "code",
      "execution_count": null,
      "id": "45234585-63d3-491a-b72d-f7ba36c5fd37",
      "metadata": {
        "id": "45234585-63d3-491a-b72d-f7ba36c5fd37"
      },
      "outputs": [],
      "source": [
        "df.passenger_count.describe()"
      ]
    },
    {
      "cell_type": "code",
      "execution_count": null,
      "id": "11b70a2b-fb0f-4d8b-b7f4-2ff2c5f63bca",
      "metadata": {
        "id": "11b70a2b-fb0f-4d8b-b7f4-2ff2c5f63bca"
      },
      "outputs": [],
      "source": [
        "df.astype({'total_amount': float}).total_amount.describe()"
      ]
    },
    {
      "cell_type": "markdown",
      "id": "6ab563a1-e8d4-4454-850f-5cbbfc44ee13",
      "metadata": {
        "id": "6ab563a1-e8d4-4454-850f-5cbbfc44ee13"
      },
      "source": [
        "# TMDB 5000 Movie Dataset\n",
        "https://www.kaggle.com/datasets/tmdb/tmdb-movie-metadata"
      ]
    },
    {
      "cell_type": "code",
      "execution_count": null,
      "id": "7e2a4310-b339-4d83-bb41-ec57999988f6",
      "metadata": {
        "id": "7e2a4310-b339-4d83-bb41-ec57999988f6"
      },
      "outputs": [],
      "source": [
        "# Reffered from the following URLs\n",
        "# https://www.kaggle.com/code/ibtesama/getting-started-with-a-movie-recommendation-system\n",
        "# https://www.kaggle.com/code/rafffael/geting-started-movie-recommendation-with-eda-demo"
      ]
    },
    {
      "cell_type": "markdown",
      "id": "8ee7ff52-2570-42d1-bef8-d264cb07b05e",
      "metadata": {
        "tags": [],
        "id": "8ee7ff52-2570-42d1-bef8-d264cb07b05e"
      },
      "source": [
        "# Load data from Cloud Strage"
      ]
    },
    {
      "cell_type": "code",
      "execution_count": null,
      "id": "c8988725-c5ea-4591-b155-61464a364391",
      "metadata": {
        "id": "c8988725-c5ea-4591-b155-61464a364391"
      },
      "outputs": [],
      "source": [
        "from google.cloud import storage\n",
        "gcs_client = storage.Client(project=' ml-session')"
      ]
    },
    {
      "cell_type": "code",
      "execution_count": null,
      "id": "a1ef640a-d3c4-4b37-9885-cf9893093db9",
      "metadata": {
        "id": "a1ef640a-d3c4-4b37-9885-cf9893093db9"
      },
      "outputs": [],
      "source": [
        "import pandas as pd \n",
        "import numpy as np\n",
        "# Get the uri from the left pane\n",
        "df_credits=pd.read_csv('gs://ml_session9/TMDB/tmdb_5000_credits.csv')\n",
        "df_movies=pd.read_csv(\"gs://ml_session9/TMDB/tmdb_5000_movies.csv\")"
      ]
    },
    {
      "cell_type": "code",
      "execution_count": null,
      "id": "2bd1c927-3677-4633-b422-794fc491cd7b",
      "metadata": {
        "id": "2bd1c927-3677-4633-b422-794fc491cd7b"
      },
      "outputs": [],
      "source": [
        "df_credits.head()"
      ]
    },
    {
      "cell_type": "code",
      "execution_count": null,
      "id": "6c43b121-1742-4e30-87e8-1543771fb104",
      "metadata": {
        "id": "6c43b121-1742-4e30-87e8-1543771fb104"
      },
      "outputs": [],
      "source": [
        "df_movies.head(1)"
      ]
    },
    {
      "cell_type": "markdown",
      "id": "e6fd9ca2-2137-49bd-9657-333b49a8140c",
      "metadata": {
        "id": "e6fd9ca2-2137-49bd-9657-333b49a8140c"
      },
      "source": [
        "The first dataset contains the following features:-\n",
        "\n",
        "- movie_id - A unique identifier for each movie.\n",
        "- cast - The name of lead and supporting actors.\n",
        "- crew - The name of Director, Editor, Composer, Writer etc.\n",
        "\n",
        "The second dataset has the following features:-\n",
        "- budget - The budget in which the movie was made.\n",
        "- genre - The genre of the movie, Action, Comedy ,Thriller etc.\n",
        "- homepage - A link to the homepage of the movie.\n",
        "- id - This is infact the movie_id as in the first dataset.\n",
        "- keywords - The keywords or tags related to the movie.\n",
        "- original_language - The language in which the movie was made.\n",
        "- original_title - The title of the movie before translation or adaptation.\n",
        "- overview - A brief description of the movie.\n",
        "- popularity - A numeric quantity specifying the movie popularity.\n",
        "- production_companies - The production house of the movie.\n",
        "- production_countries - The country in which it was produced.\n",
        "- release_date - The date on which it was released.\n",
        "- revenue - The worldwide revenue generated by the movie.\n",
        "- runtime - The running time of the movie in minutes.\n",
        "- status - \"Released\" or \"Rumored\".\n",
        "- tagline - Movie's tagline.\n",
        "- title - Title of the movie.\n",
        "- vote_average - average ratings the movie recieved.\n",
        "- vote_count - the count of votes recieved.\n",
        "Let's join the two dataset on the 'id' column"
      ]
    },
    {
      "cell_type": "code",
      "execution_count": null,
      "id": "25131296-5c1b-49e8-8ee0-3b8c3c3defc2",
      "metadata": {
        "id": "25131296-5c1b-49e8-8ee0-3b8c3c3defc2"
      },
      "outputs": [],
      "source": [
        "df_credits.columns = ['id','title2','cast','crew']"
      ]
    },
    {
      "cell_type": "code",
      "execution_count": null,
      "id": "8fa98a56-f22c-4a46-9e60-9c1914a8ebc0",
      "metadata": {
        "id": "8fa98a56-f22c-4a46-9e60-9c1914a8ebc0"
      },
      "outputs": [],
      "source": [
        "df_movies= df_movies.merge(df_credits,on='id')"
      ]
    },
    {
      "cell_type": "code",
      "execution_count": null,
      "id": "6d96569d-7070-40aa-93d3-20ba53ca9cf2",
      "metadata": {
        "id": "6d96569d-7070-40aa-93d3-20ba53ca9cf2"
      },
      "outputs": [],
      "source": [
        "df_movies.head(1)"
      ]
    },
    {
      "cell_type": "code",
      "execution_count": null,
      "id": "c7c3698b-250a-400c-a4c0-a391737bed26",
      "metadata": {
        "id": "c7c3698b-250a-400c-a4c0-a391737bed26"
      },
      "outputs": [],
      "source": [
        "!pip install ipywidgets --user"
      ]
    },
    {
      "cell_type": "code",
      "execution_count": null,
      "id": "0f26de87-c720-42db-8667-ba1c8a2b7339",
      "metadata": {
        "id": "0f26de87-c720-42db-8667-ba1c8a2b7339"
      },
      "outputs": [],
      "source": [
        "from pandas_profiling import ProfileReport"
      ]
    },
    {
      "cell_type": "code",
      "execution_count": null,
      "id": "04ac18b2-dfbc-482b-99f3-db9714a76b39",
      "metadata": {
        "id": "04ac18b2-dfbc-482b-99f3-db9714a76b39"
      },
      "outputs": [],
      "source": [
        "report = ProfileReport(df_movies)"
      ]
    },
    {
      "cell_type": "code",
      "execution_count": null,
      "id": "b1c3b92c-84b0-4931-9e1e-9eb93ddc927f",
      "metadata": {
        "id": "b1c3b92c-84b0-4931-9e1e-9eb93ddc927f"
      },
      "outputs": [],
      "source": [
        "# convert date appropriate format\n",
        "df_movies[\"release_date\"] = pd.to_datetime(df_movies['release_date'])\n",
        "df_movies['release_year'] = df_movies['release_date'].dt.year\n",
        "df_movies['release_month'] = df_movies['release_date'].dt.month_name()\n",
        "del df_movies[\"release_date\"]"
      ]
    },
    {
      "cell_type": "code",
      "execution_count": null,
      "id": "7deee9a9-0209-4100-9c53-fbfcc50c51cf",
      "metadata": {
        "id": "7deee9a9-0209-4100-9c53-fbfcc50c51cf"
      },
      "outputs": [],
      "source": [
        "import json\n",
        "# transform all columns which had json string into json format\n",
        "# several columns has id and name\n",
        "# leave only name for them beacause id is not so important in this case\n",
        "json_columns = {'cast', 'crew', 'genres', 'keywords', 'production_countries', \n",
        "                'production_companies', 'spoken_languages'}\n",
        "\n",
        "for c in json_columns:\n",
        "    df_movies[c] = df_movies[c].apply(json.loads)\n",
        "    if c != \"crew\": # We need other information besides the name\n",
        "        df_movies[c] = df_movies[c].apply(lambda row: [x[\"name\"] for x in row])"
      ]
    },
    {
      "cell_type": "code",
      "execution_count": null,
      "id": "4ff8d887-38f7-4168-957d-8e7dbfd82b06",
      "metadata": {
        "id": "4ff8d887-38f7-4168-957d-8e7dbfd82b06"
      },
      "outputs": [],
      "source": [
        "pd.set_option(\"display.max_columns\", None)"
      ]
    },
    {
      "cell_type": "code",
      "execution_count": null,
      "id": "6deb6e70-5824-4733-b24e-4a46c4e7ee9c",
      "metadata": {
        "id": "6deb6e70-5824-4733-b24e-4a46c4e7ee9c"
      },
      "outputs": [],
      "source": [
        "df_movies.head(1)"
      ]
    },
    {
      "cell_type": "code",
      "execution_count": null,
      "id": "e548aab4-0efe-428a-95ef-b4087936a145",
      "metadata": {
        "id": "e548aab4-0efe-428a-95ef-b4087936a145"
      },
      "outputs": [],
      "source": [
        "from functools import partial"
      ]
    },
    {
      "cell_type": "code",
      "execution_count": null,
      "id": "887f3945-8705-4ecc-84a1-4cdb8478b1c8",
      "metadata": {
        "id": "887f3945-8705-4ecc-84a1-4cdb8478b1c8"
      },
      "outputs": [],
      "source": [
        "# create director writer and producer columns \n",
        "def get_job(job, row):\n",
        "    person_name = [x['name'] for x in row if x['job']==job] \n",
        "    return person_name[0] if len(person_name) else np.nan\n",
        "\n",
        "df_movies[\"director\"] = df_movies[\"crew\"].apply(partial(get_job, \"Director\"))\n",
        "df_movies[\"writer\"]   = df_movies[\"crew\"].apply(partial(get_job, \"Writer\"))\n",
        "df_movies[\"producer\"] = df_movies[\"crew\"].apply(partial(get_job, \"Producer\"))\n",
        "del df_movies[\"crew\"]\n",
        "\n",
        "# create profit column\n",
        "df_movies[\"profit\"] = df_movies[\"revenue\"] - df_movies[\"budget\"]"
      ]
    },
    {
      "cell_type": "code",
      "execution_count": null,
      "id": "2f9525e9-b9f5-4b98-8853-4ada8a88e7bc",
      "metadata": {
        "id": "2f9525e9-b9f5-4b98-8853-4ada8a88e7bc"
      },
      "outputs": [],
      "source": [
        "# fill some missing values by most frequent one\n",
        "for col in [\"runtime\", \"release_year\", \"release_month\"]:\n",
        "    df_movies[col] = df_movies[col].fillna(df_movies[col].mode().iloc[0])"
      ]
    },
    {
      "cell_type": "code",
      "execution_count": null,
      "id": "c11da9fd-49c0-4d82-8560-21a68290b44b",
      "metadata": {
        "id": "c11da9fd-49c0-4d82-8560-21a68290b44b"
      },
      "outputs": [],
      "source": [
        "df_movies.head(1)"
      ]
    },
    {
      "cell_type": "code",
      "execution_count": null,
      "id": "472ce93c-7719-4cff-be16-0babf4803e00",
      "metadata": {
        "id": "472ce93c-7719-4cff-be16-0babf4803e00"
      },
      "outputs": [],
      "source": [
        "df_movies.head(1).keywords.sum()[:5]"
      ]
    },
    {
      "cell_type": "code",
      "execution_count": null,
      "id": "66ca05ff-85d9-4055-926e-8553889d6739",
      "metadata": {
        "id": "66ca05ff-85d9-4055-926e-8553889d6739"
      },
      "outputs": [],
      "source": [
        "# import numpy as np\n",
        "# import os\n",
        "# import pickle\n",
        "# from pywaffle import Waffle\n",
        "# import scipy\n",
        "# from sklearn.feature_extraction.text import TfidfVectorizer, CountVectorizer\n",
        "# from sklearn.metrics.pairwise import linear_kernel, cosine_similarity\n",
        "# pd.set_option(\"display.max_columns\", None)"
      ]
    },
    {
      "cell_type": "code",
      "execution_count": null,
      "id": "7474b786-3696-4636-a901-851ff231f3c4",
      "metadata": {
        "id": "7474b786-3696-4636-a901-851ff231f3c4"
      },
      "outputs": [],
      "source": [
        "import matplotlib\n",
        "import matplotlib.pyplot as plt\n",
        "%matplotlib inline"
      ]
    },
    {
      "cell_type": "code",
      "execution_count": null,
      "id": "f785b647-b321-4365-ba70-25b492b5b84d",
      "metadata": {
        "id": "f785b647-b321-4365-ba70-25b492b5b84d"
      },
      "outputs": [],
      "source": [
        "top_movie_num = 10\n",
        "top_movies_based_on = [\"budget\", \"revenue\", \"profit\", \"vote_average\", \"vote_count\", \"popularity\"]\n",
        "\n",
        "fig, ax = plt.subplots(len(top_movies_based_on)//3, 3, figsize=(30,14))\n",
        "colors = plt.cm.get_cmap('viridis', top_movie_num)\n",
        "\n",
        "for i, col in enumerate(top_movies_based_on):\n",
        "    top_movies_by = df_movies.sort_values(by=[col], ascending=False).head(top_movie_num)\n",
        "    r, c = i//3, i%3\n",
        "    ax[r][c].barh(top_movies_by[\"title\"], top_movies_by[col], color=colors.colors)\n",
        "    ax[r][c].set_title(f\"top movies based on {col}\", fontsize=24, pad=20)\n",
        "    ax[r][c].tick_params(axis='both', which='major', labelsize=16)\n",
        "    ax[r][c].invert_yaxis()    \n",
        "    \n",
        "plt.suptitle('Top movies based on some features',fontsize=30, y=1)\n",
        "fig.tight_layout()"
      ]
    },
    {
      "cell_type": "code",
      "execution_count": null,
      "id": "61075c32-1009-4c05-97a8-220fbfa7d8ed",
      "metadata": {
        "id": "61075c32-1009-4c05-97a8-220fbfa7d8ed"
      },
      "outputs": [],
      "source": [
        "!pip install squarify --user"
      ]
    },
    {
      "cell_type": "code",
      "execution_count": null,
      "id": "645ae755-4c16-4ea3-bdbf-8c3b6f201359",
      "metadata": {
        "id": "645ae755-4c16-4ea3-bdbf-8c3b6f201359"
      },
      "outputs": [],
      "source": [
        "from collections import defaultdict, Counter\n",
        "import squarify"
      ]
    },
    {
      "cell_type": "code",
      "execution_count": null,
      "id": "c673deb7-db30-4b99-a664-790cfa75d4ce",
      "metadata": {
        "id": "c673deb7-db30-4b99-a664-790cfa75d4ce"
      },
      "outputs": [],
      "source": [
        "df_movies[\"keywords\"][0][:5]"
      ]
    },
    {
      "cell_type": "code",
      "execution_count": null,
      "id": "c7dcbd1a-c5a3-4402-a117-db225047b278",
      "metadata": {
        "id": "c7dcbd1a-c5a3-4402-a117-db225047b278"
      },
      "outputs": [],
      "source": [
        "df_movies[\"genres\"][0]"
      ]
    },
    {
      "cell_type": "code",
      "execution_count": null,
      "id": "87c5bf85-abcf-4f6d-9498-28aa390c6d1b",
      "metadata": {
        "id": "87c5bf85-abcf-4f6d-9498-28aa390c6d1b"
      },
      "outputs": [],
      "source": [
        "df_movies[\"original_language\"][0]"
      ]
    },
    {
      "cell_type": "code",
      "execution_count": null,
      "id": "d41cd875-904e-43c0-8871-0b83610173fe",
      "metadata": {
        "id": "d41cd875-904e-43c0-8871-0b83610173fe"
      },
      "outputs": [],
      "source": [
        "# plot genre frequncy with treemap \n",
        "genres_flatten = sum(df_movies[\"genres\"].values, []) # genres are list of lists\n",
        "genres_info = Counter(genres_flatten)\n",
        "\n",
        "plt.figure(figsize=(15, 10))\n",
        "plt.title(\"Genres\", fontsize=25, pad=20)\n",
        "squarify.plot(genres_info.values(), label=genres_info.keys(), text_kwargs={'fontsize':12}, bar_kwargs={'alpha':.7}, pad=True)\n",
        "plt.axis(\"off\");"
      ]
    },
    {
      "cell_type": "code",
      "execution_count": null,
      "id": "515396c5-9fed-481c-b337-b8c1ce8a3f5e",
      "metadata": {
        "id": "515396c5-9fed-481c-b337-b8c1ce8a3f5e"
      },
      "outputs": [],
      "source": [
        "top_genres_num = 15\n",
        "genres_flatten = sum(df_movies[\"genres\"].values, []) # genres are list of lists\n",
        "genres_info = Counter(genres_flatten)\n",
        "top_genres = dict(genres_info.most_common(top_genres_num))\n",
        "\n",
        "plt.figure(figsize=(20, 6))\n",
        "plt.xticks(rotation=85, fontsize=15)\n",
        "plt.yticks(fontsize=15)\n",
        "plt.ylabel(\"Nb. of occurences\", fontsize=18, labelpad=10)\n",
        "plt.bar(top_genres.keys(), top_genres.values(), align='center', color=plt.cm.get_cmap('plasma', top_genres_num).colors)\n",
        "# plt.bar(top_keywords.keys(), top_keywords.values(), align='center', color=plt.cm.get_cmap('plasma', top_keywords_num).colors)\n",
        "plt.title(\"Genres\", fontsize=25, pad=20)\n",
        "plt.show()"
      ]
    },
    {
      "cell_type": "code",
      "execution_count": null,
      "id": "8017743b-8e3a-491d-ab8c-1b298bca4519",
      "metadata": {
        "id": "8017743b-8e3a-491d-ab8c-1b298bca4519"
      },
      "outputs": [],
      "source": [
        "top_keywords_num = 30\n",
        "keywords_flatten = sum(df_movies[\"keywords\"].values, []) # keywords are list of lists\n",
        "keywords_info = Counter(keywords_flatten)\n",
        "top_keywords = dict(keywords_info.most_common(top_keywords_num))\n",
        "\n",
        "plt.figure(figsize=(20, 6))\n",
        "plt.xticks(rotation=85, fontsize=15)\n",
        "plt.yticks(fontsize=15)\n",
        "plt.ylabel(\"Nb. of occurences\", fontsize=18, labelpad=10)\n",
        "plt.bar(top_keywords.keys(), top_keywords.values(), align='center', color=plt.cm.get_cmap('plasma', top_keywords_num).colors)\n",
        "plt.title(\"Keywords popularity\", fontsize=25, pad=20)\n",
        "plt.show()"
      ]
    },
    {
      "cell_type": "code",
      "execution_count": null,
      "id": "27ad2513-1032-4267-873f-a90d3b1039a9",
      "metadata": {
        "id": "27ad2513-1032-4267-873f-a90d3b1039a9"
      },
      "outputs": [],
      "source": [
        "df_movies[\"original_language\"].value_counts()[:5]"
      ]
    },
    {
      "cell_type": "code",
      "execution_count": null,
      "id": "f6d4e5ba-bc09-4652-9468-399650f3003e",
      "metadata": {
        "id": "f6d4e5ba-bc09-4652-9468-399650f3003e"
      },
      "outputs": [],
      "source": [
        "plt.figure(figsize=(20, 6))\n",
        "plt.xticks(rotation=85, fontsize=15)\n",
        "plt.yticks(fontsize=15)\n",
        "plt.ylabel(\"Nb. of occurences\", fontsize=18, labelpad=10)\n",
        "\n",
        "plt.bar(df_movies[\"original_language\"].value_counts()[:10].index,\n",
        "        df_movies[\"original_language\"].value_counts()[:10].values,\n",
        "        align='center', color=plt.cm.get_cmap('plasma', top_keywords_num).colors)\n",
        "\n",
        "plt.title(\"N of original language\", fontsize=25, pad=20)\n",
        "plt.show()"
      ]
    },
    {
      "cell_type": "code",
      "execution_count": null,
      "id": "4e2fcf60-5f3c-41ad-95b7-db46c2c16138",
      "metadata": {
        "id": "4e2fcf60-5f3c-41ad-95b7-db46c2c16138"
      },
      "outputs": [],
      "source": [
        "df_movies[\"production_countries\"].values"
      ]
    },
    {
      "cell_type": "code",
      "execution_count": null,
      "id": "4a954ae8-a998-4f1f-96c3-20977c326b83",
      "metadata": {
        "id": "4a954ae8-a998-4f1f-96c3-20977c326b83"
      },
      "outputs": [],
      "source": [
        "top_contries_num = 10\n",
        "production_contries_flatten = sum(df_movies[\"production_countries\"].values, []) # production_countries are list of lists\n",
        "production_contries_info = Counter(production_contries_flatten)\n",
        "top_production_contries = production_contries_info.most_common(top_contries_num)\n",
        "\n",
        "plt.figure(figsize=(30, 8))\n",
        "plt.xticks(rotation=65, fontsize=15)\n",
        "plt.ylabel(\"Nb. of occurences\", fontsize=18)\n",
        "plt.title(\"Production countries\", fontsize=25, pad=20)\n",
        "plt.bar(dict(top_production_contries).keys(),\n",
        "        dict(top_production_contries).values(),\n",
        "        color=plt.cm.get_cmap('cividis', top_contries_num).colors);"
      ]
    },
    {
      "cell_type": "code",
      "execution_count": null,
      "id": "8f940a99-d9e6-4c28-b26b-3df05177ffcf",
      "metadata": {
        "id": "8f940a99-d9e6-4c28-b26b-3df05177ffcf"
      },
      "outputs": [],
      "source": [
        "top_companies_num = 15\n",
        "production_companies_flatten = sum(df_movies[\"production_companies\"].values, []) # production_companies are list of lists\n",
        "production_companies_info = Counter(production_companies_flatten)\n",
        "top_production_companies = production_companies_info.most_common(10)\n",
        "\n",
        "\n",
        "plt.figure(figsize=(30, 8))\n",
        "plt.xticks(rotation=65, fontsize=15)\n",
        "plt.ylabel(\"Nb. of occurences\", fontsize=18)\n",
        "plt.title(\"Production countries\", fontsize=25, pad=20)\n",
        "plt.bar(dict(top_production_companies).keys(),\n",
        "        dict(top_production_companies).values(),\n",
        "        color=plt.cm.get_cmap('cividis', top_companies_num).colors);\n",
        "\n",
        "# fig = plt.figure(\n",
        "#     FigureClass=Waffle, \n",
        "#     rows=30, \n",
        "#     values=dict(top_production_companies), \n",
        "#     legend={'loc': 'upper left', 'bbox_to_anchor': (1, 1)},\n",
        "#     icons='child', icon_size=14, \n",
        "#     icon_legend=True,\n",
        "#     figsize=(24,8)\n",
        "# )"
      ]
    },
    {
      "cell_type": "code",
      "execution_count": null,
      "id": "f7f92cb0-363e-4acd-b045-3791757eeee7",
      "metadata": {
        "id": "f7f92cb0-363e-4acd-b045-3791757eeee7"
      },
      "outputs": [],
      "source": [
        "!pip install wordcloud --user\n",
        "from wordcloud import WordCloud"
      ]
    },
    {
      "cell_type": "code",
      "execution_count": null,
      "id": "bdebe836-a7fc-4418-afa0-f3752fd748f7",
      "metadata": {
        "id": "bdebe836-a7fc-4418-afa0-f3752fd748f7"
      },
      "outputs": [],
      "source": [
        "df_movies[\"cast\"].values[0][:5]"
      ]
    },
    {
      "cell_type": "code",
      "execution_count": null,
      "id": "415ad64d-3879-49f5-8c48-54c815f4c71f",
      "metadata": {
        "id": "415ad64d-3879-49f5-8c48-54c815f4c71f"
      },
      "outputs": [],
      "source": [
        "# plot unique cast frequency\n",
        "cast_flatten = sum(df_movies[\"cast\"].values, []) # cast are list of lists\n",
        "cast_info = Counter(cast_flatten)\n",
        "\n",
        "wordcloud = WordCloud(background_color='white')\n",
        "wordcloud.generate_from_frequencies(dict(cast_info.most_common(50)))\n",
        "\n",
        "plt.figure(figsize=(15,10))\n",
        "plt.title(\"Cast\", fontsize=25, pad=20)\n",
        "plt.imshow(wordcloud, interpolation=\"bilinear\")\n",
        "plt.axis(\"off\");"
      ]
    },
    {
      "cell_type": "code",
      "execution_count": null,
      "id": "5c5d9855-fbc9-4c6e-b5d7-b68e81c5c4df",
      "metadata": {
        "id": "5c5d9855-fbc9-4c6e-b5d7-b68e81c5c4df"
      },
      "outputs": [],
      "source": [
        "\n",
        "plt.xticks(fontsize=12)\n",
        "plt.ylabel(\"Nb. of occurences\", fontsize=14)\n",
        "plt.title(\"Movie release year\", fontsize=25, pad=20)\n",
        "df_movies[\"release_year\"].plot.hist(figsize=(15,5), bins=100);"
      ]
    },
    {
      "cell_type": "code",
      "execution_count": null,
      "id": "25fda507-2d32-498c-92e2-375efdd57d01",
      "metadata": {
        "id": "25fda507-2d32-498c-92e2-375efdd57d01"
      },
      "outputs": [],
      "source": [
        "matrix = df_movies[[\"budget\", \"popularity\", \"revenue\", \"runtime\", \"vote_average\", \"vote_count\"]].corr()\n",
        "\n",
        "f, ax = plt.subplots(figsize=(12, 10))\n",
        "plt.title(\"correlation between features\", fontsize=20, pad=20)\n",
        "plt.xticks(range(len(matrix.index)), matrix.index, fontsize=12)\n",
        "plt.yticks(range(len(matrix.index)), matrix.index, fontsize=12)\n",
        "\n",
        "# adding values\n",
        "for i in range(len(matrix.index)):\n",
        "    for j in range(len(matrix.index)):\n",
        "        text = ax.text(j, i, round(matrix.iloc[i, j],3), ha=\"center\", va=\"center\", color=\"w\", fontsize=12)\n",
        "        \n",
        "plt.imshow(matrix, cmap='coolwarm', interpolation='nearest')\n",
        "plt.colorbar();"
      ]
    },
    {
      "cell_type": "code",
      "execution_count": null,
      "id": "1f5000f8-3f38-4d65-9d4b-1021c977dd1f",
      "metadata": {
        "id": "1f5000f8-3f38-4d65-9d4b-1021c977dd1f"
      },
      "outputs": [],
      "source": [
        "bq_table = df_movies[[\"budget\", \"popularity\", \"revenue\", \"runtime\", \"vote_average\", \"vote_count\"]]"
      ]
    },
    {
      "cell_type": "code",
      "execution_count": null,
      "id": "d6621977-ac79-4ccc-acea-f3f7bdf1df22",
      "metadata": {
        "id": "d6621977-ac79-4ccc-acea-f3f7bdf1df22"
      },
      "outputs": [],
      "source": [
        "bq_table.info()"
      ]
    },
    {
      "cell_type": "markdown",
      "id": "e1a2561f-8916-4401-9523-76d1f6b1ff11",
      "metadata": {
        "id": "e1a2561f-8916-4401-9523-76d1f6b1ff11"
      },
      "source": [
        "# Load the dataframe to BigQuery"
      ]
    },
    {
      "cell_type": "code",
      "execution_count": null,
      "id": "f7a315e0-ec04-4cdc-ac10-2db72d31df70",
      "metadata": {
        "id": "f7a315e0-ec04-4cdc-ac10-2db72d31df70"
      },
      "outputs": [],
      "source": [
        "bq_table.head(1)"
      ]
    },
    {
      "cell_type": "code",
      "execution_count": null,
      "id": "4ac5cc13-798a-41ff-9005-8662a38a870e",
      "metadata": {
        "id": "4ac5cc13-798a-41ff-9005-8662a38a870e"
      },
      "outputs": [],
      "source": [
        "test = client.get_dataset(dataset_ref='session9')"
      ]
    },
    {
      "cell_type": "code",
      "execution_count": null,
      "id": "59d31867-7d4c-42f7-8bd4-80f4d1ccd7d2",
      "metadata": {
        "id": "59d31867-7d4c-42f7-8bd4-80f4d1ccd7d2"
      },
      "outputs": [],
      "source": [
        "test"
      ]
    },
    {
      "cell_type": "code",
      "execution_count": null,
      "id": "29520435-7e49-49ee-b700-8844c09460dc",
      "metadata": {
        "id": "29520435-7e49-49ee-b700-8844c09460dc"
      },
      "outputs": [],
      "source": [
        "dataset_id = 'session9'\n",
        "\n",
        "# dataset = client.create_dataset(dataset_id)  \n",
        "dataset = client.get_dataset(dataset_ref=dataset_id)"
      ]
    },
    {
      "cell_type": "code",
      "execution_count": null,
      "id": "9682f666-93fb-4cca-94b8-5cb54e60f3ec",
      "metadata": {
        "id": "9682f666-93fb-4cca-94b8-5cb54e60f3ec"
      },
      "outputs": [],
      "source": [
        "dataset"
      ]
    },
    {
      "cell_type": "code",
      "execution_count": null,
      "id": "6507bdd2-4bac-441c-a797-cb03f15c45ed",
      "metadata": {
        "id": "6507bdd2-4bac-441c-a797-cb03f15c45ed"
      },
      "outputs": [],
      "source": [
        "# Optionally set explicit indices.\n",
        "# If indices are not specified, a column will be created for the default\n",
        "# indices created by pandas.\n",
        "# df = pandas.DataFrame(records, index=pandas.Index(index, name=\"wikidata_id\"))\n",
        "\n",
        "table_ref = dataset.table(\"movie_database2\")\n",
        "job = client.load_table_from_dataframe(bq_table, table_ref, location=\"US\")\n",
        "\n",
        "job.result()  # Waits for table load to complete.\n",
        "print(\"Loaded dataframe to {}\".format(table_ref.path))"
      ]
    },
    {
      "cell_type": "code",
      "execution_count": null,
      "id": "78b87b28-77b5-49e5-8062-b241f787fb70",
      "metadata": {
        "id": "78b87b28-77b5-49e5-8062-b241f787fb70"
      },
      "outputs": [],
      "source": [
        ""
      ]
    },
    {
      "cell_type": "code",
      "execution_count": null,
      "id": "d268f622-bddc-4a4e-9ca2-f40385c57662",
      "metadata": {
        "id": "d268f622-bddc-4a4e-9ca2-f40385c57662"
      },
      "outputs": [],
      "source": [
        "query = \"\"\"\n",
        "SELECT\n",
        "  *\n",
        "FROM\n",
        "  `ml-session.session9.movie_database2`\n",
        "WHERE budget > 0\n",
        "LIMIT 100\n",
        "\"\"\"\n",
        "query_job = client.query(\n",
        "    query,\n",
        "     location=\"US\",\n",
        ")\n",
        "\n",
        "df = query_job.to_dataframe()\n",
        "df.head(5)"
      ]
    },
    {
      "cell_type": "code",
      "execution_count": null,
      "id": "7eaca4a2-5618-4bb3-a55e-bd14ba6437d0",
      "metadata": {
        "id": "7eaca4a2-5618-4bb3-a55e-bd14ba6437d0"
      },
      "outputs": [],
      "source": [
        "# revenue を予測するモデルを作成\n",
        "ml_query = \"\"\"\n",
        "CREATE OR REPLACE MODEL `session9.movie_revenue_pred`\n",
        "OPTIONS (model_type='boosted_tree_regressor',\n",
        "         input_label_cols=['revenue'],\n",
        "         max_iterations = 10,\n",
        "         tree_method = 'HIST',\n",
        "         subsample = 0.85,\n",
        "         enable_global_explain = TRUE\n",
        ") AS\n",
        "SELECT\n",
        "  *\n",
        "FROM\n",
        "  `ml-session.session9.movie_database2`\n",
        "WHERE budget > 0\n",
        "LIMIT 10000\n",
        "\"\"\"\n",
        "query_job = client.query(\n",
        "    query,\n",
        "     location=\"US\",\n",
        ")\n",
        "df = query_job.to_dataframe()"
      ]
    },
    {
      "cell_type": "code",
      "execution_count": null,
      "id": "e54ca174-460d-4be1-b0a5-ea15c5d3dd4d",
      "metadata": {
        "id": "e54ca174-460d-4be1-b0a5-ea15c5d3dd4d"
      },
      "outputs": [],
      "source": [
        "df"
      ]
    },
    {
      "cell_type": "code",
      "execution_count": null,
      "id": "5a9fc321-eb60-4988-a378-1267b9528b4c",
      "metadata": {
        "id": "5a9fc321-eb60-4988-a378-1267b9528b4c"
      },
      "outputs": [],
      "source": [
        "training_info = \"\"\"\n",
        "SELECT\n",
        "  training_run,\n",
        "  iteration,\n",
        "  loss,\n",
        "  eval_loss,\n",
        "  duration_ms,\n",
        "  learning_rate\n",
        "FROM\n",
        "  ML.TRAINING_INFO(MODEL `session9.movie_revenue_pred`)\n",
        "ORDER BY iteration ASC\n",
        "\"\"\"\n",
        "client.query(training_info).to_dataframe()"
      ]
    },
    {
      "cell_type": "code",
      "execution_count": null,
      "id": "1b1d9856-ddac-4c0a-a376-9e4b153f3754",
      "metadata": {
        "id": "1b1d9856-ddac-4c0a-a376-9e4b153f3754"
      },
      "outputs": [],
      "source": [
        "global_explain = \"\"\"\n",
        "SELECT\n",
        "  *\n",
        "FROM\n",
        "  ML.GLOBAL_EXPLAIN(MODEL `session9.movie_revenue_pred`)\n",
        "\"\"\"\n",
        "\n",
        "client.query(global_explain).to_dataframe()"
      ]
    },
    {
      "cell_type": "code",
      "execution_count": null,
      "id": "b320e614-d54a-4521-9757-a06796139d44",
      "metadata": {
        "id": "b320e614-d54a-4521-9757-a06796139d44"
      },
      "outputs": [],
      "source": [
        "explain_predict = \"\"\"\n",
        "SELECT *\n",
        "FROM\n",
        "ML.EXPLAIN_PREDICT(MODEL `session9.movie_revenue_pred`,\n",
        " (\n",
        " SELECT\n",
        "   25000000 AS budget,\n",
        "   14.613152 AS popularity,\n",
        "   137.0 AS runtime,\n",
        "   5.5 AS vote_average,\n",
        "   301 AS vote_count\n",
        "),\n",
        "STRUCT(6 AS top_k_features))\n",
        "\"\"\"\n",
        "client.query(explain_predict).to_dataframe()\n"
      ]
    },
    {
      "cell_type": "code",
      "execution_count": null,
      "id": "e793c3a8-63d3-45b6-97d1-2de76233b46e",
      "metadata": {
        "id": "e793c3a8-63d3-45b6-97d1-2de76233b46e"
      },
      "outputs": [],
      "source": [
        ""
      ]
    },
    {
      "cell_type": "code",
      "execution_count": null,
      "id": "da18131f-f2e1-4891-8646-4e7f8aa402b4",
      "metadata": {
        "id": "da18131f-f2e1-4891-8646-4e7f8aa402b4"
      },
      "outputs": [],
      "source": [
        ""
      ]
    },
    {
      "cell_type": "code",
      "execution_count": null,
      "id": "0827c0a6-2524-4a08-925b-c627c932551d",
      "metadata": {
        "id": "0827c0a6-2524-4a08-925b-c627c932551d"
      },
      "outputs": [],
      "source": [
        "# Delete the dataset and its contents\n",
        "client.delete_dataset(dataset, delete_contents=True)\n",
        "\n",
        "print('Deleted dataset: {}'.format(dataset.path))"
      ]
    },
    {
      "cell_type": "code",
      "execution_count": null,
      "id": "7da805c4-9c77-462c-89b5-4961651bfd59",
      "metadata": {
        "id": "7da805c4-9c77-462c-89b5-4961651bfd59"
      },
      "outputs": [],
      "source": [
        ""
      ]
    },
    {
      "cell_type": "code",
      "execution_count": null,
      "id": "b968e648-f3e0-437d-9a4c-446d0925489a",
      "metadata": {
        "id": "b968e648-f3e0-437d-9a4c-446d0925489a"
      },
      "outputs": [],
      "source": [
        ""
      ]
    }
  ],
  "metadata": {
    "environment": {
      "kernel": "python3",
      "name": "managed-notebooks.m90",
      "type": "gcloud",
      "uri": "gcr.io/deeplearning-platform-release/base-cu110:latest"
    },
    "kernelspec": {
      "display_name": "Python 3 (ipykernel)",
      "language": "python",
      "name": "python3"
    },
    "language_info": {
      "codemirror_mode": {
        "name": "ipython",
        "version": 3
      },
      "file_extension": ".py",
      "mimetype": "text/x-python",
      "name": "python",
      "nbconvert_exporter": "python",
      "pygments_lexer": "ipython3",
      "version": "3.9.10"
    },
    "colab": {
      "name": "bq_recommendation_mf.ipynb",
      "provenance": []
    }
  },
  "nbformat": 4,
  "nbformat_minor": 5
}