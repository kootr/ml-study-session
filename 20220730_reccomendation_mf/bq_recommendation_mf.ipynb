{
 "cells": [
  {
   "cell_type": "markdown",
   "id": "a67fe4b1",
   "metadata": {},
   "source": [
    "<a href=\"https://colab.research.google.com/github/kootr/ml-study-session/blob/mlops_session_for_june/vertexai_pipelines_bqml_titanic_new.ipynb\" target=\"_parent\"><img src=\"https://colab.research.google.com/assets/colab-badge.svg\" alt=\"Open In Colab\"/></a>\n"
   ]
  },
  {
   "cell_type": "code",
   "execution_count": 1,
   "id": "3d664e32-9fd5-41ed-957f-389ba5213a92",
   "metadata": {},
   "outputs": [],
   "source": [
    "from google.cloud import bigquery\n",
    "import pandas as pd"
   ]
  },
  {
   "cell_type": "code",
   "execution_count": 2,
   "id": "a747a155-5fae-41dc-a6b1-dda19956ecb6",
   "metadata": {},
   "outputs": [
    {
     "ename": "DefaultCredentialsError",
     "evalue": "Could not automatically determine credentials. Please set GOOGLE_APPLICATION_CREDENTIALS or explicitly create credentials and re-run the application. For more information, please see https://cloud.google.com/docs/authentication/getting-started",
     "output_type": "error",
     "traceback": [
      "\u001b[0;31m---------------------------------------------------------------------------\u001b[0m",
      "\u001b[0;31mDefaultCredentialsError\u001b[0m                   Traceback (most recent call last)",
      "Input \u001b[0;32mIn [2]\u001b[0m, in \u001b[0;36m<cell line: 1>\u001b[0;34m()\u001b[0m\n\u001b[0;32m----> 1\u001b[0m client \u001b[38;5;241m=\u001b[39m \u001b[43mbigquery\u001b[49m\u001b[38;5;241;43m.\u001b[39;49m\u001b[43mClient\u001b[49m\u001b[43m(\u001b[49m\u001b[43mlocation\u001b[49m\u001b[38;5;241;43m=\u001b[39;49m\u001b[38;5;124;43m\"\u001b[39;49m\u001b[38;5;124;43mUS\u001b[39;49m\u001b[38;5;124;43m\"\u001b[39;49m\u001b[43m)\u001b[49m\n\u001b[1;32m      2\u001b[0m \u001b[38;5;28mprint\u001b[39m(\u001b[38;5;124m\"\u001b[39m\u001b[38;5;124mClient creating using default project: \u001b[39m\u001b[38;5;132;01m{}\u001b[39;00m\u001b[38;5;124m\"\u001b[39m\u001b[38;5;241m.\u001b[39mformat(client\u001b[38;5;241m.\u001b[39mproject))\n",
      "File \u001b[0;32m~/.pyenv/versions/3.9.10/envs/generic/lib/python3.9/site-packages/google/cloud/bigquery/client.py:231\u001b[0m, in \u001b[0;36mClient.__init__\u001b[0;34m(self, project, credentials, _http, location, default_query_job_config, client_info, client_options)\u001b[0m\n\u001b[1;32m    221\u001b[0m \u001b[38;5;28;01mdef\u001b[39;00m \u001b[38;5;21m__init__\u001b[39m(\n\u001b[1;32m    222\u001b[0m     \u001b[38;5;28mself\u001b[39m,\n\u001b[1;32m    223\u001b[0m     project\u001b[38;5;241m=\u001b[39m\u001b[38;5;28;01mNone\u001b[39;00m,\n\u001b[0;32m   (...)\u001b[0m\n\u001b[1;32m    229\u001b[0m     client_options\u001b[38;5;241m=\u001b[39m\u001b[38;5;28;01mNone\u001b[39;00m,\n\u001b[1;32m    230\u001b[0m ):\n\u001b[0;32m--> 231\u001b[0m     \u001b[38;5;28;43msuper\u001b[39;49m\u001b[43m(\u001b[49m\u001b[43mClient\u001b[49m\u001b[43m,\u001b[49m\u001b[43m \u001b[49m\u001b[38;5;28;43mself\u001b[39;49m\u001b[43m)\u001b[49m\u001b[38;5;241;43m.\u001b[39;49m\u001b[38;5;21;43m__init__\u001b[39;49m\u001b[43m(\u001b[49m\n\u001b[1;32m    232\u001b[0m \u001b[43m        \u001b[49m\u001b[43mproject\u001b[49m\u001b[38;5;241;43m=\u001b[39;49m\u001b[43mproject\u001b[49m\u001b[43m,\u001b[49m\n\u001b[1;32m    233\u001b[0m \u001b[43m        \u001b[49m\u001b[43mcredentials\u001b[49m\u001b[38;5;241;43m=\u001b[39;49m\u001b[43mcredentials\u001b[49m\u001b[43m,\u001b[49m\n\u001b[1;32m    234\u001b[0m \u001b[43m        \u001b[49m\u001b[43mclient_options\u001b[49m\u001b[38;5;241;43m=\u001b[39;49m\u001b[43mclient_options\u001b[49m\u001b[43m,\u001b[49m\n\u001b[1;32m    235\u001b[0m \u001b[43m        \u001b[49m\u001b[43m_http\u001b[49m\u001b[38;5;241;43m=\u001b[39;49m\u001b[43m_http\u001b[49m\u001b[43m,\u001b[49m\n\u001b[1;32m    236\u001b[0m \u001b[43m    \u001b[49m\u001b[43m)\u001b[49m\n\u001b[1;32m    238\u001b[0m     kw_args \u001b[38;5;241m=\u001b[39m {\u001b[38;5;124m\"\u001b[39m\u001b[38;5;124mclient_info\u001b[39m\u001b[38;5;124m\"\u001b[39m: client_info}\n\u001b[1;32m    239\u001b[0m     \u001b[38;5;28;01mif\u001b[39;00m client_options:\n",
      "File \u001b[0;32m~/.pyenv/versions/3.9.10/envs/generic/lib/python3.9/site-packages/google/cloud/client.py:318\u001b[0m, in \u001b[0;36mClientWithProject.__init__\u001b[0;34m(self, project, credentials, client_options, _http)\u001b[0m\n\u001b[1;32m    317\u001b[0m \u001b[38;5;28;01mdef\u001b[39;00m \u001b[38;5;21m__init__\u001b[39m(\u001b[38;5;28mself\u001b[39m, project\u001b[38;5;241m=\u001b[39m\u001b[38;5;28;01mNone\u001b[39;00m, credentials\u001b[38;5;241m=\u001b[39m\u001b[38;5;28;01mNone\u001b[39;00m, client_options\u001b[38;5;241m=\u001b[39m\u001b[38;5;28;01mNone\u001b[39;00m, _http\u001b[38;5;241m=\u001b[39m\u001b[38;5;28;01mNone\u001b[39;00m):\n\u001b[0;32m--> 318\u001b[0m     \u001b[43m_ClientProjectMixin\u001b[49m\u001b[38;5;241;43m.\u001b[39;49m\u001b[38;5;21;43m__init__\u001b[39;49m\u001b[43m(\u001b[49m\u001b[38;5;28;43mself\u001b[39;49m\u001b[43m,\u001b[49m\u001b[43m \u001b[49m\u001b[43mproject\u001b[49m\u001b[38;5;241;43m=\u001b[39;49m\u001b[43mproject\u001b[49m\u001b[43m,\u001b[49m\u001b[43m \u001b[49m\u001b[43mcredentials\u001b[49m\u001b[38;5;241;43m=\u001b[39;49m\u001b[43mcredentials\u001b[49m\u001b[43m)\u001b[49m\n\u001b[1;32m    319\u001b[0m     Client\u001b[38;5;241m.\u001b[39m\u001b[38;5;21m__init__\u001b[39m(\n\u001b[1;32m    320\u001b[0m         \u001b[38;5;28mself\u001b[39m, credentials\u001b[38;5;241m=\u001b[39mcredentials, client_options\u001b[38;5;241m=\u001b[39mclient_options, _http\u001b[38;5;241m=\u001b[39m_http\n\u001b[1;32m    321\u001b[0m     )\n",
      "File \u001b[0;32m~/.pyenv/versions/3.9.10/envs/generic/lib/python3.9/site-packages/google/cloud/client.py:266\u001b[0m, in \u001b[0;36m_ClientProjectMixin.__init__\u001b[0;34m(self, project, credentials)\u001b[0m\n\u001b[1;32m    263\u001b[0m     project \u001b[38;5;241m=\u001b[39m \u001b[38;5;28mgetattr\u001b[39m(credentials, \u001b[38;5;124m\"\u001b[39m\u001b[38;5;124mproject_id\u001b[39m\u001b[38;5;124m\"\u001b[39m, \u001b[38;5;28;01mNone\u001b[39;00m)\n\u001b[1;32m    265\u001b[0m \u001b[38;5;28;01mif\u001b[39;00m project \u001b[38;5;129;01mis\u001b[39;00m \u001b[38;5;28;01mNone\u001b[39;00m:\n\u001b[0;32m--> 266\u001b[0m     project \u001b[38;5;241m=\u001b[39m \u001b[38;5;28;43mself\u001b[39;49m\u001b[38;5;241;43m.\u001b[39;49m\u001b[43m_determine_default\u001b[49m\u001b[43m(\u001b[49m\u001b[43mproject\u001b[49m\u001b[43m)\u001b[49m\n\u001b[1;32m    268\u001b[0m \u001b[38;5;28;01mif\u001b[39;00m project \u001b[38;5;129;01mis\u001b[39;00m \u001b[38;5;28;01mNone\u001b[39;00m:\n\u001b[1;32m    269\u001b[0m     \u001b[38;5;28;01mraise\u001b[39;00m \u001b[38;5;167;01mEnvironmentError\u001b[39;00m(\n\u001b[1;32m    270\u001b[0m         \u001b[38;5;124m\"\u001b[39m\u001b[38;5;124mProject was not passed and could not be \u001b[39m\u001b[38;5;124m\"\u001b[39m\n\u001b[1;32m    271\u001b[0m         \u001b[38;5;124m\"\u001b[39m\u001b[38;5;124mdetermined from the environment.\u001b[39m\u001b[38;5;124m\"\u001b[39m\n\u001b[1;32m    272\u001b[0m     )\n",
      "File \u001b[0;32m~/.pyenv/versions/3.9.10/envs/generic/lib/python3.9/site-packages/google/cloud/client.py:285\u001b[0m, in \u001b[0;36m_ClientProjectMixin._determine_default\u001b[0;34m(project)\u001b[0m\n\u001b[1;32m    282\u001b[0m \u001b[38;5;129m@staticmethod\u001b[39m\n\u001b[1;32m    283\u001b[0m \u001b[38;5;28;01mdef\u001b[39;00m \u001b[38;5;21m_determine_default\u001b[39m(project):\n\u001b[1;32m    284\u001b[0m     \u001b[38;5;124;03m\"\"\"Helper:  use default project detection.\"\"\"\u001b[39;00m\n\u001b[0;32m--> 285\u001b[0m     \u001b[38;5;28;01mreturn\u001b[39;00m \u001b[43m_determine_default_project\u001b[49m\u001b[43m(\u001b[49m\u001b[43mproject\u001b[49m\u001b[43m)\u001b[49m\n",
      "File \u001b[0;32m~/.pyenv/versions/3.9.10/envs/generic/lib/python3.9/site-packages/google/cloud/_helpers.py:186\u001b[0m, in \u001b[0;36m_determine_default_project\u001b[0;34m(project)\u001b[0m\n\u001b[1;32m    174\u001b[0m \u001b[38;5;124;03m\"\"\"Determine default project ID explicitly or implicitly as fall-back.\u001b[39;00m\n\u001b[1;32m    175\u001b[0m \n\u001b[1;32m    176\u001b[0m \u001b[38;5;124;03mSee :func:`google.auth.default` for details on how the default project\u001b[39;00m\n\u001b[0;32m   (...)\u001b[0m\n\u001b[1;32m    183\u001b[0m \u001b[38;5;124;03m:returns: Default project if it can be determined.\u001b[39;00m\n\u001b[1;32m    184\u001b[0m \u001b[38;5;124;03m\"\"\"\u001b[39;00m\n\u001b[1;32m    185\u001b[0m \u001b[38;5;28;01mif\u001b[39;00m project \u001b[38;5;129;01mis\u001b[39;00m \u001b[38;5;28;01mNone\u001b[39;00m:\n\u001b[0;32m--> 186\u001b[0m     _, project \u001b[38;5;241m=\u001b[39m \u001b[43mgoogle\u001b[49m\u001b[38;5;241;43m.\u001b[39;49m\u001b[43mauth\u001b[49m\u001b[38;5;241;43m.\u001b[39;49m\u001b[43mdefault\u001b[49m\u001b[43m(\u001b[49m\u001b[43m)\u001b[49m\n\u001b[1;32m    187\u001b[0m \u001b[38;5;28;01mreturn\u001b[39;00m project\n",
      "File \u001b[0;32m~/.pyenv/versions/3.9.10/envs/generic/lib/python3.9/site-packages/google/auth/_default.py:488\u001b[0m, in \u001b[0;36mdefault\u001b[0;34m(scopes, request, quota_project_id, default_scopes)\u001b[0m\n\u001b[1;32m    480\u001b[0m             _LOGGER\u001b[38;5;241m.\u001b[39mwarning(\n\u001b[1;32m    481\u001b[0m                 \u001b[38;5;124m\"\u001b[39m\u001b[38;5;124mNo project ID could be determined. Consider running \u001b[39m\u001b[38;5;124m\"\u001b[39m\n\u001b[1;32m    482\u001b[0m                 \u001b[38;5;124m\"\u001b[39m\u001b[38;5;124m`gcloud config set project` or setting the \u001b[39m\u001b[38;5;132;01m%s\u001b[39;00m\u001b[38;5;124m \u001b[39m\u001b[38;5;124m\"\u001b[39m\n\u001b[1;32m    483\u001b[0m                 \u001b[38;5;124m\"\u001b[39m\u001b[38;5;124menvironment variable\u001b[39m\u001b[38;5;124m\"\u001b[39m,\n\u001b[1;32m    484\u001b[0m                 environment_vars\u001b[38;5;241m.\u001b[39mPROJECT,\n\u001b[1;32m    485\u001b[0m             )\n\u001b[1;32m    486\u001b[0m         \u001b[38;5;28;01mreturn\u001b[39;00m credentials, effective_project_id\n\u001b[0;32m--> 488\u001b[0m \u001b[38;5;28;01mraise\u001b[39;00m exceptions\u001b[38;5;241m.\u001b[39mDefaultCredentialsError(_HELP_MESSAGE)\n",
      "\u001b[0;31mDefaultCredentialsError\u001b[0m: Could not automatically determine credentials. Please set GOOGLE_APPLICATION_CREDENTIALS or explicitly create credentials and re-run the application. For more information, please see https://cloud.google.com/docs/authentication/getting-started"
     ]
    }
   ],
   "source": [
    "client = bigquery.Client(location=\"US\")\n",
    "print(\"Client creating using default project: {}\".format(client.project))"
   ]
  },
  {
   "cell_type": "code",
   "execution_count": null,
   "id": "741f3f20-a100-4309-9c67-ad2764d74f3b",
   "metadata": {},
   "outputs": [],
   "source": [
    "client = bigquery.Client(location=\"US\", project=\"ml-session\")"
   ]
  },
  {
   "cell_type": "markdown",
   "id": "50bc0bdd-c798-45f3-8b44-5af2244cab4b",
   "metadata": {},
   "source": [
    "# Example: Send a query to a Public dataset"
   ]
  },
  {
   "cell_type": "code",
   "execution_count": null,
   "id": "e1436d8f-ca1b-49e6-8b3a-045c5dc756bf",
   "metadata": {},
   "outputs": [],
   "source": [
    "query = \"\"\"\n",
    "SELECT\n",
    "  vendor_id,\n",
    "  passenger_count,\n",
    "  trip_distance,\n",
    "  rate_code,\n",
    "  payment_type,\n",
    "  total_amount,\n",
    "  tip_amount\n",
    "FROM\n",
    "  `bigquery-public-data.new_york_taxi_trips.tlc_yellow_trips_2018`\n",
    "WHERE tip_amount >= 0\n",
    "LIMIT 100\n",
    "\"\"\"\n",
    "query_job = client.query(\n",
    "    query,\n",
    "     location=\"US\",\n",
    ")\n",
    "\n",
    "df = query_job.to_dataframe()\n",
    "df.head(5)"
   ]
  },
  {
   "cell_type": "code",
   "execution_count": null,
   "id": "45234585-63d3-491a-b72d-f7ba36c5fd37",
   "metadata": {},
   "outputs": [],
   "source": [
    "df.passenger_count.describe()"
   ]
  },
  {
   "cell_type": "code",
   "execution_count": null,
   "id": "11b70a2b-fb0f-4d8b-b7f4-2ff2c5f63bca",
   "metadata": {},
   "outputs": [],
   "source": [
    "df.astype({'total_amount': float}).total_amount.describe()"
   ]
  },
  {
   "cell_type": "markdown",
   "id": "6ab563a1-e8d4-4454-850f-5cbbfc44ee13",
   "metadata": {},
   "source": [
    "# TMDB 5000 Movie Dataset\n",
    "https://www.kaggle.com/datasets/tmdb/tmdb-movie-metadata"
   ]
  },
  {
   "cell_type": "code",
   "execution_count": null,
   "id": "7e2a4310-b339-4d83-bb41-ec57999988f6",
   "metadata": {},
   "outputs": [],
   "source": [
    "# Reffered from the following URLs\n",
    "# https://www.kaggle.com/code/ibtesama/getting-started-with-a-movie-recommendation-system\n",
    "# https://www.kaggle.com/code/rafffael/geting-started-movie-recommendation-with-eda-demo"
   ]
  },
  {
   "cell_type": "markdown",
   "id": "8ee7ff52-2570-42d1-bef8-d264cb07b05e",
   "metadata": {
    "tags": []
   },
   "source": [
    "# Load data from Cloud Strage"
   ]
  },
  {
   "cell_type": "code",
   "execution_count": null,
   "id": "c8988725-c5ea-4591-b155-61464a364391",
   "metadata": {},
   "outputs": [],
   "source": [
    "from google.cloud import storage\n",
    "gcs_client = storage.Client(project=' ml-session')"
   ]
  },
  {
   "cell_type": "code",
   "execution_count": null,
   "id": "a1ef640a-d3c4-4b37-9885-cf9893093db9",
   "metadata": {},
   "outputs": [],
   "source": [
    "import pandas as pd \n",
    "import numpy as np\n",
    "# Get the uri from the left pane\n",
    "df_credits=pd.read_csv('gs://ml_session9/TMDB/tmdb_5000_credits.csv')\n",
    "df_movies=pd.read_csv(\"gs://ml_session9/TMDB/tmdb_5000_movies.csv\")"
   ]
  },
  {
   "cell_type": "code",
   "execution_count": null,
   "id": "2bd1c927-3677-4633-b422-794fc491cd7b",
   "metadata": {},
   "outputs": [],
   "source": [
    "df_credits.head()"
   ]
  },
  {
   "cell_type": "code",
   "execution_count": null,
   "id": "6c43b121-1742-4e30-87e8-1543771fb104",
   "metadata": {},
   "outputs": [],
   "source": [
    "df_movies.head(1)"
   ]
  },
  {
   "cell_type": "markdown",
   "id": "e6fd9ca2-2137-49bd-9657-333b49a8140c",
   "metadata": {},
   "source": [
    "The first dataset contains the following features:-\n",
    "\n",
    "- movie_id - A unique identifier for each movie.\n",
    "- cast - The name of lead and supporting actors.\n",
    "- crew - The name of Director, Editor, Composer, Writer etc.\n",
    "\n",
    "The second dataset has the following features:-\n",
    "- budget - The budget in which the movie was made.\n",
    "- genre - The genre of the movie, Action, Comedy ,Thriller etc.\n",
    "- homepage - A link to the homepage of the movie.\n",
    "- id - This is infact the movie_id as in the first dataset.\n",
    "- keywords - The keywords or tags related to the movie.\n",
    "- original_language - The language in which the movie was made.\n",
    "- original_title - The title of the movie before translation or adaptation.\n",
    "- overview - A brief description of the movie.\n",
    "- popularity - A numeric quantity specifying the movie popularity.\n",
    "- production_companies - The production house of the movie.\n",
    "- production_countries - The country in which it was produced.\n",
    "- release_date - The date on which it was released.\n",
    "- revenue - The worldwide revenue generated by the movie.\n",
    "- runtime - The running time of the movie in minutes.\n",
    "- status - \"Released\" or \"Rumored\".\n",
    "- tagline - Movie's tagline.\n",
    "- title - Title of the movie.\n",
    "- vote_average - average ratings the movie recieved.\n",
    "- vote_count - the count of votes recieved.\n",
    "Let's join the two dataset on the 'id' column"
   ]
  },
  {
   "cell_type": "code",
   "execution_count": null,
   "id": "25131296-5c1b-49e8-8ee0-3b8c3c3defc2",
   "metadata": {},
   "outputs": [],
   "source": [
    "df_credits.columns = ['id','title2','cast','crew']"
   ]
  },
  {
   "cell_type": "code",
   "execution_count": null,
   "id": "8fa98a56-f22c-4a46-9e60-9c1914a8ebc0",
   "metadata": {},
   "outputs": [],
   "source": [
    "df_movies= df_movies.merge(df_credits,on='id')"
   ]
  },
  {
   "cell_type": "code",
   "execution_count": null,
   "id": "6d96569d-7070-40aa-93d3-20ba53ca9cf2",
   "metadata": {},
   "outputs": [],
   "source": [
    "df_movies.head(1)"
   ]
  },
  {
   "cell_type": "code",
   "execution_count": null,
   "id": "c7c3698b-250a-400c-a4c0-a391737bed26",
   "metadata": {},
   "outputs": [],
   "source": [
    "!pip install ipywidgets --user"
   ]
  },
  {
   "cell_type": "code",
   "execution_count": null,
   "id": "0f26de87-c720-42db-8667-ba1c8a2b7339",
   "metadata": {},
   "outputs": [],
   "source": [
    "from pandas_profiling import ProfileReport"
   ]
  },
  {
   "cell_type": "code",
   "execution_count": null,
   "id": "04ac18b2-dfbc-482b-99f3-db9714a76b39",
   "metadata": {},
   "outputs": [],
   "source": [
    "report = ProfileReport(df_movies)"
   ]
  },
  {
   "cell_type": "code",
   "execution_count": null,
   "id": "b1c3b92c-84b0-4931-9e1e-9eb93ddc927f",
   "metadata": {},
   "outputs": [],
   "source": [
    "# convert date appropriate format\n",
    "df_movies[\"release_date\"] = pd.to_datetime(df_movies['release_date'])\n",
    "df_movies['release_year'] = df_movies['release_date'].dt.year\n",
    "df_movies['release_month'] = df_movies['release_date'].dt.month_name()\n",
    "del df_movies[\"release_date\"]"
   ]
  },
  {
   "cell_type": "code",
   "execution_count": null,
   "id": "7deee9a9-0209-4100-9c53-fbfcc50c51cf",
   "metadata": {},
   "outputs": [],
   "source": [
    "import json\n",
    "# transform all columns which had json string into json format\n",
    "# several columns has id and name\n",
    "# leave only name for them beacause id is not so important in this case\n",
    "json_columns = {'cast', 'crew', 'genres', 'keywords', 'production_countries', \n",
    "                'production_companies', 'spoken_languages'}\n",
    "\n",
    "for c in json_columns:\n",
    "    df_movies[c] = df_movies[c].apply(json.loads)\n",
    "    if c != \"crew\": # We need other information besides the name\n",
    "        df_movies[c] = df_movies[c].apply(lambda row: [x[\"name\"] for x in row])"
   ]
  },
  {
   "cell_type": "code",
   "execution_count": null,
   "id": "4ff8d887-38f7-4168-957d-8e7dbfd82b06",
   "metadata": {},
   "outputs": [],
   "source": [
    "pd.set_option(\"display.max_columns\", None)"
   ]
  },
  {
   "cell_type": "code",
   "execution_count": null,
   "id": "6deb6e70-5824-4733-b24e-4a46c4e7ee9c",
   "metadata": {},
   "outputs": [],
   "source": [
    "df_movies.head(1)"
   ]
  },
  {
   "cell_type": "code",
   "execution_count": null,
   "id": "e548aab4-0efe-428a-95ef-b4087936a145",
   "metadata": {},
   "outputs": [],
   "source": [
    "from functools import partial"
   ]
  },
  {
   "cell_type": "code",
   "execution_count": null,
   "id": "887f3945-8705-4ecc-84a1-4cdb8478b1c8",
   "metadata": {},
   "outputs": [],
   "source": [
    "# create director writer and producer columns \n",
    "def get_job(job, row):\n",
    "    person_name = [x['name'] for x in row if x['job']==job] \n",
    "    return person_name[0] if len(person_name) else np.nan\n",
    "\n",
    "df_movies[\"director\"] = df_movies[\"crew\"].apply(partial(get_job, \"Director\"))\n",
    "df_movies[\"writer\"]   = df_movies[\"crew\"].apply(partial(get_job, \"Writer\"))\n",
    "df_movies[\"producer\"] = df_movies[\"crew\"].apply(partial(get_job, \"Producer\"))\n",
    "del df_movies[\"crew\"]\n",
    "\n",
    "# create profit column\n",
    "df_movies[\"profit\"] = df_movies[\"revenue\"] - df_movies[\"budget\"]"
   ]
  },
  {
   "cell_type": "code",
   "execution_count": null,
   "id": "2f9525e9-b9f5-4b98-8853-4ada8a88e7bc",
   "metadata": {},
   "outputs": [],
   "source": [
    "# fill some missing values by most frequent one\n",
    "for col in [\"runtime\", \"release_year\", \"release_month\"]:\n",
    "    df_movies[col] = df_movies[col].fillna(df_movies[col].mode().iloc[0])"
   ]
  },
  {
   "cell_type": "code",
   "execution_count": null,
   "id": "c11da9fd-49c0-4d82-8560-21a68290b44b",
   "metadata": {},
   "outputs": [],
   "source": [
    "df_movies.head(1)"
   ]
  },
  {
   "cell_type": "code",
   "execution_count": null,
   "id": "472ce93c-7719-4cff-be16-0babf4803e00",
   "metadata": {},
   "outputs": [],
   "source": [
    "df_movies.head(1).keywords.sum()[:5]"
   ]
  },
  {
   "cell_type": "code",
   "execution_count": null,
   "id": "66ca05ff-85d9-4055-926e-8553889d6739",
   "metadata": {},
   "outputs": [],
   "source": [
    "# import numpy as np\n",
    "# import os\n",
    "# import pickle\n",
    "# from pywaffle import Waffle\n",
    "# import scipy\n",
    "# from sklearn.feature_extraction.text import TfidfVectorizer, CountVectorizer\n",
    "# from sklearn.metrics.pairwise import linear_kernel, cosine_similarity\n",
    "# pd.set_option(\"display.max_columns\", None)"
   ]
  },
  {
   "cell_type": "code",
   "execution_count": null,
   "id": "7474b786-3696-4636-a901-851ff231f3c4",
   "metadata": {},
   "outputs": [],
   "source": [
    "import matplotlib\n",
    "import matplotlib.pyplot as plt\n",
    "%matplotlib inline"
   ]
  },
  {
   "cell_type": "code",
   "execution_count": null,
   "id": "f785b647-b321-4365-ba70-25b492b5b84d",
   "metadata": {},
   "outputs": [],
   "source": [
    "top_movie_num = 10\n",
    "top_movies_based_on = [\"budget\", \"revenue\", \"profit\", \"vote_average\", \"vote_count\", \"popularity\"]\n",
    "\n",
    "fig, ax = plt.subplots(len(top_movies_based_on)//3, 3, figsize=(30,14))\n",
    "colors = plt.cm.get_cmap('viridis', top_movie_num)\n",
    "\n",
    "for i, col in enumerate(top_movies_based_on):\n",
    "    top_movies_by = df_movies.sort_values(by=[col], ascending=False).head(top_movie_num)\n",
    "    r, c = i//3, i%3\n",
    "    ax[r][c].barh(top_movies_by[\"title\"], top_movies_by[col], color=colors.colors)\n",
    "    ax[r][c].set_title(f\"top movies based on {col}\", fontsize=24, pad=20)\n",
    "    ax[r][c].tick_params(axis='both', which='major', labelsize=16)\n",
    "    ax[r][c].invert_yaxis()    \n",
    "    \n",
    "plt.suptitle('Top movies based on some features',fontsize=30, y=1)\n",
    "fig.tight_layout()"
   ]
  },
  {
   "cell_type": "code",
   "execution_count": null,
   "id": "61075c32-1009-4c05-97a8-220fbfa7d8ed",
   "metadata": {},
   "outputs": [],
   "source": [
    "!pip install squarify --user"
   ]
  },
  {
   "cell_type": "code",
   "execution_count": null,
   "id": "645ae755-4c16-4ea3-bdbf-8c3b6f201359",
   "metadata": {},
   "outputs": [],
   "source": [
    "from collections import defaultdict, Counter\n",
    "import squarify"
   ]
  },
  {
   "cell_type": "code",
   "execution_count": null,
   "id": "c673deb7-db30-4b99-a664-790cfa75d4ce",
   "metadata": {},
   "outputs": [],
   "source": [
    "df_movies[\"keywords\"][0][:5]"
   ]
  },
  {
   "cell_type": "code",
   "execution_count": null,
   "id": "c7dcbd1a-c5a3-4402-a117-db225047b278",
   "metadata": {},
   "outputs": [],
   "source": [
    "df_movies[\"genres\"][0]"
   ]
  },
  {
   "cell_type": "code",
   "execution_count": null,
   "id": "87c5bf85-abcf-4f6d-9498-28aa390c6d1b",
   "metadata": {},
   "outputs": [],
   "source": [
    "df_movies[\"original_language\"][0]"
   ]
  },
  {
   "cell_type": "code",
   "execution_count": null,
   "id": "d41cd875-904e-43c0-8871-0b83610173fe",
   "metadata": {},
   "outputs": [],
   "source": [
    "# plot genre frequncy with treemap \n",
    "genres_flatten = sum(df_movies[\"genres\"].values, []) # genres are list of lists\n",
    "genres_info = Counter(genres_flatten)\n",
    "\n",
    "plt.figure(figsize=(15, 10))\n",
    "plt.title(\"Genres\", fontsize=25, pad=20)\n",
    "squarify.plot(genres_info.values(), label=genres_info.keys(), text_kwargs={'fontsize':12}, bar_kwargs={'alpha':.7}, pad=True)\n",
    "plt.axis(\"off\");"
   ]
  },
  {
   "cell_type": "code",
   "execution_count": null,
   "id": "515396c5-9fed-481c-b337-b8c1ce8a3f5e",
   "metadata": {},
   "outputs": [],
   "source": [
    "top_genres_num = 15\n",
    "genres_flatten = sum(df_movies[\"genres\"].values, []) # genres are list of lists\n",
    "genres_info = Counter(genres_flatten)\n",
    "top_genres = dict(genres_info.most_common(top_genres_num))\n",
    "\n",
    "plt.figure(figsize=(20, 6))\n",
    "plt.xticks(rotation=85, fontsize=15)\n",
    "plt.yticks(fontsize=15)\n",
    "plt.ylabel(\"Nb. of occurences\", fontsize=18, labelpad=10)\n",
    "plt.bar(top_genres.keys(), top_genres.values(), align='center', color=plt.cm.get_cmap('plasma', top_genres_num).colors)\n",
    "# plt.bar(top_keywords.keys(), top_keywords.values(), align='center', color=plt.cm.get_cmap('plasma', top_keywords_num).colors)\n",
    "plt.title(\"Genres\", fontsize=25, pad=20)\n",
    "plt.show()"
   ]
  },
  {
   "cell_type": "code",
   "execution_count": null,
   "id": "8017743b-8e3a-491d-ab8c-1b298bca4519",
   "metadata": {},
   "outputs": [],
   "source": [
    "top_keywords_num = 30\n",
    "keywords_flatten = sum(df_movies[\"keywords\"].values, []) # keywords are list of lists\n",
    "keywords_info = Counter(keywords_flatten)\n",
    "top_keywords = dict(keywords_info.most_common(top_keywords_num))\n",
    "\n",
    "plt.figure(figsize=(20, 6))\n",
    "plt.xticks(rotation=85, fontsize=15)\n",
    "plt.yticks(fontsize=15)\n",
    "plt.ylabel(\"Nb. of occurences\", fontsize=18, labelpad=10)\n",
    "plt.bar(top_keywords.keys(), top_keywords.values(), align='center', color=plt.cm.get_cmap('plasma', top_keywords_num).colors)\n",
    "plt.title(\"Keywords popularity\", fontsize=25, pad=20)\n",
    "plt.show()"
   ]
  },
  {
   "cell_type": "code",
   "execution_count": null,
   "id": "27ad2513-1032-4267-873f-a90d3b1039a9",
   "metadata": {},
   "outputs": [],
   "source": [
    "df_movies[\"original_language\"].value_counts()[:5]"
   ]
  },
  {
   "cell_type": "code",
   "execution_count": null,
   "id": "f6d4e5ba-bc09-4652-9468-399650f3003e",
   "metadata": {},
   "outputs": [],
   "source": [
    "plt.figure(figsize=(20, 6))\n",
    "plt.xticks(rotation=85, fontsize=15)\n",
    "plt.yticks(fontsize=15)\n",
    "plt.ylabel(\"Nb. of occurences\", fontsize=18, labelpad=10)\n",
    "\n",
    "plt.bar(df_movies[\"original_language\"].value_counts()[:10].index,\n",
    "        df_movies[\"original_language\"].value_counts()[:10].values,\n",
    "        align='center', color=plt.cm.get_cmap('plasma', top_keywords_num).colors)\n",
    "\n",
    "plt.title(\"N of original language\", fontsize=25, pad=20)\n",
    "plt.show()"
   ]
  },
  {
   "cell_type": "code",
   "execution_count": null,
   "id": "4e2fcf60-5f3c-41ad-95b7-db46c2c16138",
   "metadata": {},
   "outputs": [],
   "source": [
    "df_movies[\"production_countries\"].values"
   ]
  },
  {
   "cell_type": "code",
   "execution_count": null,
   "id": "4a954ae8-a998-4f1f-96c3-20977c326b83",
   "metadata": {},
   "outputs": [],
   "source": [
    "top_contries_num = 10\n",
    "production_contries_flatten = sum(df_movies[\"production_countries\"].values, []) # production_countries are list of lists\n",
    "production_contries_info = Counter(production_contries_flatten)\n",
    "top_production_contries = production_contries_info.most_common(top_contries_num)\n",
    "\n",
    "plt.figure(figsize=(30, 8))\n",
    "plt.xticks(rotation=65, fontsize=15)\n",
    "plt.ylabel(\"Nb. of occurences\", fontsize=18)\n",
    "plt.title(\"Production countries\", fontsize=25, pad=20)\n",
    "plt.bar(dict(top_production_contries).keys(),\n",
    "        dict(top_production_contries).values(),\n",
    "        color=plt.cm.get_cmap('cividis', top_contries_num).colors);"
   ]
  },
  {
   "cell_type": "code",
   "execution_count": null,
   "id": "8f940a99-d9e6-4c28-b26b-3df05177ffcf",
   "metadata": {},
   "outputs": [],
   "source": [
    "top_companies_num = 15\n",
    "production_companies_flatten = sum(df_movies[\"production_companies\"].values, []) # production_companies are list of lists\n",
    "production_companies_info = Counter(production_companies_flatten)\n",
    "top_production_companies = production_companies_info.most_common(10)\n",
    "\n",
    "\n",
    "plt.figure(figsize=(30, 8))\n",
    "plt.xticks(rotation=65, fontsize=15)\n",
    "plt.ylabel(\"Nb. of occurences\", fontsize=18)\n",
    "plt.title(\"Production countries\", fontsize=25, pad=20)\n",
    "plt.bar(dict(top_production_companies).keys(),\n",
    "        dict(top_production_companies).values(),\n",
    "        color=plt.cm.get_cmap('cividis', top_companies_num).colors);\n",
    "\n",
    "# fig = plt.figure(\n",
    "#     FigureClass=Waffle, \n",
    "#     rows=30, \n",
    "#     values=dict(top_production_companies), \n",
    "#     legend={'loc': 'upper left', 'bbox_to_anchor': (1, 1)},\n",
    "#     icons='child', icon_size=14, \n",
    "#     icon_legend=True,\n",
    "#     figsize=(24,8)\n",
    "# )"
   ]
  },
  {
   "cell_type": "code",
   "execution_count": null,
   "id": "f7f92cb0-363e-4acd-b045-3791757eeee7",
   "metadata": {},
   "outputs": [],
   "source": [
    "!pip install wordcloud --user\n",
    "from wordcloud import WordCloud"
   ]
  },
  {
   "cell_type": "code",
   "execution_count": null,
   "id": "bdebe836-a7fc-4418-afa0-f3752fd748f7",
   "metadata": {},
   "outputs": [],
   "source": [
    "df_movies[\"cast\"].values[0][:5]"
   ]
  },
  {
   "cell_type": "code",
   "execution_count": null,
   "id": "415ad64d-3879-49f5-8c48-54c815f4c71f",
   "metadata": {},
   "outputs": [],
   "source": [
    "# plot unique cast frequency\n",
    "cast_flatten = sum(df_movies[\"cast\"].values, []) # cast are list of lists\n",
    "cast_info = Counter(cast_flatten)\n",
    "\n",
    "wordcloud = WordCloud(background_color='white')\n",
    "wordcloud.generate_from_frequencies(dict(cast_info.most_common(50)))\n",
    "\n",
    "plt.figure(figsize=(15,10))\n",
    "plt.title(\"Cast\", fontsize=25, pad=20)\n",
    "plt.imshow(wordcloud, interpolation=\"bilinear\")\n",
    "plt.axis(\"off\");"
   ]
  },
  {
   "cell_type": "code",
   "execution_count": null,
   "id": "5c5d9855-fbc9-4c6e-b5d7-b68e81c5c4df",
   "metadata": {},
   "outputs": [],
   "source": [
    "\n",
    "plt.xticks(fontsize=12)\n",
    "plt.ylabel(\"Nb. of occurences\", fontsize=14)\n",
    "plt.title(\"Movie release year\", fontsize=25, pad=20)\n",
    "df_movies[\"release_year\"].plot.hist(figsize=(15,5), bins=100);"
   ]
  },
  {
   "cell_type": "code",
   "execution_count": null,
   "id": "25fda507-2d32-498c-92e2-375efdd57d01",
   "metadata": {},
   "outputs": [],
   "source": [
    "matrix = df_movies[[\"budget\", \"popularity\", \"revenue\", \"runtime\", \"vote_average\", \"vote_count\"]].corr()\n",
    "\n",
    "f, ax = plt.subplots(figsize=(12, 10))\n",
    "plt.title(\"correlation between features\", fontsize=20, pad=20)\n",
    "plt.xticks(range(len(matrix.index)), matrix.index, fontsize=12)\n",
    "plt.yticks(range(len(matrix.index)), matrix.index, fontsize=12)\n",
    "\n",
    "# adding values\n",
    "for i in range(len(matrix.index)):\n",
    "    for j in range(len(matrix.index)):\n",
    "        text = ax.text(j, i, round(matrix.iloc[i, j],3), ha=\"center\", va=\"center\", color=\"w\", fontsize=12)\n",
    "        \n",
    "plt.imshow(matrix, cmap='coolwarm', interpolation='nearest')\n",
    "plt.colorbar();"
   ]
  },
  {
   "cell_type": "code",
   "execution_count": null,
   "id": "1f5000f8-3f38-4d65-9d4b-1021c977dd1f",
   "metadata": {},
   "outputs": [],
   "source": [
    "bq_table = df_movies[[\"budget\", \"popularity\", \"revenue\", \"runtime\", \"vote_average\", \"vote_count\"]]"
   ]
  },
  {
   "cell_type": "code",
   "execution_count": null,
   "id": "d6621977-ac79-4ccc-acea-f3f7bdf1df22",
   "metadata": {},
   "outputs": [],
   "source": [
    "bq_table.info()"
   ]
  },
  {
   "cell_type": "markdown",
   "id": "e1a2561f-8916-4401-9523-76d1f6b1ff11",
   "metadata": {},
   "source": [
    "# Load the dataframe to BigQuery"
   ]
  },
  {
   "cell_type": "code",
   "execution_count": null,
   "id": "f7a315e0-ec04-4cdc-ac10-2db72d31df70",
   "metadata": {},
   "outputs": [],
   "source": [
    "bq_table.head(1)"
   ]
  },
  {
   "cell_type": "code",
   "execution_count": null,
   "id": "4ac5cc13-798a-41ff-9005-8662a38a870e",
   "metadata": {},
   "outputs": [],
   "source": [
    "test = client.get_dataset(dataset_ref='session9')"
   ]
  },
  {
   "cell_type": "code",
   "execution_count": null,
   "id": "59d31867-7d4c-42f7-8bd4-80f4d1ccd7d2",
   "metadata": {},
   "outputs": [],
   "source": [
    "test"
   ]
  },
  {
   "cell_type": "code",
   "execution_count": null,
   "id": "29520435-7e49-49ee-b700-8844c09460dc",
   "metadata": {},
   "outputs": [],
   "source": [
    "dataset_id = 'session9'\n",
    "\n",
    "# dataset = client.create_dataset(dataset_id)  \n",
    "dataset = client.get_dataset(dataset_ref=dataset_id)"
   ]
  },
  {
   "cell_type": "code",
   "execution_count": null,
   "id": "9682f666-93fb-4cca-94b8-5cb54e60f3ec",
   "metadata": {},
   "outputs": [],
   "source": [
    "dataset"
   ]
  },
  {
   "cell_type": "code",
   "execution_count": null,
   "id": "6507bdd2-4bac-441c-a797-cb03f15c45ed",
   "metadata": {},
   "outputs": [],
   "source": [
    "# Optionally set explicit indices.\n",
    "# If indices are not specified, a column will be created for the default\n",
    "# indices created by pandas.\n",
    "# df = pandas.DataFrame(records, index=pandas.Index(index, name=\"wikidata_id\"))\n",
    "\n",
    "table_ref = dataset.table(\"movie_database2\")\n",
    "job = client.load_table_from_dataframe(bq_table, table_ref, location=\"US\")\n",
    "\n",
    "job.result()  # Waits for table load to complete.\n",
    "print(\"Loaded dataframe to {}\".format(table_ref.path))"
   ]
  },
  {
   "cell_type": "code",
   "execution_count": null,
   "id": "78b87b28-77b5-49e5-8062-b241f787fb70",
   "metadata": {},
   "outputs": [],
   "source": []
  },
  {
   "cell_type": "code",
   "execution_count": null,
   "id": "d268f622-bddc-4a4e-9ca2-f40385c57662",
   "metadata": {},
   "outputs": [],
   "source": [
    "query = \"\"\"\n",
    "SELECT\n",
    "  *\n",
    "FROM\n",
    "  `ml-session.session9.movie_database2`\n",
    "WHERE budget > 0\n",
    "LIMIT 100\n",
    "\"\"\"\n",
    "query_job = client.query(\n",
    "    query,\n",
    "     location=\"US\",\n",
    ")\n",
    "\n",
    "df = query_job.to_dataframe()\n",
    "df.head(5)"
   ]
  },
  {
   "cell_type": "code",
   "execution_count": null,
   "id": "7eaca4a2-5618-4bb3-a55e-bd14ba6437d0",
   "metadata": {},
   "outputs": [],
   "source": [
    "# revenue を予測するモデルを作成\n",
    "ml_query = \"\"\"\n",
    "CREATE OR REPLACE MODEL `session9.movie_revenue_pred`\n",
    "OPTIONS (model_type='boosted_tree_regressor',\n",
    "         input_label_cols=['revenue'],\n",
    "         max_iterations = 10,\n",
    "         tree_method = 'HIST',\n",
    "         subsample = 0.85,\n",
    "         enable_global_explain = TRUE\n",
    ") AS\n",
    "SELECT\n",
    "  *\n",
    "FROM\n",
    "  `ml-session.session9.movie_database2`\n",
    "WHERE budget > 0\n",
    "LIMIT 10000\n",
    "\"\"\"\n",
    "query_job = client.query(\n",
    "    query,\n",
    "     location=\"US\",\n",
    ")\n",
    "df = query_job.to_dataframe()"
   ]
  },
  {
   "cell_type": "code",
   "execution_count": null,
   "id": "e54ca174-460d-4be1-b0a5-ea15c5d3dd4d",
   "metadata": {},
   "outputs": [],
   "source": [
    "df"
   ]
  },
  {
   "cell_type": "code",
   "execution_count": null,
   "id": "5a9fc321-eb60-4988-a378-1267b9528b4c",
   "metadata": {},
   "outputs": [],
   "source": [
    "training_info = \"\"\"\n",
    "SELECT\n",
    "  training_run,\n",
    "  iteration,\n",
    "  loss,\n",
    "  eval_loss,\n",
    "  duration_ms,\n",
    "  learning_rate\n",
    "FROM\n",
    "  ML.TRAINING_INFO(MODEL `session9.movie_revenue_pred`)\n",
    "ORDER BY iteration ASC\n",
    "\"\"\"\n",
    "client.query(training_info).to_dataframe()"
   ]
  },
  {
   "cell_type": "code",
   "execution_count": null,
   "id": "1b1d9856-ddac-4c0a-a376-9e4b153f3754",
   "metadata": {},
   "outputs": [],
   "source": [
    "global_explain = \"\"\"\n",
    "SELECT\n",
    "  *\n",
    "FROM\n",
    "  ML.GLOBAL_EXPLAIN(MODEL `session9.movie_revenue_pred`)\n",
    "\"\"\"\n",
    "\n",
    "client.query(global_explain).to_dataframe()"
   ]
  },
  {
   "cell_type": "code",
   "execution_count": null,
   "id": "b320e614-d54a-4521-9757-a06796139d44",
   "metadata": {},
   "outputs": [],
   "source": [
    "explain_predict = \"\"\"\n",
    "SELECT *\n",
    "FROM\n",
    "ML.EXPLAIN_PREDICT(MODEL `session9.movie_revenue_pred`,\n",
    " (\n",
    " SELECT\n",
    "   25000000 AS budget,\n",
    "   14.613152 AS popularity,\n",
    "   137.0 AS runtime,\n",
    "   5.5 AS vote_average,\n",
    "   301 AS vote_count\n",
    "),\n",
    "STRUCT(6 AS top_k_features))\n",
    "\"\"\"\n",
    "client.query(explain_predict).to_dataframe()\n"
   ]
  },
  {
   "cell_type": "code",
   "execution_count": null,
   "id": "e793c3a8-63d3-45b6-97d1-2de76233b46e",
   "metadata": {},
   "outputs": [],
   "source": []
  },
  {
   "cell_type": "code",
   "execution_count": null,
   "id": "da18131f-f2e1-4891-8646-4e7f8aa402b4",
   "metadata": {},
   "outputs": [],
   "source": []
  },
  {
   "cell_type": "code",
   "execution_count": null,
   "id": "0827c0a6-2524-4a08-925b-c627c932551d",
   "metadata": {},
   "outputs": [],
   "source": [
    "# Delete the dataset and its contents\n",
    "client.delete_dataset(dataset, delete_contents=True)\n",
    "\n",
    "print('Deleted dataset: {}'.format(dataset.path))"
   ]
  },
  {
   "cell_type": "code",
   "execution_count": null,
   "id": "7da805c4-9c77-462c-89b5-4961651bfd59",
   "metadata": {},
   "outputs": [],
   "source": []
  },
  {
   "cell_type": "code",
   "execution_count": null,
   "id": "b968e648-f3e0-437d-9a4c-446d0925489a",
   "metadata": {},
   "outputs": [],
   "source": []
  }
 ],
 "metadata": {
  "environment": {
   "kernel": "python3",
   "name": "managed-notebooks.m90",
   "type": "gcloud",
   "uri": "gcr.io/deeplearning-platform-release/base-cu110:latest"
  },
  "kernelspec": {
   "display_name": "Python 3 (ipykernel)",
   "language": "python",
   "name": "python3"
  },
  "language_info": {
   "codemirror_mode": {
    "name": "ipython",
    "version": 3
   },
   "file_extension": ".py",
   "mimetype": "text/x-python",
   "name": "python",
   "nbconvert_exporter": "python",
   "pygments_lexer": "ipython3",
   "version": "3.9.10"
  }
 },
 "nbformat": 4,
 "nbformat_minor": 5
}
